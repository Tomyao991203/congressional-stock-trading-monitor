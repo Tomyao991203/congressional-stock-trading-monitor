{
 "cells": [
  {
   "cell_type": "code",
   "execution_count": 1,
   "metadata": {
    "collapsed": true,
    "pycharm": {
     "name": "#%%\n"
    },
    "trusted": false
   },
   "outputs": [],
   "source": [
    "import os\n",
    "os.chdir(r'/home/ubuntu/congressional-stock-trading-monitor/')"
   ]
  },
  {
   "cell_type": "code",
   "execution_count": 2,
   "outputs": [],
   "source": [
    "from cstm.database_helpers import get_db_connection, table_name\n",
    "from cstm.query import *"
   ],
   "metadata": {
    "collapsed": false,
    "pycharm": {
     "name": "#%%\n"
    }
   }
  },
  {
   "cell_type": "code",
   "execution_count": 2,
   "outputs": [],
   "source": [],
   "metadata": {
    "collapsed": false,
    "pycharm": {
     "name": "#%%\n"
    },
    "trusted": false
   }
  },
  {
   "cell_type": "code",
   "execution_count": 3,
   "outputs": [],
   "source": [
    "database_path = r\"database/database.db\""
   ],
   "metadata": {
    "collapsed": false,
    "pycharm": {
     "name": "#%%\n"
    },
    "trusted": false
   }
  },
  {
   "cell_type": "code",
   "execution_count": 4,
   "outputs": [],
   "source": [
    "cur = get_db_connection(database_path).cursor()"
   ],
   "metadata": {
    "collapsed": false,
    "pycharm": {
     "name": "#%%\n"
    },
    "trusted": false
   }
  },
  {
   "cell_type": "code",
   "execution_count": 5,
   "outputs": [],
   "source": [
    "temp_query = f\"SELECT company, ticker, id, member_name, transaction_date, \" \\\n",
    "             f\"CASE transaction_type WHEN 'P' THEN value_lb ELSE 0 END AS purchase_lb, \"\\\n",
    "             f\"CASE transaction_type WHEN 'P' THEN value_ub ELSE 0 END AS purchase_ub, \"\\\n",
    "             f\"CASE transaction_type WHEN 'S' THEN value_lb ELSE 0 END AS sale_lb, \"\\\n",
    "             f\"CASE transaction_type WHEN 'S' THEN value_ub ELSE 0 END AS sale_ub \"\\\n",
    "             f\"FROM {table_name} \"\n",
    "full_query = f\"WITH temp as ({temp_query}) \"\\\n",
    "             f\"SELECT \"\\\n",
    "             f\"COUNT(id) AS num_transactions, \"\\\n",
    "             f\"COUNT(DISTINCT member_name) AS num_members, \"\\\n",
    "             f\"SUM(purchase_lb) as purchase_lb, \"\\\n",
    "             f\"SUM(purchase_ub) as purchase_ub, \"\\\n",
    "             f\"SUM(sale_lb) as sale_lb, \"\\\n",
    "             f\"SUM(sale_ub) as sale_ub, \"\\\n",
    "             f\"strftime(\\'%d-%m-%Y\\', transaction_date) as transaction_date \"\\\n",
    "             f\"FROM temp \" \\\n",
    "             f\"WHERE transaction_date < \\'2022-01-01\\'\" \\\n",
    "             f\"GROUP BY transaction_date\""
   ],
   "metadata": {
    "collapsed": false,
    "pycharm": {
     "name": "#%%\n"
    },
    "trusted": false
   }
  },
  {
   "cell_type": "code",
   "execution_count": 8,
   "outputs": [
    {
     "name": "stdout",
     "output_type": "stream",
     "text": [
      "WITH temp as (SELECT company, ticker, id, member_name, transaction_date, CASE transaction_type WHEN 'P' THEN value_lb ELSE 0 END AS purchase_lb, CASE transaction_type WHEN 'P' THEN value_ub ELSE 0 END AS purchase_ub, CASE transaction_type WHEN 'S' THEN value_lb ELSE 0 END AS sale_lb, CASE transaction_type WHEN 'S' THEN value_ub ELSE 0 END AS sale_ub FROM all_transaction)SELECT COUNT(id) AS num_transactions, COUNT(DISTINCT member_name) AS num_members, SUM(purchase_lb) as purchase_lb, SUM(purchase_ub) as purchase_ub, SUM(sale_lb) as sale_lb, SUM(sale_ub) as sale_ub, strftime('%d-%m-%Y', transaction_date) as transaction_date  FROM temp WHERE (transaction_date BETWEEN '01-01-2013' AND '06-05-2022' AND ticker = 'None' AND member_name = 'None' AND company_name = 'None') GROUP BY transaction_date\n"
     ]
    }
   ],
   "source": [
    "from visualization.helper_functions import purchase_sale_sum_on_time\n",
    "from datetime import datetime\n",
    "\n",
    "date_upper = datetime.now()\n",
    "date_lower = datetime(2013,1,1)\n",
    "full_query = purchase_sale_sum_on_time(date_lower=date_lower, date_upper=date_upper, ticker=None,\n",
    "                                       company_name=None, member_name=None)\n",
    "\n",
    "print(full_query)\n"
   ],
   "metadata": {
    "collapsed": false,
    "pycharm": {
     "name": "#%%\n"
    }
   }
  },
  {
   "cell_type": "code",
   "execution_count": 7,
   "outputs": [
    {
     "ename": "OperationalError",
     "evalue": "no such column: company_name",
     "output_type": "error",
     "traceback": [
      "\u001B[0;31m---------------------------------------------------------------------------\u001B[0m",
      "\u001B[0;31mOperationalError\u001B[0m                          Traceback (most recent call last)",
      "\u001B[0;32m/tmp/ipykernel_60760/3135017000.py\u001B[0m in \u001B[0;36m<module>\u001B[0;34m\u001B[0m\n\u001B[0;32m----> 1\u001B[0;31m \u001B[0mdata\u001B[0m \u001B[0;34m=\u001B[0m \u001B[0mcur\u001B[0m\u001B[0;34m.\u001B[0m\u001B[0mexecute\u001B[0m\u001B[0;34m(\u001B[0m\u001B[0mfull_query\u001B[0m\u001B[0;34m)\u001B[0m\u001B[0;34m\u001B[0m\u001B[0;34m\u001B[0m\u001B[0m\n\u001B[0m\u001B[1;32m      2\u001B[0m \u001B[0mprint\u001B[0m\u001B[0;34m(\u001B[0m\u001B[0mtype\u001B[0m\u001B[0;34m(\u001B[0m\u001B[0mdata\u001B[0m\u001B[0;34m)\u001B[0m\u001B[0;34m)\u001B[0m\u001B[0;34m\u001B[0m\u001B[0;34m\u001B[0m\u001B[0m\n\u001B[1;32m      3\u001B[0m \u001B[0mcolumn_names\u001B[0m \u001B[0;34m=\u001B[0m \u001B[0;34m[\u001B[0m\u001B[0mcol\u001B[0m\u001B[0;34m[\u001B[0m\u001B[0;36m0\u001B[0m\u001B[0;34m]\u001B[0m \u001B[0;32mfor\u001B[0m \u001B[0mcol\u001B[0m \u001B[0;32min\u001B[0m \u001B[0mdata\u001B[0m\u001B[0;34m.\u001B[0m\u001B[0mdescription\u001B[0m\u001B[0;34m]\u001B[0m\u001B[0;34m\u001B[0m\u001B[0;34m\u001B[0m\u001B[0m\n\u001B[1;32m      4\u001B[0m \u001B[0mdata\u001B[0m \u001B[0;34m=\u001B[0m \u001B[0mdata\u001B[0m\u001B[0;34m.\u001B[0m\u001B[0mfetchall\u001B[0m\u001B[0;34m(\u001B[0m\u001B[0;34m)\u001B[0m\u001B[0;34m\u001B[0m\u001B[0;34m\u001B[0m\u001B[0m\n",
      "\u001B[0;31mOperationalError\u001B[0m: no such column: company_name"
     ]
    }
   ],
   "source": [
    "data = cur.execute(full_query)\n",
    "print(type(data))\n",
    "column_names = [col[0] for col in data.description]\n",
    "data = data.fetchall()"
   ],
   "metadata": {
    "collapsed": false,
    "pycharm": {
     "name": "#%%\n"
    },
    "trusted": false
   }
  },
  {
   "cell_type": "code",
   "execution_count": null,
   "outputs": [],
   "source": [
    "print(type(data[0]))"
   ],
   "metadata": {
    "collapsed": false,
    "pycharm": {
     "name": "#%%\n"
    }
   }
  },
  {
   "cell_type": "code",
   "execution_count": null,
   "outputs": [],
   "source": [
    "from datetime import datetime\n",
    "\n",
    "\n",
    "def convert_date_string_lst_to_datetime(string_lst: list[str], str_format: str) -> list[datetime]:\n",
    "    return [datetime.strptime(date_str, str_format) for date_str in string_lst]"
   ],
   "metadata": {
    "collapsed": false,
    "pycharm": {
     "name": "#%%\n"
    },
    "trusted": false
   }
  },
  {
   "cell_type": "code",
   "execution_count": null,
   "outputs": [],
   "source": [
    "print(column_names)"
   ],
   "metadata": {
    "collapsed": false,
    "pycharm": {
     "name": "#%%\n"
    },
    "trusted": false
   }
  },
  {
   "cell_type": "code",
   "execution_count": null,
   "outputs": [],
   "source": [
    "transaction_date = [row['transaction_date'] for row in data]\n",
    "print(transaction_date)\n",
    "purchase_lb = [row['purchase_lb'] for row in data]\n",
    "purchase_ub = [row['purchase_ub'] for row in data]\n",
    "sale_lb = [-row['sale_lb'] for row in data]\n",
    "sale_ub = [-row['sale_ub'] for row in data]\n",
    "transaction_date = convert_date_string_lst_to_datetime(transaction_date, '%d-%m-%Y')\n",
    "print(transaction_date)"
   ],
   "metadata": {
    "collapsed": false,
    "pycharm": {
     "name": "#%%\n"
    },
    "trusted": false
   }
  },
  {
   "cell_type": "code",
   "execution_count": null,
   "outputs": [],
   "source": [
    "import plotly.express as px\n",
    "import plotly.graph_objs as go\n",
    "from plotly.utils import PlotlyJSONEncoder\n",
    "import pandas\n",
    "from pandas import DataFrame"
   ],
   "metadata": {
    "collapsed": false,
    "pycharm": {
     "name": "#%%\n"
    },
    "trusted": false
   }
  },
  {
   "cell_type": "code",
   "execution_count": null,
   "outputs": [],
   "source": [
    "purchase_sales_lb_ub_df = DataFrame([transaction_date, purchase_lb, purchase_ub, sale_lb, sale_ub]).transpose()\n",
    "purchase_sales_lb_ub_df.columns = ['transaction_date', 'purchase_lb', 'purchase_ub', 'sale_lb', 'sale_ub']"
   ],
   "metadata": {
    "collapsed": false,
    "pycharm": {
     "name": "#%%\n"
    },
    "trusted": false
   }
  },
  {
   "cell_type": "code",
   "execution_count": null,
   "outputs": [],
   "source": [
    "print(purchase_sales_lb_ub_df.columns)"
   ],
   "metadata": {
    "collapsed": false,
    "pycharm": {
     "name": "#%%\n"
    },
    "trusted": false
   }
  },
  {
   "cell_type": "code",
   "execution_count": null,
   "outputs": [],
   "source": [
    "\n",
    "purchase_lb_graph = go.Histogram(x=purchase_sales_lb_ub_df['transaction_date'],\n",
    "                                 y=purchase_sales_lb_ub_df['purchase_lb'],\n",
    "                                 name='purchase_lb',\n",
    "                                 texttemplate=\"%{x}\", textfont_size=20)\n",
    "purchase_ub_graph = go.Histogram(x=purchase_sales_lb_ub_df['transaction_date'],\n",
    "                                 y=purchase_sales_lb_ub_df['purchase_ub'],\n",
    "                                 name='purchase_ub',\n",
    "                                 texttemplate=\"%{x}\", textfont_size=20)\n",
    "sale_lb_graph = go.Histogram(x=purchase_sales_lb_ub_df['transaction_date'],\n",
    "                             y=purchase_sales_lb_ub_df['sale_lb'],\n",
    "                             name='sale_lb',\n",
    "                             texttemplate=\"%{x}\", textfont_size=20)\n",
    "sale_ub_graph = go.Histogram(x=purchase_sales_lb_ub_df['transaction_date'],\n",
    "                             y=purchase_sales_lb_ub_df['sale_ub'],\n",
    "                             name='sale_ub',\n",
    "                             texttemplate=\"%{x}\", textfont_size=20)"
   ],
   "metadata": {
    "collapsed": false,
    "pycharm": {
     "name": "#%%\n"
    },
    "trusted": false
   }
  },
  {
   "cell_type": "code",
   "execution_count": null,
   "outputs": [],
   "source": [
    "fig = go.Figure()\n",
    "fig.add_trace(purchase_ub_graph)\n",
    "fig.add_trace(purchase_lb_graph)\n",
    "fig.add_trace(sale_ub_graph)\n",
    "fig.add_trace(sale_lb_graph)\n",
    "fig.update_layout(barmode='group')\n",
    "fig.update_traces(opacity=0.5)\n",
    "fig.show()"
   ],
   "metadata": {
    "collapsed": false,
    "pycharm": {
     "name": "#%%\n"
    },
    "trusted": false
   }
  },
  {
   "cell_type": "code",
   "execution_count": null,
   "outputs": [],
   "source": [
    "fig_alt = px.line(purchase_sales_lb_ub_df, x = 'transaction_date', y = ['purchase_lb', 'purchase_ub', 'sale_lb', 'sale_ub'])\n",
    "fig_alt.update_traces(mode='markers+lines')\n",
    "fig_alt.show()\n"
   ],
   "metadata": {
    "collapsed": false,
    "pycharm": {
     "name": "#%%\n"
    },
    "trusted": false
   }
  },
  {
   "cell_type": "code",
   "execution_count": null,
   "outputs": [],
   "source": [
    "fig_third = px.histogram(purchase_sales_lb_ub_df, x = 'transaction_date', y=purchase_sales_lb_ub_df.columns, barmode='overlay')\n",
    "fig_third.show()"
   ],
   "metadata": {
    "collapsed": false,
    "pycharm": {
     "name": "#%%\n"
    },
    "trusted": false
   }
  },
  {
   "cell_type": "code",
   "execution_count": null,
   "outputs": [],
   "source": [
    "print(type(fig_third))"
   ],
   "metadata": {
    "collapsed": false,
    "pycharm": {
     "name": "#%%\n"
    }
   }
  },
  {
   "cell_type": "code",
   "execution_count": null,
   "outputs": [],
   "source": [
    "import json"
   ],
   "metadata": {
    "collapsed": false,
    "pycharm": {
     "name": "#%%\n"
    }
   }
  },
  {
   "cell_type": "code",
   "execution_count": null,
   "outputs": [],
   "source": [
    "graphJSON = json.dumps(fig_third, cls=PlotlyJSONEncoder)"
   ],
   "metadata": {
    "collapsed": false,
    "pycharm": {
     "name": "#%%\n"
    }
   }
  },
  {
   "cell_type": "code",
   "execution_count": null,
   "outputs": [],
   "source": [
    "print(type(graphJSON))"
   ],
   "metadata": {
    "collapsed": false,
    "pycharm": {
     "name": "#%%\n"
    }
   }
  }
 ],
 "metadata": {
  "kernelspec": {
   "display_name": "Python 3",
   "language": "python",
   "name": "python3"
  },
  "language_info": {
   "codemirror_mode": {
    "name": "ipython",
    "version": 2
   },
   "file_extension": ".py",
   "mimetype": "text/x-python",
   "name": "python",
   "nbconvert_exporter": "python",
   "pygments_lexer": "ipython2",
   "version": "2.7.6"
  }
 },
 "nbformat": 4,
 "nbformat_minor": 0
}