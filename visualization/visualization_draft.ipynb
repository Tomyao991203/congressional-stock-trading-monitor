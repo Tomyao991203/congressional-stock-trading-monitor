{
 "cells": [
  {
   "cell_type": "code",
   "execution_count": 1,
   "metadata": {
    "collapsed": true,
    "pycharm": {
     "name": "#%%\n"
    },
    "trusted": false
   },
   "outputs": [],
   "source": [
    "from cstm.database_helpers import get_db_connection, table_name\n",
    "from cstm.query import *"
   ]
  },
  {
   "cell_type": "code",
   "execution_count": null,
   "outputs": [],
   "source": [],
   "metadata": {
    "collapsed": false,
    "pycharm": {
     "name": "#%%\n"
    },
    "trusted": false
   }
  },
  {
   "cell_type": "code",
   "execution_count": 2,
   "outputs": [],
   "source": [
    "database_path = r\"database/database.db\""
   ],
   "metadata": {
    "collapsed": false,
    "pycharm": {
     "name": "#%%\n"
    },
    "trusted": false
   }
  },
  {
   "cell_type": "code",
   "execution_count": 3,
   "outputs": [],
   "source": [
    "cur = get_db_connection(database_path).cursor()"
   ],
   "metadata": {
    "collapsed": false,
    "pycharm": {
     "name": "#%%\n"
    },
    "trusted": false
   }
  },
  {
   "cell_type": "code",
   "execution_count": 59,
   "outputs": [],
   "source": [
    "temp_query = f\"SELECT company, ticker, id, member_name, transaction_date, \" \\\n",
    "             f\"CASE transaction_type WHEN 'P' THEN value_lb ELSE 0 END AS purchase_lb, \"\\\n",
    "             f\"CASE transaction_type WHEN 'P' THEN value_ub ELSE 0 END AS purchase_ub, \"\\\n",
    "             f\"CASE transaction_type WHEN 'S' THEN value_lb ELSE 0 END AS sale_lb, \"\\\n",
    "             f\"CASE transaction_type WHEN 'S' THEN value_ub ELSE 0 END AS sale_ub \"\\\n",
    "             f\"FROM {table_name} \"\n",
    "full_query = f\"WITH temp as ({temp_query}) \"\\\n",
    "             f\"SELECT \"\\\n",
    "             f\"COUNT(id) AS num_transactions, \"\\\n",
    "             f\"COUNT(DISTINCT member_name) AS num_members, \"\\\n",
    "             f\"SUM(purchase_lb) as purchase_lb, \"\\\n",
    "             f\"SUM(purchase_ub) as purchase_ub, \"\\\n",
    "             f\"SUM(sale_lb) as sale_lb, \"\\\n",
    "             f\"SUM(sale_ub) as sale_ub, \"\\\n",
    "             f\"strftime(\\'%d-%m-%Y\\', transaction_date) as transaction_date \"\\\n",
    "             f\"FROM temp \" \\\n",
    "             f\"WHERE transaction_date < \\'2022-01-01\\'\" \\\n",
    "             f\"GROUP BY transaction_date\""
   ],
   "metadata": {
    "collapsed": false,
    "pycharm": {
     "name": "#%%\n"
    },
    "trusted": false
   }
  },
  {
   "cell_type": "code",
   "execution_count": 60,
   "outputs": [],
   "source": [
    "data = cur.execute(full_query)\n",
    "column_names = [col[0] for col in data.description]\n",
    "data = data.fetchall()"
   ],
   "metadata": {
    "collapsed": false,
    "pycharm": {
     "name": "#%%\n"
    },
    "trusted": false
   }
  },
  {
   "cell_type": "code",
   "execution_count": 56,
   "outputs": [],
   "source": [
    "from datetime import datetime\n",
    "\n",
    "\n",
    "def convert_date_string_lst_to_datetime(string_lst: list[str], str_format: str) -> list[datetime]:\n",
    "    return [datetime.strptime(date_str, str_format) for date_str in string_lst]"
   ],
   "metadata": {
    "collapsed": false,
    "pycharm": {
     "name": "#%%\n"
    },
    "trusted": false
   }
  },
  {
   "cell_type": "code",
   "execution_count": 91,
   "outputs": [
    {
     "name": "stdout",
     "output_type": "stream",
     "text": "['num_transactions', 'num_members', 'purchase_lb', 'purchase_ub', 'sale_lb', 'sale_ub', 'transaction_date']\n"
    }
   ],
   "source": [
    "print(column_names)"
   ],
   "metadata": {
    "collapsed": false,
    "pycharm": {
     "name": "#%%\n"
    },
    "trusted": false
   }
  },
  {
   "cell_type": "code",
   "execution_count": 61,
   "outputs": [
    {
     "name": "stdout",
     "output_type": "stream",
     "text": "['26-12-2013', '16-01-2014', '06-02-2014', '10-03-2014', '05-05-2014', '22-05-2014', '11-09-2014', '11-12-2014', '16-12-2014', '17-12-2014', '18-12-2014', '24-12-2014', '25-02-2015', '25-03-2015', '26-05-2015', '19-06-2015', '20-08-2015', '24-08-2015', '04-12-2015', '17-12-2015', '29-12-2015', '30-12-2015', '25-01-2016', '27-01-2016', '02-02-2016', '07-09-2016', '17-03-2017', '29-08-2017', '28-11-2018']\n[datetime.datetime(2013, 12, 26, 0, 0), datetime.datetime(2014, 1, 16, 0, 0), datetime.datetime(2014, 2, 6, 0, 0), datetime.datetime(2014, 3, 10, 0, 0), datetime.datetime(2014, 5, 5, 0, 0), datetime.datetime(2014, 5, 22, 0, 0), datetime.datetime(2014, 9, 11, 0, 0), datetime.datetime(2014, 12, 11, 0, 0), datetime.datetime(2014, 12, 16, 0, 0), datetime.datetime(2014, 12, 17, 0, 0), datetime.datetime(2014, 12, 18, 0, 0), datetime.datetime(2014, 12, 24, 0, 0), datetime.datetime(2015, 2, 25, 0, 0), datetime.datetime(2015, 3, 25, 0, 0), datetime.datetime(2015, 5, 26, 0, 0), datetime.datetime(2015, 6, 19, 0, 0), datetime.datetime(2015, 8, 20, 0, 0), datetime.datetime(2015, 8, 24, 0, 0), datetime.datetime(2015, 12, 4, 0, 0), datetime.datetime(2015, 12, 17, 0, 0), datetime.datetime(2015, 12, 29, 0, 0), datetime.datetime(2015, 12, 30, 0, 0), datetime.datetime(2016, 1, 25, 0, 0), datetime.datetime(2016, 1, 27, 0, 0), datetime.datetime(2016, 2, 2, 0, 0), datetime.datetime(2016, 9, 7, 0, 0), datetime.datetime(2017, 3, 17, 0, 0), datetime.datetime(2017, 8, 29, 0, 0), datetime.datetime(2018, 11, 28, 0, 0)]\n"
    }
   ],
   "source": [
    "transaction_date = [row['transaction_date'] for row in data]\n",
    "print(transaction_date)\n",
    "purchase_lb = [row['purchase_lb'] for row in data]\n",
    "purchase_ub = [row['purchase_ub'] for row in data]\n",
    "sale_lb = [-row['sale_lb'] for row in data]\n",
    "sale_ub = [-row['sale_ub'] for row in data]\n",
    "transaction_date = convert_date_string_lst_to_datetime(transaction_date, '%d-%m-%Y')\n",
    "print(transaction_date)"
   ],
   "metadata": {
    "collapsed": false,
    "pycharm": {
     "name": "#%%\n"
    },
    "trusted": false
   }
  },
  {
   "cell_type": "code",
   "execution_count": 62,
   "outputs": [],
   "source": [
    "import plotly.express as px\n",
    "import plotly.graph_objs as go\n",
    "import pandas\n",
    "from pandas import DataFrame"
   ],
   "metadata": {
    "collapsed": false,
    "pycharm": {
     "name": "#%%\n"
    },
    "trusted": false
   }
  },
  {
   "cell_type": "code",
   "execution_count": 63,
   "outputs": [],
   "source": [
    "purchase_sales_lb_ub_df = DataFrame([transaction_date, purchase_lb, purchase_ub, sale_lb, sale_ub]).transpose()\n",
    "purchase_sales_lb_ub_df.columns = ['transaction_date', 'purchase_lb', 'purchase_ub', 'sale_lb', 'sale_ub']"
   ],
   "metadata": {
    "collapsed": false,
    "pycharm": {
     "name": "#%%\n"
    },
    "trusted": false
   }
  },
  {
   "cell_type": "code",
   "execution_count": 35,
   "outputs": [
    {
     "name": "stdout",
     "output_type": "stream",
     "text": "Index(['transaction_date', 'purchase_lb', 'purchase_ub', 'sale_lb', 'sale_ub'], dtype='object')\n"
    }
   ],
   "source": [
    "print(purchase_sales_lb_ub_df.columns)"
   ],
   "metadata": {
    "collapsed": false,
    "pycharm": {
     "name": "#%%\n"
    },
    "trusted": false
   }
  },
  {
   "cell_type": "code",
   "execution_count": 64,
   "outputs": [],
   "source": [
    "purchase_lb_graph = go.Histogram(x=purchase_sales_lb_ub_df['transaction_date'],\n",
    "                                 y=purchase_sales_lb_ub_df['purchase_lb'],\n",
    "                                 name='purchase_lb',\n",
    "                                 texttemplate=\"%{x}\", textfont_size=20)\n",
    "purchase_ub_graph = go.Histogram(x=purchase_sales_lb_ub_df['transaction_date'],\n",
    "                                 y=purchase_sales_lb_ub_df['purchase_ub'],\n",
    "                                 name='purchase_ub',\n",
    "                                 texttemplate=\"%{x}\", textfont_size=20)\n",
    "sale_lb_graph = go.Histogram(x=purchase_sales_lb_ub_df['transaction_date'],\n",
    "                             y=purchase_sales_lb_ub_df['sale_lb'],\n",
    "                             name='sale_lb',\n",
    "                             texttemplate=\"%{x}\", textfont_size=20)\n",
    "sale_ub_graph = go.Histogram(x=purchase_sales_lb_ub_df['transaction_date'],\n",
    "                             y=purchase_sales_lb_ub_df['sale_ub'],\n",
    "                             name='sale_ub',\n",
    "                             texttemplate=\"%{x}\", textfont_size=20)"
   ],
   "metadata": {
    "collapsed": false,
    "pycharm": {
     "name": "#%%\n"
    },
    "trusted": false
   }
  },
  {
   "cell_type": "code",
   "execution_count": 65,
   "outputs": [
    {
     "data": {
      "application/vnd.plotly.v1+json": {
       "data": [
        {
         "name": "purchase_ub",
         "textfont": {
          "size": 20
         },
         "texttemplate": "%{x}",
         "x": [
          "2013-12-26T00:00:00",
          "2014-01-16T00:00:00",
          "2014-02-06T00:00:00",
          "2014-03-10T00:00:00",
          "2014-05-05T00:00:00",
          "2014-05-22T00:00:00",
          "2014-09-11T00:00:00",
          "2014-12-11T00:00:00",
          "2014-12-16T00:00:00",
          "2014-12-17T00:00:00",
          "2014-12-18T00:00:00",
          "2014-12-24T00:00:00",
          "2015-02-25T00:00:00",
          "2015-03-25T00:00:00",
          "2015-05-26T00:00:00",
          "2015-06-19T00:00:00",
          "2015-08-20T00:00:00",
          "2015-08-24T00:00:00",
          "2015-12-04T00:00:00",
          "2015-12-17T00:00:00",
          "2015-12-29T00:00:00",
          "2015-12-30T00:00:00",
          "2016-01-25T00:00:00",
          "2016-01-27T00:00:00",
          "2016-02-02T00:00:00",
          "2016-09-07T00:00:00",
          "2017-03-17T00:00:00",
          "2017-08-29T00:00:00",
          "2018-11-28T00:00:00"
         ],
         "y": [
          0,
          50000,
          0,
          0,
          0,
          0,
          0,
          15000,
          50000,
          0,
          15000,
          15000,
          50000,
          15000,
          30000,
          0,
          0,
          15000,
          0,
          15000,
          15000,
          0,
          15000,
          15000,
          15000,
          0,
          0,
          500000,
          0
         ],
         "type": "histogram",
         "opacity": 0.5
        },
        {
         "name": "purchase_lb",
         "textfont": {
          "size": 20
         },
         "texttemplate": "%{x}",
         "x": [
          "2013-12-26T00:00:00",
          "2014-01-16T00:00:00",
          "2014-02-06T00:00:00",
          "2014-03-10T00:00:00",
          "2014-05-05T00:00:00",
          "2014-05-22T00:00:00",
          "2014-09-11T00:00:00",
          "2014-12-11T00:00:00",
          "2014-12-16T00:00:00",
          "2014-12-17T00:00:00",
          "2014-12-18T00:00:00",
          "2014-12-24T00:00:00",
          "2015-02-25T00:00:00",
          "2015-03-25T00:00:00",
          "2015-05-26T00:00:00",
          "2015-06-19T00:00:00",
          "2015-08-20T00:00:00",
          "2015-08-24T00:00:00",
          "2015-12-04T00:00:00",
          "2015-12-17T00:00:00",
          "2015-12-29T00:00:00",
          "2015-12-30T00:00:00",
          "2016-01-25T00:00:00",
          "2016-01-27T00:00:00",
          "2016-02-02T00:00:00",
          "2016-09-07T00:00:00",
          "2017-03-17T00:00:00",
          "2017-08-29T00:00:00",
          "2018-11-28T00:00:00"
         ],
         "y": [
          0,
          15001,
          0,
          0,
          0,
          0,
          0,
          1001,
          15001,
          0,
          1001,
          1001,
          15001,
          1001,
          2002,
          0,
          0,
          1001,
          0,
          1001,
          1001,
          0,
          1001,
          1001,
          1001,
          0,
          0,
          250001,
          0
         ],
         "type": "histogram",
         "opacity": 0.5
        },
        {
         "name": "sale_ub",
         "textfont": {
          "size": 20
         },
         "texttemplate": "%{x}",
         "x": [
          "2013-12-26T00:00:00",
          "2014-01-16T00:00:00",
          "2014-02-06T00:00:00",
          "2014-03-10T00:00:00",
          "2014-05-05T00:00:00",
          "2014-05-22T00:00:00",
          "2014-09-11T00:00:00",
          "2014-12-11T00:00:00",
          "2014-12-16T00:00:00",
          "2014-12-17T00:00:00",
          "2014-12-18T00:00:00",
          "2014-12-24T00:00:00",
          "2015-02-25T00:00:00",
          "2015-03-25T00:00:00",
          "2015-05-26T00:00:00",
          "2015-06-19T00:00:00",
          "2015-08-20T00:00:00",
          "2015-08-24T00:00:00",
          "2015-12-04T00:00:00",
          "2015-12-17T00:00:00",
          "2015-12-29T00:00:00",
          "2015-12-30T00:00:00",
          "2016-01-25T00:00:00",
          "2016-01-27T00:00:00",
          "2016-02-02T00:00:00",
          "2016-09-07T00:00:00",
          "2017-03-17T00:00:00",
          "2017-08-29T00:00:00",
          "2018-11-28T00:00:00"
         ],
         "y": [
          -50000,
          0,
          -15000,
          -15000,
          -15000,
          -15000,
          -30000,
          0,
          0,
          -15000,
          0,
          0,
          0,
          0,
          0,
          -15000,
          -50000,
          0,
          0,
          0,
          0,
          -15000,
          0,
          0,
          0,
          -15000,
          -15000,
          0,
          -15000
         ],
         "type": "histogram",
         "opacity": 0.5
        },
        {
         "name": "sale_lb",
         "textfont": {
          "size": 20
         },
         "texttemplate": "%{x}",
         "x": [
          "2013-12-26T00:00:00",
          "2014-01-16T00:00:00",
          "2014-02-06T00:00:00",
          "2014-03-10T00:00:00",
          "2014-05-05T00:00:00",
          "2014-05-22T00:00:00",
          "2014-09-11T00:00:00",
          "2014-12-11T00:00:00",
          "2014-12-16T00:00:00",
          "2014-12-17T00:00:00",
          "2014-12-18T00:00:00",
          "2014-12-24T00:00:00",
          "2015-02-25T00:00:00",
          "2015-03-25T00:00:00",
          "2015-05-26T00:00:00",
          "2015-06-19T00:00:00",
          "2015-08-20T00:00:00",
          "2015-08-24T00:00:00",
          "2015-12-04T00:00:00",
          "2015-12-17T00:00:00",
          "2015-12-29T00:00:00",
          "2015-12-30T00:00:00",
          "2016-01-25T00:00:00",
          "2016-01-27T00:00:00",
          "2016-02-02T00:00:00",
          "2016-09-07T00:00:00",
          "2017-03-17T00:00:00",
          "2017-08-29T00:00:00",
          "2018-11-28T00:00:00"
         ],
         "y": [
          -15001,
          0,
          -1001,
          -1001,
          -1001,
          -1001,
          -2002,
          0,
          0,
          -1001,
          0,
          0,
          0,
          0,
          0,
          -1001,
          -15001,
          0,
          0,
          0,
          0,
          -1001,
          0,
          0,
          0,
          -1001,
          -1001,
          0,
          -1001
         ],
         "type": "histogram",
         "opacity": 0.5
        }
       ],
       "layout": {
        "template": {
         "data": {
          "histogram2dcontour": [
           {
            "type": "histogram2dcontour",
            "colorbar": {
             "outlinewidth": 0,
             "ticks": ""
            },
            "colorscale": [
             [
              0.0,
              "#0d0887"
             ],
             [
              0.1111111111111111,
              "#46039f"
             ],
             [
              0.2222222222222222,
              "#7201a8"
             ],
             [
              0.3333333333333333,
              "#9c179e"
             ],
             [
              0.4444444444444444,
              "#bd3786"
             ],
             [
              0.5555555555555556,
              "#d8576b"
             ],
             [
              0.6666666666666666,
              "#ed7953"
             ],
             [
              0.7777777777777778,
              "#fb9f3a"
             ],
             [
              0.8888888888888888,
              "#fdca26"
             ],
             [
              1.0,
              "#f0f921"
             ]
            ]
           }
          ],
          "choropleth": [
           {
            "type": "choropleth",
            "colorbar": {
             "outlinewidth": 0,
             "ticks": ""
            }
           }
          ],
          "histogram2d": [
           {
            "type": "histogram2d",
            "colorbar": {
             "outlinewidth": 0,
             "ticks": ""
            },
            "colorscale": [
             [
              0.0,
              "#0d0887"
             ],
             [
              0.1111111111111111,
              "#46039f"
             ],
             [
              0.2222222222222222,
              "#7201a8"
             ],
             [
              0.3333333333333333,
              "#9c179e"
             ],
             [
              0.4444444444444444,
              "#bd3786"
             ],
             [
              0.5555555555555556,
              "#d8576b"
             ],
             [
              0.6666666666666666,
              "#ed7953"
             ],
             [
              0.7777777777777778,
              "#fb9f3a"
             ],
             [
              0.8888888888888888,
              "#fdca26"
             ],
             [
              1.0,
              "#f0f921"
             ]
            ]
           }
          ],
          "heatmap": [
           {
            "type": "heatmap",
            "colorbar": {
             "outlinewidth": 0,
             "ticks": ""
            },
            "colorscale": [
             [
              0.0,
              "#0d0887"
             ],
             [
              0.1111111111111111,
              "#46039f"
             ],
             [
              0.2222222222222222,
              "#7201a8"
             ],
             [
              0.3333333333333333,
              "#9c179e"
             ],
             [
              0.4444444444444444,
              "#bd3786"
             ],
             [
              0.5555555555555556,
              "#d8576b"
             ],
             [
              0.6666666666666666,
              "#ed7953"
             ],
             [
              0.7777777777777778,
              "#fb9f3a"
             ],
             [
              0.8888888888888888,
              "#fdca26"
             ],
             [
              1.0,
              "#f0f921"
             ]
            ]
           }
          ],
          "heatmapgl": [
           {
            "type": "heatmapgl",
            "colorbar": {
             "outlinewidth": 0,
             "ticks": ""
            },
            "colorscale": [
             [
              0.0,
              "#0d0887"
             ],
             [
              0.1111111111111111,
              "#46039f"
             ],
             [
              0.2222222222222222,
              "#7201a8"
             ],
             [
              0.3333333333333333,
              "#9c179e"
             ],
             [
              0.4444444444444444,
              "#bd3786"
             ],
             [
              0.5555555555555556,
              "#d8576b"
             ],
             [
              0.6666666666666666,
              "#ed7953"
             ],
             [
              0.7777777777777778,
              "#fb9f3a"
             ],
             [
              0.8888888888888888,
              "#fdca26"
             ],
             [
              1.0,
              "#f0f921"
             ]
            ]
           }
          ],
          "contourcarpet": [
           {
            "type": "contourcarpet",
            "colorbar": {
             "outlinewidth": 0,
             "ticks": ""
            }
           }
          ],
          "contour": [
           {
            "type": "contour",
            "colorbar": {
             "outlinewidth": 0,
             "ticks": ""
            },
            "colorscale": [
             [
              0.0,
              "#0d0887"
             ],
             [
              0.1111111111111111,
              "#46039f"
             ],
             [
              0.2222222222222222,
              "#7201a8"
             ],
             [
              0.3333333333333333,
              "#9c179e"
             ],
             [
              0.4444444444444444,
              "#bd3786"
             ],
             [
              0.5555555555555556,
              "#d8576b"
             ],
             [
              0.6666666666666666,
              "#ed7953"
             ],
             [
              0.7777777777777778,
              "#fb9f3a"
             ],
             [
              0.8888888888888888,
              "#fdca26"
             ],
             [
              1.0,
              "#f0f921"
             ]
            ]
           }
          ],
          "surface": [
           {
            "type": "surface",
            "colorbar": {
             "outlinewidth": 0,
             "ticks": ""
            },
            "colorscale": [
             [
              0.0,
              "#0d0887"
             ],
             [
              0.1111111111111111,
              "#46039f"
             ],
             [
              0.2222222222222222,
              "#7201a8"
             ],
             [
              0.3333333333333333,
              "#9c179e"
             ],
             [
              0.4444444444444444,
              "#bd3786"
             ],
             [
              0.5555555555555556,
              "#d8576b"
             ],
             [
              0.6666666666666666,
              "#ed7953"
             ],
             [
              0.7777777777777778,
              "#fb9f3a"
             ],
             [
              0.8888888888888888,
              "#fdca26"
             ],
             [
              1.0,
              "#f0f921"
             ]
            ]
           }
          ],
          "mesh3d": [
           {
            "type": "mesh3d",
            "colorbar": {
             "outlinewidth": 0,
             "ticks": ""
            }
           }
          ],
          "scatter": [
           {
            "marker": {
             "line": {
              "color": "#283442"
             }
            },
            "type": "scatter"
           }
          ],
          "parcoords": [
           {
            "type": "parcoords",
            "line": {
             "colorbar": {
              "outlinewidth": 0,
              "ticks": ""
             }
            }
           }
          ],
          "scatterpolargl": [
           {
            "type": "scatterpolargl",
            "marker": {
             "colorbar": {
              "outlinewidth": 0,
              "ticks": ""
             }
            }
           }
          ],
          "bar": [
           {
            "error_x": {
             "color": "#f2f5fa"
            },
            "error_y": {
             "color": "#f2f5fa"
            },
            "marker": {
             "line": {
              "color": "rgb(17,17,17)",
              "width": 0.5
             },
             "pattern": {
              "fillmode": "overlay",
              "size": 10,
              "solidity": 0.2
             }
            },
            "type": "bar"
           }
          ],
          "scattergeo": [
           {
            "type": "scattergeo",
            "marker": {
             "colorbar": {
              "outlinewidth": 0,
              "ticks": ""
             }
            }
           }
          ],
          "scatterpolar": [
           {
            "type": "scatterpolar",
            "marker": {
             "colorbar": {
              "outlinewidth": 0,
              "ticks": ""
             }
            }
           }
          ],
          "histogram": [
           {
            "marker": {
             "pattern": {
              "fillmode": "overlay",
              "size": 10,
              "solidity": 0.2
             }
            },
            "type": "histogram"
           }
          ],
          "scattergl": [
           {
            "marker": {
             "line": {
              "color": "#283442"
             }
            },
            "type": "scattergl"
           }
          ],
          "scatter3d": [
           {
            "type": "scatter3d",
            "line": {
             "colorbar": {
              "outlinewidth": 0,
              "ticks": ""
             }
            },
            "marker": {
             "colorbar": {
              "outlinewidth": 0,
              "ticks": ""
             }
            }
           }
          ],
          "scattermapbox": [
           {
            "type": "scattermapbox",
            "marker": {
             "colorbar": {
              "outlinewidth": 0,
              "ticks": ""
             }
            }
           }
          ],
          "scatterternary": [
           {
            "type": "scatterternary",
            "marker": {
             "colorbar": {
              "outlinewidth": 0,
              "ticks": ""
             }
            }
           }
          ],
          "scattercarpet": [
           {
            "type": "scattercarpet",
            "marker": {
             "colorbar": {
              "outlinewidth": 0,
              "ticks": ""
             }
            }
           }
          ],
          "carpet": [
           {
            "aaxis": {
             "endlinecolor": "#A2B1C6",
             "gridcolor": "#506784",
             "linecolor": "#506784",
             "minorgridcolor": "#506784",
             "startlinecolor": "#A2B1C6"
            },
            "baxis": {
             "endlinecolor": "#A2B1C6",
             "gridcolor": "#506784",
             "linecolor": "#506784",
             "minorgridcolor": "#506784",
             "startlinecolor": "#A2B1C6"
            },
            "type": "carpet"
           }
          ],
          "table": [
           {
            "cells": {
             "fill": {
              "color": "#506784"
             },
             "line": {
              "color": "rgb(17,17,17)"
             }
            },
            "header": {
             "fill": {
              "color": "#2a3f5f"
             },
             "line": {
              "color": "rgb(17,17,17)"
             }
            },
            "type": "table"
           }
          ],
          "barpolar": [
           {
            "marker": {
             "line": {
              "color": "rgb(17,17,17)",
              "width": 0.5
             },
             "pattern": {
              "fillmode": "overlay",
              "size": 10,
              "solidity": 0.2
             }
            },
            "type": "barpolar"
           }
          ],
          "pie": [
           {
            "automargin": true,
            "type": "pie"
           }
          ]
         },
         "layout": {
          "autotypenumbers": "strict",
          "colorway": [
           "#636efa",
           "#EF553B",
           "#00cc96",
           "#ab63fa",
           "#FFA15A",
           "#19d3f3",
           "#FF6692",
           "#B6E880",
           "#FF97FF",
           "#FECB52"
          ],
          "font": {
           "color": "#f2f5fa"
          },
          "hovermode": "closest",
          "hoverlabel": {
           "align": "left"
          },
          "paper_bgcolor": "rgb(17,17,17)",
          "plot_bgcolor": "rgb(17,17,17)",
          "polar": {
           "bgcolor": "rgb(17,17,17)",
           "angularaxis": {
            "gridcolor": "#506784",
            "linecolor": "#506784",
            "ticks": ""
           },
           "radialaxis": {
            "gridcolor": "#506784",
            "linecolor": "#506784",
            "ticks": ""
           }
          },
          "ternary": {
           "bgcolor": "rgb(17,17,17)",
           "aaxis": {
            "gridcolor": "#506784",
            "linecolor": "#506784",
            "ticks": ""
           },
           "baxis": {
            "gridcolor": "#506784",
            "linecolor": "#506784",
            "ticks": ""
           },
           "caxis": {
            "gridcolor": "#506784",
            "linecolor": "#506784",
            "ticks": ""
           }
          },
          "coloraxis": {
           "colorbar": {
            "outlinewidth": 0,
            "ticks": ""
           }
          },
          "colorscale": {
           "sequential": [
            [
             0.0,
             "#0d0887"
            ],
            [
             0.1111111111111111,
             "#46039f"
            ],
            [
             0.2222222222222222,
             "#7201a8"
            ],
            [
             0.3333333333333333,
             "#9c179e"
            ],
            [
             0.4444444444444444,
             "#bd3786"
            ],
            [
             0.5555555555555556,
             "#d8576b"
            ],
            [
             0.6666666666666666,
             "#ed7953"
            ],
            [
             0.7777777777777778,
             "#fb9f3a"
            ],
            [
             0.8888888888888888,
             "#fdca26"
            ],
            [
             1.0,
             "#f0f921"
            ]
           ],
           "sequentialminus": [
            [
             0.0,
             "#0d0887"
            ],
            [
             0.1111111111111111,
             "#46039f"
            ],
            [
             0.2222222222222222,
             "#7201a8"
            ],
            [
             0.3333333333333333,
             "#9c179e"
            ],
            [
             0.4444444444444444,
             "#bd3786"
            ],
            [
             0.5555555555555556,
             "#d8576b"
            ],
            [
             0.6666666666666666,
             "#ed7953"
            ],
            [
             0.7777777777777778,
             "#fb9f3a"
            ],
            [
             0.8888888888888888,
             "#fdca26"
            ],
            [
             1.0,
             "#f0f921"
            ]
           ],
           "diverging": [
            [
             0,
             "#8e0152"
            ],
            [
             0.1,
             "#c51b7d"
            ],
            [
             0.2,
             "#de77ae"
            ],
            [
             0.3,
             "#f1b6da"
            ],
            [
             0.4,
             "#fde0ef"
            ],
            [
             0.5,
             "#f7f7f7"
            ],
            [
             0.6,
             "#e6f5d0"
            ],
            [
             0.7,
             "#b8e186"
            ],
            [
             0.8,
             "#7fbc41"
            ],
            [
             0.9,
             "#4d9221"
            ],
            [
             1,
             "#276419"
            ]
           ]
          },
          "xaxis": {
           "gridcolor": "#283442",
           "linecolor": "#506784",
           "ticks": "",
           "title": {
            "standoff": 15
           },
           "zerolinecolor": "#283442",
           "automargin": true,
           "zerolinewidth": 2
          },
          "yaxis": {
           "gridcolor": "#283442",
           "linecolor": "#506784",
           "ticks": "",
           "title": {
            "standoff": 15
           },
           "zerolinecolor": "#283442",
           "automargin": true,
           "zerolinewidth": 2
          },
          "scene": {
           "xaxis": {
            "backgroundcolor": "rgb(17,17,17)",
            "gridcolor": "#506784",
            "linecolor": "#506784",
            "showbackground": true,
            "ticks": "",
            "zerolinecolor": "#C8D4E3",
            "gridwidth": 2
           },
           "yaxis": {
            "backgroundcolor": "rgb(17,17,17)",
            "gridcolor": "#506784",
            "linecolor": "#506784",
            "showbackground": true,
            "ticks": "",
            "zerolinecolor": "#C8D4E3",
            "gridwidth": 2
           },
           "zaxis": {
            "backgroundcolor": "rgb(17,17,17)",
            "gridcolor": "#506784",
            "linecolor": "#506784",
            "showbackground": true,
            "ticks": "",
            "zerolinecolor": "#C8D4E3",
            "gridwidth": 2
           }
          },
          "shapedefaults": {
           "line": {
            "color": "#f2f5fa"
           }
          },
          "annotationdefaults": {
           "arrowcolor": "#f2f5fa",
           "arrowhead": 0,
           "arrowwidth": 1
          },
          "geo": {
           "bgcolor": "rgb(17,17,17)",
           "landcolor": "rgb(17,17,17)",
           "subunitcolor": "#506784",
           "showland": true,
           "showlakes": true,
           "lakecolor": "rgb(17,17,17)"
          },
          "title": {
           "x": 0.05
          },
          "updatemenudefaults": {
           "bgcolor": "#506784",
           "borderwidth": 0
          },
          "sliderdefaults": {
           "bgcolor": "#C8D4E3",
           "borderwidth": 1,
           "bordercolor": "rgb(17,17,17)",
           "tickwidth": 0
          },
          "mapbox": {
           "style": "dark"
          }
         }
        },
        "barmode": "group"
       },
       "config": {
        "plotlyServerURL": "https://plot.ly"
       }
      },
      "text/html": "<div>                            <div id=\"18557520-2c23-4a86-9928-543538ed663b\" class=\"plotly-graph-div\" style=\"height:525px; width:100%;\"></div>            <script type=\"text/javascript\">                require([\"plotly\"], function(Plotly) {                    window.PLOTLYENV=window.PLOTLYENV || {};                                    if (document.getElementById(\"18557520-2c23-4a86-9928-543538ed663b\")) {                    Plotly.newPlot(                        \"18557520-2c23-4a86-9928-543538ed663b\",                        [{\"name\":\"purchase_ub\",\"textfont\":{\"size\":20},\"texttemplate\":\"%{x}\",\"x\":[\"2013-12-26T00:00:00\",\"2014-01-16T00:00:00\",\"2014-02-06T00:00:00\",\"2014-03-10T00:00:00\",\"2014-05-05T00:00:00\",\"2014-05-22T00:00:00\",\"2014-09-11T00:00:00\",\"2014-12-11T00:00:00\",\"2014-12-16T00:00:00\",\"2014-12-17T00:00:00\",\"2014-12-18T00:00:00\",\"2014-12-24T00:00:00\",\"2015-02-25T00:00:00\",\"2015-03-25T00:00:00\",\"2015-05-26T00:00:00\",\"2015-06-19T00:00:00\",\"2015-08-20T00:00:00\",\"2015-08-24T00:00:00\",\"2015-12-04T00:00:00\",\"2015-12-17T00:00:00\",\"2015-12-29T00:00:00\",\"2015-12-30T00:00:00\",\"2016-01-25T00:00:00\",\"2016-01-27T00:00:00\",\"2016-02-02T00:00:00\",\"2016-09-07T00:00:00\",\"2017-03-17T00:00:00\",\"2017-08-29T00:00:00\",\"2018-11-28T00:00:00\"],\"y\":[0,50000,0,0,0,0,0,15000,50000,0,15000,15000,50000,15000,30000,0,0,15000,0,15000,15000,0,15000,15000,15000,0,0,500000,0],\"type\":\"histogram\",\"opacity\":0.5},{\"name\":\"purchase_lb\",\"textfont\":{\"size\":20},\"texttemplate\":\"%{x}\",\"x\":[\"2013-12-26T00:00:00\",\"2014-01-16T00:00:00\",\"2014-02-06T00:00:00\",\"2014-03-10T00:00:00\",\"2014-05-05T00:00:00\",\"2014-05-22T00:00:00\",\"2014-09-11T00:00:00\",\"2014-12-11T00:00:00\",\"2014-12-16T00:00:00\",\"2014-12-17T00:00:00\",\"2014-12-18T00:00:00\",\"2014-12-24T00:00:00\",\"2015-02-25T00:00:00\",\"2015-03-25T00:00:00\",\"2015-05-26T00:00:00\",\"2015-06-19T00:00:00\",\"2015-08-20T00:00:00\",\"2015-08-24T00:00:00\",\"2015-12-04T00:00:00\",\"2015-12-17T00:00:00\",\"2015-12-29T00:00:00\",\"2015-12-30T00:00:00\",\"2016-01-25T00:00:00\",\"2016-01-27T00:00:00\",\"2016-02-02T00:00:00\",\"2016-09-07T00:00:00\",\"2017-03-17T00:00:00\",\"2017-08-29T00:00:00\",\"2018-11-28T00:00:00\"],\"y\":[0,15001,0,0,0,0,0,1001,15001,0,1001,1001,15001,1001,2002,0,0,1001,0,1001,1001,0,1001,1001,1001,0,0,250001,0],\"type\":\"histogram\",\"opacity\":0.5},{\"name\":\"sale_ub\",\"textfont\":{\"size\":20},\"texttemplate\":\"%{x}\",\"x\":[\"2013-12-26T00:00:00\",\"2014-01-16T00:00:00\",\"2014-02-06T00:00:00\",\"2014-03-10T00:00:00\",\"2014-05-05T00:00:00\",\"2014-05-22T00:00:00\",\"2014-09-11T00:00:00\",\"2014-12-11T00:00:00\",\"2014-12-16T00:00:00\",\"2014-12-17T00:00:00\",\"2014-12-18T00:00:00\",\"2014-12-24T00:00:00\",\"2015-02-25T00:00:00\",\"2015-03-25T00:00:00\",\"2015-05-26T00:00:00\",\"2015-06-19T00:00:00\",\"2015-08-20T00:00:00\",\"2015-08-24T00:00:00\",\"2015-12-04T00:00:00\",\"2015-12-17T00:00:00\",\"2015-12-29T00:00:00\",\"2015-12-30T00:00:00\",\"2016-01-25T00:00:00\",\"2016-01-27T00:00:00\",\"2016-02-02T00:00:00\",\"2016-09-07T00:00:00\",\"2017-03-17T00:00:00\",\"2017-08-29T00:00:00\",\"2018-11-28T00:00:00\"],\"y\":[-50000,0,-15000,-15000,-15000,-15000,-30000,0,0,-15000,0,0,0,0,0,-15000,-50000,0,0,0,0,-15000,0,0,0,-15000,-15000,0,-15000],\"type\":\"histogram\",\"opacity\":0.5},{\"name\":\"sale_lb\",\"textfont\":{\"size\":20},\"texttemplate\":\"%{x}\",\"x\":[\"2013-12-26T00:00:00\",\"2014-01-16T00:00:00\",\"2014-02-06T00:00:00\",\"2014-03-10T00:00:00\",\"2014-05-05T00:00:00\",\"2014-05-22T00:00:00\",\"2014-09-11T00:00:00\",\"2014-12-11T00:00:00\",\"2014-12-16T00:00:00\",\"2014-12-17T00:00:00\",\"2014-12-18T00:00:00\",\"2014-12-24T00:00:00\",\"2015-02-25T00:00:00\",\"2015-03-25T00:00:00\",\"2015-05-26T00:00:00\",\"2015-06-19T00:00:00\",\"2015-08-20T00:00:00\",\"2015-08-24T00:00:00\",\"2015-12-04T00:00:00\",\"2015-12-17T00:00:00\",\"2015-12-29T00:00:00\",\"2015-12-30T00:00:00\",\"2016-01-25T00:00:00\",\"2016-01-27T00:00:00\",\"2016-02-02T00:00:00\",\"2016-09-07T00:00:00\",\"2017-03-17T00:00:00\",\"2017-08-29T00:00:00\",\"2018-11-28T00:00:00\"],\"y\":[-15001,0,-1001,-1001,-1001,-1001,-2002,0,0,-1001,0,0,0,0,0,-1001,-15001,0,0,0,0,-1001,0,0,0,-1001,-1001,0,-1001],\"type\":\"histogram\",\"opacity\":0.5}],                        {\"template\":{\"data\":{\"histogram2dcontour\":[{\"type\":\"histogram2dcontour\",\"colorbar\":{\"outlinewidth\":0,\"ticks\":\"\"},\"colorscale\":[[0.0,\"#0d0887\"],[0.1111111111111111,\"#46039f\"],[0.2222222222222222,\"#7201a8\"],[0.3333333333333333,\"#9c179e\"],[0.4444444444444444,\"#bd3786\"],[0.5555555555555556,\"#d8576b\"],[0.6666666666666666,\"#ed7953\"],[0.7777777777777778,\"#fb9f3a\"],[0.8888888888888888,\"#fdca26\"],[1.0,\"#f0f921\"]]}],\"choropleth\":[{\"type\":\"choropleth\",\"colorbar\":{\"outlinewidth\":0,\"ticks\":\"\"}}],\"histogram2d\":[{\"type\":\"histogram2d\",\"colorbar\":{\"outlinewidth\":0,\"ticks\":\"\"},\"colorscale\":[[0.0,\"#0d0887\"],[0.1111111111111111,\"#46039f\"],[0.2222222222222222,\"#7201a8\"],[0.3333333333333333,\"#9c179e\"],[0.4444444444444444,\"#bd3786\"],[0.5555555555555556,\"#d8576b\"],[0.6666666666666666,\"#ed7953\"],[0.7777777777777778,\"#fb9f3a\"],[0.8888888888888888,\"#fdca26\"],[1.0,\"#f0f921\"]]}],\"heatmap\":[{\"type\":\"heatmap\",\"colorbar\":{\"outlinewidth\":0,\"ticks\":\"\"},\"colorscale\":[[0.0,\"#0d0887\"],[0.1111111111111111,\"#46039f\"],[0.2222222222222222,\"#7201a8\"],[0.3333333333333333,\"#9c179e\"],[0.4444444444444444,\"#bd3786\"],[0.5555555555555556,\"#d8576b\"],[0.6666666666666666,\"#ed7953\"],[0.7777777777777778,\"#fb9f3a\"],[0.8888888888888888,\"#fdca26\"],[1.0,\"#f0f921\"]]}],\"heatmapgl\":[{\"type\":\"heatmapgl\",\"colorbar\":{\"outlinewidth\":0,\"ticks\":\"\"},\"colorscale\":[[0.0,\"#0d0887\"],[0.1111111111111111,\"#46039f\"],[0.2222222222222222,\"#7201a8\"],[0.3333333333333333,\"#9c179e\"],[0.4444444444444444,\"#bd3786\"],[0.5555555555555556,\"#d8576b\"],[0.6666666666666666,\"#ed7953\"],[0.7777777777777778,\"#fb9f3a\"],[0.8888888888888888,\"#fdca26\"],[1.0,\"#f0f921\"]]}],\"contourcarpet\":[{\"type\":\"contourcarpet\",\"colorbar\":{\"outlinewidth\":0,\"ticks\":\"\"}}],\"contour\":[{\"type\":\"contour\",\"colorbar\":{\"outlinewidth\":0,\"ticks\":\"\"},\"colorscale\":[[0.0,\"#0d0887\"],[0.1111111111111111,\"#46039f\"],[0.2222222222222222,\"#7201a8\"],[0.3333333333333333,\"#9c179e\"],[0.4444444444444444,\"#bd3786\"],[0.5555555555555556,\"#d8576b\"],[0.6666666666666666,\"#ed7953\"],[0.7777777777777778,\"#fb9f3a\"],[0.8888888888888888,\"#fdca26\"],[1.0,\"#f0f921\"]]}],\"surface\":[{\"type\":\"surface\",\"colorbar\":{\"outlinewidth\":0,\"ticks\":\"\"},\"colorscale\":[[0.0,\"#0d0887\"],[0.1111111111111111,\"#46039f\"],[0.2222222222222222,\"#7201a8\"],[0.3333333333333333,\"#9c179e\"],[0.4444444444444444,\"#bd3786\"],[0.5555555555555556,\"#d8576b\"],[0.6666666666666666,\"#ed7953\"],[0.7777777777777778,\"#fb9f3a\"],[0.8888888888888888,\"#fdca26\"],[1.0,\"#f0f921\"]]}],\"mesh3d\":[{\"type\":\"mesh3d\",\"colorbar\":{\"outlinewidth\":0,\"ticks\":\"\"}}],\"scatter\":[{\"marker\":{\"line\":{\"color\":\"#283442\"}},\"type\":\"scatter\"}],\"parcoords\":[{\"type\":\"parcoords\",\"line\":{\"colorbar\":{\"outlinewidth\":0,\"ticks\":\"\"}}}],\"scatterpolargl\":[{\"type\":\"scatterpolargl\",\"marker\":{\"colorbar\":{\"outlinewidth\":0,\"ticks\":\"\"}}}],\"bar\":[{\"error_x\":{\"color\":\"#f2f5fa\"},\"error_y\":{\"color\":\"#f2f5fa\"},\"marker\":{\"line\":{\"color\":\"rgb(17,17,17)\",\"width\":0.5},\"pattern\":{\"fillmode\":\"overlay\",\"size\":10,\"solidity\":0.2}},\"type\":\"bar\"}],\"scattergeo\":[{\"type\":\"scattergeo\",\"marker\":{\"colorbar\":{\"outlinewidth\":0,\"ticks\":\"\"}}}],\"scatterpolar\":[{\"type\":\"scatterpolar\",\"marker\":{\"colorbar\":{\"outlinewidth\":0,\"ticks\":\"\"}}}],\"histogram\":[{\"marker\":{\"pattern\":{\"fillmode\":\"overlay\",\"size\":10,\"solidity\":0.2}},\"type\":\"histogram\"}],\"scattergl\":[{\"marker\":{\"line\":{\"color\":\"#283442\"}},\"type\":\"scattergl\"}],\"scatter3d\":[{\"type\":\"scatter3d\",\"line\":{\"colorbar\":{\"outlinewidth\":0,\"ticks\":\"\"}},\"marker\":{\"colorbar\":{\"outlinewidth\":0,\"ticks\":\"\"}}}],\"scattermapbox\":[{\"type\":\"scattermapbox\",\"marker\":{\"colorbar\":{\"outlinewidth\":0,\"ticks\":\"\"}}}],\"scatterternary\":[{\"type\":\"scatterternary\",\"marker\":{\"colorbar\":{\"outlinewidth\":0,\"ticks\":\"\"}}}],\"scattercarpet\":[{\"type\":\"scattercarpet\",\"marker\":{\"colorbar\":{\"outlinewidth\":0,\"ticks\":\"\"}}}],\"carpet\":[{\"aaxis\":{\"endlinecolor\":\"#A2B1C6\",\"gridcolor\":\"#506784\",\"linecolor\":\"#506784\",\"minorgridcolor\":\"#506784\",\"startlinecolor\":\"#A2B1C6\"},\"baxis\":{\"endlinecolor\":\"#A2B1C6\",\"gridcolor\":\"#506784\",\"linecolor\":\"#506784\",\"minorgridcolor\":\"#506784\",\"startlinecolor\":\"#A2B1C6\"},\"type\":\"carpet\"}],\"table\":[{\"cells\":{\"fill\":{\"color\":\"#506784\"},\"line\":{\"color\":\"rgb(17,17,17)\"}},\"header\":{\"fill\":{\"color\":\"#2a3f5f\"},\"line\":{\"color\":\"rgb(17,17,17)\"}},\"type\":\"table\"}],\"barpolar\":[{\"marker\":{\"line\":{\"color\":\"rgb(17,17,17)\",\"width\":0.5},\"pattern\":{\"fillmode\":\"overlay\",\"size\":10,\"solidity\":0.2}},\"type\":\"barpolar\"}],\"pie\":[{\"automargin\":true,\"type\":\"pie\"}]},\"layout\":{\"autotypenumbers\":\"strict\",\"colorway\":[\"#636efa\",\"#EF553B\",\"#00cc96\",\"#ab63fa\",\"#FFA15A\",\"#19d3f3\",\"#FF6692\",\"#B6E880\",\"#FF97FF\",\"#FECB52\"],\"font\":{\"color\":\"#f2f5fa\"},\"hovermode\":\"closest\",\"hoverlabel\":{\"align\":\"left\"},\"paper_bgcolor\":\"rgb(17,17,17)\",\"plot_bgcolor\":\"rgb(17,17,17)\",\"polar\":{\"bgcolor\":\"rgb(17,17,17)\",\"angularaxis\":{\"gridcolor\":\"#506784\",\"linecolor\":\"#506784\",\"ticks\":\"\"},\"radialaxis\":{\"gridcolor\":\"#506784\",\"linecolor\":\"#506784\",\"ticks\":\"\"}},\"ternary\":{\"bgcolor\":\"rgb(17,17,17)\",\"aaxis\":{\"gridcolor\":\"#506784\",\"linecolor\":\"#506784\",\"ticks\":\"\"},\"baxis\":{\"gridcolor\":\"#506784\",\"linecolor\":\"#506784\",\"ticks\":\"\"},\"caxis\":{\"gridcolor\":\"#506784\",\"linecolor\":\"#506784\",\"ticks\":\"\"}},\"coloraxis\":{\"colorbar\":{\"outlinewidth\":0,\"ticks\":\"\"}},\"colorscale\":{\"sequential\":[[0.0,\"#0d0887\"],[0.1111111111111111,\"#46039f\"],[0.2222222222222222,\"#7201a8\"],[0.3333333333333333,\"#9c179e\"],[0.4444444444444444,\"#bd3786\"],[0.5555555555555556,\"#d8576b\"],[0.6666666666666666,\"#ed7953\"],[0.7777777777777778,\"#fb9f3a\"],[0.8888888888888888,\"#fdca26\"],[1.0,\"#f0f921\"]],\"sequentialminus\":[[0.0,\"#0d0887\"],[0.1111111111111111,\"#46039f\"],[0.2222222222222222,\"#7201a8\"],[0.3333333333333333,\"#9c179e\"],[0.4444444444444444,\"#bd3786\"],[0.5555555555555556,\"#d8576b\"],[0.6666666666666666,\"#ed7953\"],[0.7777777777777778,\"#fb9f3a\"],[0.8888888888888888,\"#fdca26\"],[1.0,\"#f0f921\"]],\"diverging\":[[0,\"#8e0152\"],[0.1,\"#c51b7d\"],[0.2,\"#de77ae\"],[0.3,\"#f1b6da\"],[0.4,\"#fde0ef\"],[0.5,\"#f7f7f7\"],[0.6,\"#e6f5d0\"],[0.7,\"#b8e186\"],[0.8,\"#7fbc41\"],[0.9,\"#4d9221\"],[1,\"#276419\"]]},\"xaxis\":{\"gridcolor\":\"#283442\",\"linecolor\":\"#506784\",\"ticks\":\"\",\"title\":{\"standoff\":15},\"zerolinecolor\":\"#283442\",\"automargin\":true,\"zerolinewidth\":2},\"yaxis\":{\"gridcolor\":\"#283442\",\"linecolor\":\"#506784\",\"ticks\":\"\",\"title\":{\"standoff\":15},\"zerolinecolor\":\"#283442\",\"automargin\":true,\"zerolinewidth\":2},\"scene\":{\"xaxis\":{\"backgroundcolor\":\"rgb(17,17,17)\",\"gridcolor\":\"#506784\",\"linecolor\":\"#506784\",\"showbackground\":true,\"ticks\":\"\",\"zerolinecolor\":\"#C8D4E3\",\"gridwidth\":2},\"yaxis\":{\"backgroundcolor\":\"rgb(17,17,17)\",\"gridcolor\":\"#506784\",\"linecolor\":\"#506784\",\"showbackground\":true,\"ticks\":\"\",\"zerolinecolor\":\"#C8D4E3\",\"gridwidth\":2},\"zaxis\":{\"backgroundcolor\":\"rgb(17,17,17)\",\"gridcolor\":\"#506784\",\"linecolor\":\"#506784\",\"showbackground\":true,\"ticks\":\"\",\"zerolinecolor\":\"#C8D4E3\",\"gridwidth\":2}},\"shapedefaults\":{\"line\":{\"color\":\"#f2f5fa\"}},\"annotationdefaults\":{\"arrowcolor\":\"#f2f5fa\",\"arrowhead\":0,\"arrowwidth\":1},\"geo\":{\"bgcolor\":\"rgb(17,17,17)\",\"landcolor\":\"rgb(17,17,17)\",\"subunitcolor\":\"#506784\",\"showland\":true,\"showlakes\":true,\"lakecolor\":\"rgb(17,17,17)\"},\"title\":{\"x\":0.05},\"updatemenudefaults\":{\"bgcolor\":\"#506784\",\"borderwidth\":0},\"sliderdefaults\":{\"bgcolor\":\"#C8D4E3\",\"borderwidth\":1,\"bordercolor\":\"rgb(17,17,17)\",\"tickwidth\":0},\"mapbox\":{\"style\":\"dark\"}}},\"barmode\":\"group\"},                        {\"responsive\": true}                    ).then(function(){\n                            \nvar gd = document.getElementById('18557520-2c23-4a86-9928-543538ed663b');\nvar x = new MutationObserver(function (mutations, observer) {{\n        var display = window.getComputedStyle(gd).display;\n        if (!display || display === 'none') {{\n            console.log([gd, 'removed!']);\n            Plotly.purge(gd);\n            observer.disconnect();\n        }}\n}});\n\n// Listen for the removal of the full notebook cells\nvar notebookContainer = gd.closest('#notebook-container');\nif (notebookContainer) {{\n    x.observe(notebookContainer, {childList: true});\n}}\n\n// Listen for the clearing of the current output cell\nvar outputEl = gd.closest('.output');\nif (outputEl) {{\n    x.observe(outputEl, {childList: true});\n}}\n\n                        })                };                });            </script>        </div>"
     },
     "metadata": {},
     "output_type": "display_data"
    }
   ],
   "source": [
    "fig = go.Figure()\n",
    "fig.add_trace(purchase_ub_graph)\n",
    "fig.add_trace(purchase_lb_graph)\n",
    "fig.add_trace(sale_ub_graph)\n",
    "fig.add_trace(sale_lb_graph)\n",
    "fig.update_layout(barmode='group')\n",
    "fig.update_traces(opacity=0.5)\n",
    "fig.show()"
   ],
   "metadata": {
    "collapsed": false,
    "pycharm": {
     "name": "#%%\n"
    },
    "trusted": false
   }
  },
  {
   "cell_type": "code",
   "execution_count": 66,
   "outputs": [
    {
     "data": {
      "application/vnd.plotly.v1+json": {
       "data": [
        {
         "hovertemplate": "variable=purchase_lb<br>transaction_date=%{x}<br>value=%{y}<extra></extra>",
         "legendgroup": "purchase_lb",
         "line": {
          "color": "#636efa",
          "dash": "solid"
         },
         "marker": {
          "symbol": "circle"
         },
         "mode": "markers+lines",
         "name": "purchase_lb",
         "orientation": "v",
         "showlegend": true,
         "x": [
          "2013-12-26T00:00:00",
          "2014-01-16T00:00:00",
          "2014-02-06T00:00:00",
          "2014-03-10T00:00:00",
          "2014-05-05T00:00:00",
          "2014-05-22T00:00:00",
          "2014-09-11T00:00:00",
          "2014-12-11T00:00:00",
          "2014-12-16T00:00:00",
          "2014-12-17T00:00:00",
          "2014-12-18T00:00:00",
          "2014-12-24T00:00:00",
          "2015-02-25T00:00:00",
          "2015-03-25T00:00:00",
          "2015-05-26T00:00:00",
          "2015-06-19T00:00:00",
          "2015-08-20T00:00:00",
          "2015-08-24T00:00:00",
          "2015-12-04T00:00:00",
          "2015-12-17T00:00:00",
          "2015-12-29T00:00:00",
          "2015-12-30T00:00:00",
          "2016-01-25T00:00:00",
          "2016-01-27T00:00:00",
          "2016-02-02T00:00:00",
          "2016-09-07T00:00:00",
          "2017-03-17T00:00:00",
          "2017-08-29T00:00:00",
          "2018-11-28T00:00:00"
         ],
         "xaxis": "x",
         "y": [
          0,
          15001,
          0,
          0,
          0,
          0,
          0,
          1001,
          15001,
          0,
          1001,
          1001,
          15001,
          1001,
          2002,
          0,
          0,
          1001,
          0,
          1001,
          1001,
          0,
          1001,
          1001,
          1001,
          0,
          0,
          250001,
          0
         ],
         "yaxis": "y",
         "type": "scatter"
        },
        {
         "hovertemplate": "variable=purchase_ub<br>transaction_date=%{x}<br>value=%{y}<extra></extra>",
         "legendgroup": "purchase_ub",
         "line": {
          "color": "#EF553B",
          "dash": "solid"
         },
         "marker": {
          "symbol": "circle"
         },
         "mode": "markers+lines",
         "name": "purchase_ub",
         "orientation": "v",
         "showlegend": true,
         "x": [
          "2013-12-26T00:00:00",
          "2014-01-16T00:00:00",
          "2014-02-06T00:00:00",
          "2014-03-10T00:00:00",
          "2014-05-05T00:00:00",
          "2014-05-22T00:00:00",
          "2014-09-11T00:00:00",
          "2014-12-11T00:00:00",
          "2014-12-16T00:00:00",
          "2014-12-17T00:00:00",
          "2014-12-18T00:00:00",
          "2014-12-24T00:00:00",
          "2015-02-25T00:00:00",
          "2015-03-25T00:00:00",
          "2015-05-26T00:00:00",
          "2015-06-19T00:00:00",
          "2015-08-20T00:00:00",
          "2015-08-24T00:00:00",
          "2015-12-04T00:00:00",
          "2015-12-17T00:00:00",
          "2015-12-29T00:00:00",
          "2015-12-30T00:00:00",
          "2016-01-25T00:00:00",
          "2016-01-27T00:00:00",
          "2016-02-02T00:00:00",
          "2016-09-07T00:00:00",
          "2017-03-17T00:00:00",
          "2017-08-29T00:00:00",
          "2018-11-28T00:00:00"
         ],
         "xaxis": "x",
         "y": [
          0,
          50000,
          0,
          0,
          0,
          0,
          0,
          15000,
          50000,
          0,
          15000,
          15000,
          50000,
          15000,
          30000,
          0,
          0,
          15000,
          0,
          15000,
          15000,
          0,
          15000,
          15000,
          15000,
          0,
          0,
          500000,
          0
         ],
         "yaxis": "y",
         "type": "scatter"
        },
        {
         "hovertemplate": "variable=sale_lb<br>transaction_date=%{x}<br>value=%{y}<extra></extra>",
         "legendgroup": "sale_lb",
         "line": {
          "color": "#00cc96",
          "dash": "solid"
         },
         "marker": {
          "symbol": "circle"
         },
         "mode": "markers+lines",
         "name": "sale_lb",
         "orientation": "v",
         "showlegend": true,
         "x": [
          "2013-12-26T00:00:00",
          "2014-01-16T00:00:00",
          "2014-02-06T00:00:00",
          "2014-03-10T00:00:00",
          "2014-05-05T00:00:00",
          "2014-05-22T00:00:00",
          "2014-09-11T00:00:00",
          "2014-12-11T00:00:00",
          "2014-12-16T00:00:00",
          "2014-12-17T00:00:00",
          "2014-12-18T00:00:00",
          "2014-12-24T00:00:00",
          "2015-02-25T00:00:00",
          "2015-03-25T00:00:00",
          "2015-05-26T00:00:00",
          "2015-06-19T00:00:00",
          "2015-08-20T00:00:00",
          "2015-08-24T00:00:00",
          "2015-12-04T00:00:00",
          "2015-12-17T00:00:00",
          "2015-12-29T00:00:00",
          "2015-12-30T00:00:00",
          "2016-01-25T00:00:00",
          "2016-01-27T00:00:00",
          "2016-02-02T00:00:00",
          "2016-09-07T00:00:00",
          "2017-03-17T00:00:00",
          "2017-08-29T00:00:00",
          "2018-11-28T00:00:00"
         ],
         "xaxis": "x",
         "y": [
          -15001,
          0,
          -1001,
          -1001,
          -1001,
          -1001,
          -2002,
          0,
          0,
          -1001,
          0,
          0,
          0,
          0,
          0,
          -1001,
          -15001,
          0,
          0,
          0,
          0,
          -1001,
          0,
          0,
          0,
          -1001,
          -1001,
          0,
          -1001
         ],
         "yaxis": "y",
         "type": "scatter"
        },
        {
         "hovertemplate": "variable=sale_ub<br>transaction_date=%{x}<br>value=%{y}<extra></extra>",
         "legendgroup": "sale_ub",
         "line": {
          "color": "#ab63fa",
          "dash": "solid"
         },
         "marker": {
          "symbol": "circle"
         },
         "mode": "markers+lines",
         "name": "sale_ub",
         "orientation": "v",
         "showlegend": true,
         "x": [
          "2013-12-26T00:00:00",
          "2014-01-16T00:00:00",
          "2014-02-06T00:00:00",
          "2014-03-10T00:00:00",
          "2014-05-05T00:00:00",
          "2014-05-22T00:00:00",
          "2014-09-11T00:00:00",
          "2014-12-11T00:00:00",
          "2014-12-16T00:00:00",
          "2014-12-17T00:00:00",
          "2014-12-18T00:00:00",
          "2014-12-24T00:00:00",
          "2015-02-25T00:00:00",
          "2015-03-25T00:00:00",
          "2015-05-26T00:00:00",
          "2015-06-19T00:00:00",
          "2015-08-20T00:00:00",
          "2015-08-24T00:00:00",
          "2015-12-04T00:00:00",
          "2015-12-17T00:00:00",
          "2015-12-29T00:00:00",
          "2015-12-30T00:00:00",
          "2016-01-25T00:00:00",
          "2016-01-27T00:00:00",
          "2016-02-02T00:00:00",
          "2016-09-07T00:00:00",
          "2017-03-17T00:00:00",
          "2017-08-29T00:00:00",
          "2018-11-28T00:00:00"
         ],
         "xaxis": "x",
         "y": [
          -50000,
          0,
          -15000,
          -15000,
          -15000,
          -15000,
          -30000,
          0,
          0,
          -15000,
          0,
          0,
          0,
          0,
          0,
          -15000,
          -50000,
          0,
          0,
          0,
          0,
          -15000,
          0,
          0,
          0,
          -15000,
          -15000,
          0,
          -15000
         ],
         "yaxis": "y",
         "type": "scatter"
        }
       ],
       "layout": {
        "template": {
         "data": {
          "histogram2dcontour": [
           {
            "type": "histogram2dcontour",
            "colorbar": {
             "outlinewidth": 0,
             "ticks": ""
            },
            "colorscale": [
             [
              0.0,
              "#0d0887"
             ],
             [
              0.1111111111111111,
              "#46039f"
             ],
             [
              0.2222222222222222,
              "#7201a8"
             ],
             [
              0.3333333333333333,
              "#9c179e"
             ],
             [
              0.4444444444444444,
              "#bd3786"
             ],
             [
              0.5555555555555556,
              "#d8576b"
             ],
             [
              0.6666666666666666,
              "#ed7953"
             ],
             [
              0.7777777777777778,
              "#fb9f3a"
             ],
             [
              0.8888888888888888,
              "#fdca26"
             ],
             [
              1.0,
              "#f0f921"
             ]
            ]
           }
          ],
          "choropleth": [
           {
            "type": "choropleth",
            "colorbar": {
             "outlinewidth": 0,
             "ticks": ""
            }
           }
          ],
          "histogram2d": [
           {
            "type": "histogram2d",
            "colorbar": {
             "outlinewidth": 0,
             "ticks": ""
            },
            "colorscale": [
             [
              0.0,
              "#0d0887"
             ],
             [
              0.1111111111111111,
              "#46039f"
             ],
             [
              0.2222222222222222,
              "#7201a8"
             ],
             [
              0.3333333333333333,
              "#9c179e"
             ],
             [
              0.4444444444444444,
              "#bd3786"
             ],
             [
              0.5555555555555556,
              "#d8576b"
             ],
             [
              0.6666666666666666,
              "#ed7953"
             ],
             [
              0.7777777777777778,
              "#fb9f3a"
             ],
             [
              0.8888888888888888,
              "#fdca26"
             ],
             [
              1.0,
              "#f0f921"
             ]
            ]
           }
          ],
          "heatmap": [
           {
            "type": "heatmap",
            "colorbar": {
             "outlinewidth": 0,
             "ticks": ""
            },
            "colorscale": [
             [
              0.0,
              "#0d0887"
             ],
             [
              0.1111111111111111,
              "#46039f"
             ],
             [
              0.2222222222222222,
              "#7201a8"
             ],
             [
              0.3333333333333333,
              "#9c179e"
             ],
             [
              0.4444444444444444,
              "#bd3786"
             ],
             [
              0.5555555555555556,
              "#d8576b"
             ],
             [
              0.6666666666666666,
              "#ed7953"
             ],
             [
              0.7777777777777778,
              "#fb9f3a"
             ],
             [
              0.8888888888888888,
              "#fdca26"
             ],
             [
              1.0,
              "#f0f921"
             ]
            ]
           }
          ],
          "heatmapgl": [
           {
            "type": "heatmapgl",
            "colorbar": {
             "outlinewidth": 0,
             "ticks": ""
            },
            "colorscale": [
             [
              0.0,
              "#0d0887"
             ],
             [
              0.1111111111111111,
              "#46039f"
             ],
             [
              0.2222222222222222,
              "#7201a8"
             ],
             [
              0.3333333333333333,
              "#9c179e"
             ],
             [
              0.4444444444444444,
              "#bd3786"
             ],
             [
              0.5555555555555556,
              "#d8576b"
             ],
             [
              0.6666666666666666,
              "#ed7953"
             ],
             [
              0.7777777777777778,
              "#fb9f3a"
             ],
             [
              0.8888888888888888,
              "#fdca26"
             ],
             [
              1.0,
              "#f0f921"
             ]
            ]
           }
          ],
          "contourcarpet": [
           {
            "type": "contourcarpet",
            "colorbar": {
             "outlinewidth": 0,
             "ticks": ""
            }
           }
          ],
          "contour": [
           {
            "type": "contour",
            "colorbar": {
             "outlinewidth": 0,
             "ticks": ""
            },
            "colorscale": [
             [
              0.0,
              "#0d0887"
             ],
             [
              0.1111111111111111,
              "#46039f"
             ],
             [
              0.2222222222222222,
              "#7201a8"
             ],
             [
              0.3333333333333333,
              "#9c179e"
             ],
             [
              0.4444444444444444,
              "#bd3786"
             ],
             [
              0.5555555555555556,
              "#d8576b"
             ],
             [
              0.6666666666666666,
              "#ed7953"
             ],
             [
              0.7777777777777778,
              "#fb9f3a"
             ],
             [
              0.8888888888888888,
              "#fdca26"
             ],
             [
              1.0,
              "#f0f921"
             ]
            ]
           }
          ],
          "surface": [
           {
            "type": "surface",
            "colorbar": {
             "outlinewidth": 0,
             "ticks": ""
            },
            "colorscale": [
             [
              0.0,
              "#0d0887"
             ],
             [
              0.1111111111111111,
              "#46039f"
             ],
             [
              0.2222222222222222,
              "#7201a8"
             ],
             [
              0.3333333333333333,
              "#9c179e"
             ],
             [
              0.4444444444444444,
              "#bd3786"
             ],
             [
              0.5555555555555556,
              "#d8576b"
             ],
             [
              0.6666666666666666,
              "#ed7953"
             ],
             [
              0.7777777777777778,
              "#fb9f3a"
             ],
             [
              0.8888888888888888,
              "#fdca26"
             ],
             [
              1.0,
              "#f0f921"
             ]
            ]
           }
          ],
          "mesh3d": [
           {
            "type": "mesh3d",
            "colorbar": {
             "outlinewidth": 0,
             "ticks": ""
            }
           }
          ],
          "scatter": [
           {
            "marker": {
             "line": {
              "color": "#283442"
             }
            },
            "type": "scatter"
           }
          ],
          "parcoords": [
           {
            "type": "parcoords",
            "line": {
             "colorbar": {
              "outlinewidth": 0,
              "ticks": ""
             }
            }
           }
          ],
          "scatterpolargl": [
           {
            "type": "scatterpolargl",
            "marker": {
             "colorbar": {
              "outlinewidth": 0,
              "ticks": ""
             }
            }
           }
          ],
          "bar": [
           {
            "error_x": {
             "color": "#f2f5fa"
            },
            "error_y": {
             "color": "#f2f5fa"
            },
            "marker": {
             "line": {
              "color": "rgb(17,17,17)",
              "width": 0.5
             },
             "pattern": {
              "fillmode": "overlay",
              "size": 10,
              "solidity": 0.2
             }
            },
            "type": "bar"
           }
          ],
          "scattergeo": [
           {
            "type": "scattergeo",
            "marker": {
             "colorbar": {
              "outlinewidth": 0,
              "ticks": ""
             }
            }
           }
          ],
          "scatterpolar": [
           {
            "type": "scatterpolar",
            "marker": {
             "colorbar": {
              "outlinewidth": 0,
              "ticks": ""
             }
            }
           }
          ],
          "histogram": [
           {
            "marker": {
             "pattern": {
              "fillmode": "overlay",
              "size": 10,
              "solidity": 0.2
             }
            },
            "type": "histogram"
           }
          ],
          "scattergl": [
           {
            "marker": {
             "line": {
              "color": "#283442"
             }
            },
            "type": "scattergl"
           }
          ],
          "scatter3d": [
           {
            "type": "scatter3d",
            "line": {
             "colorbar": {
              "outlinewidth": 0,
              "ticks": ""
             }
            },
            "marker": {
             "colorbar": {
              "outlinewidth": 0,
              "ticks": ""
             }
            }
           }
          ],
          "scattermapbox": [
           {
            "type": "scattermapbox",
            "marker": {
             "colorbar": {
              "outlinewidth": 0,
              "ticks": ""
             }
            }
           }
          ],
          "scatterternary": [
           {
            "type": "scatterternary",
            "marker": {
             "colorbar": {
              "outlinewidth": 0,
              "ticks": ""
             }
            }
           }
          ],
          "scattercarpet": [
           {
            "type": "scattercarpet",
            "marker": {
             "colorbar": {
              "outlinewidth": 0,
              "ticks": ""
             }
            }
           }
          ],
          "carpet": [
           {
            "aaxis": {
             "endlinecolor": "#A2B1C6",
             "gridcolor": "#506784",
             "linecolor": "#506784",
             "minorgridcolor": "#506784",
             "startlinecolor": "#A2B1C6"
            },
            "baxis": {
             "endlinecolor": "#A2B1C6",
             "gridcolor": "#506784",
             "linecolor": "#506784",
             "minorgridcolor": "#506784",
             "startlinecolor": "#A2B1C6"
            },
            "type": "carpet"
           }
          ],
          "table": [
           {
            "cells": {
             "fill": {
              "color": "#506784"
             },
             "line": {
              "color": "rgb(17,17,17)"
             }
            },
            "header": {
             "fill": {
              "color": "#2a3f5f"
             },
             "line": {
              "color": "rgb(17,17,17)"
             }
            },
            "type": "table"
           }
          ],
          "barpolar": [
           {
            "marker": {
             "line": {
              "color": "rgb(17,17,17)",
              "width": 0.5
             },
             "pattern": {
              "fillmode": "overlay",
              "size": 10,
              "solidity": 0.2
             }
            },
            "type": "barpolar"
           }
          ],
          "pie": [
           {
            "automargin": true,
            "type": "pie"
           }
          ]
         },
         "layout": {
          "autotypenumbers": "strict",
          "colorway": [
           "#636efa",
           "#EF553B",
           "#00cc96",
           "#ab63fa",
           "#FFA15A",
           "#19d3f3",
           "#FF6692",
           "#B6E880",
           "#FF97FF",
           "#FECB52"
          ],
          "font": {
           "color": "#f2f5fa"
          },
          "hovermode": "closest",
          "hoverlabel": {
           "align": "left"
          },
          "paper_bgcolor": "rgb(17,17,17)",
          "plot_bgcolor": "rgb(17,17,17)",
          "polar": {
           "bgcolor": "rgb(17,17,17)",
           "angularaxis": {
            "gridcolor": "#506784",
            "linecolor": "#506784",
            "ticks": ""
           },
           "radialaxis": {
            "gridcolor": "#506784",
            "linecolor": "#506784",
            "ticks": ""
           }
          },
          "ternary": {
           "bgcolor": "rgb(17,17,17)",
           "aaxis": {
            "gridcolor": "#506784",
            "linecolor": "#506784",
            "ticks": ""
           },
           "baxis": {
            "gridcolor": "#506784",
            "linecolor": "#506784",
            "ticks": ""
           },
           "caxis": {
            "gridcolor": "#506784",
            "linecolor": "#506784",
            "ticks": ""
           }
          },
          "coloraxis": {
           "colorbar": {
            "outlinewidth": 0,
            "ticks": ""
           }
          },
          "colorscale": {
           "sequential": [
            [
             0.0,
             "#0d0887"
            ],
            [
             0.1111111111111111,
             "#46039f"
            ],
            [
             0.2222222222222222,
             "#7201a8"
            ],
            [
             0.3333333333333333,
             "#9c179e"
            ],
            [
             0.4444444444444444,
             "#bd3786"
            ],
            [
             0.5555555555555556,
             "#d8576b"
            ],
            [
             0.6666666666666666,
             "#ed7953"
            ],
            [
             0.7777777777777778,
             "#fb9f3a"
            ],
            [
             0.8888888888888888,
             "#fdca26"
            ],
            [
             1.0,
             "#f0f921"
            ]
           ],
           "sequentialminus": [
            [
             0.0,
             "#0d0887"
            ],
            [
             0.1111111111111111,
             "#46039f"
            ],
            [
             0.2222222222222222,
             "#7201a8"
            ],
            [
             0.3333333333333333,
             "#9c179e"
            ],
            [
             0.4444444444444444,
             "#bd3786"
            ],
            [
             0.5555555555555556,
             "#d8576b"
            ],
            [
             0.6666666666666666,
             "#ed7953"
            ],
            [
             0.7777777777777778,
             "#fb9f3a"
            ],
            [
             0.8888888888888888,
             "#fdca26"
            ],
            [
             1.0,
             "#f0f921"
            ]
           ],
           "diverging": [
            [
             0,
             "#8e0152"
            ],
            [
             0.1,
             "#c51b7d"
            ],
            [
             0.2,
             "#de77ae"
            ],
            [
             0.3,
             "#f1b6da"
            ],
            [
             0.4,
             "#fde0ef"
            ],
            [
             0.5,
             "#f7f7f7"
            ],
            [
             0.6,
             "#e6f5d0"
            ],
            [
             0.7,
             "#b8e186"
            ],
            [
             0.8,
             "#7fbc41"
            ],
            [
             0.9,
             "#4d9221"
            ],
            [
             1,
             "#276419"
            ]
           ]
          },
          "xaxis": {
           "gridcolor": "#283442",
           "linecolor": "#506784",
           "ticks": "",
           "title": {
            "standoff": 15
           },
           "zerolinecolor": "#283442",
           "automargin": true,
           "zerolinewidth": 2
          },
          "yaxis": {
           "gridcolor": "#283442",
           "linecolor": "#506784",
           "ticks": "",
           "title": {
            "standoff": 15
           },
           "zerolinecolor": "#283442",
           "automargin": true,
           "zerolinewidth": 2
          },
          "scene": {
           "xaxis": {
            "backgroundcolor": "rgb(17,17,17)",
            "gridcolor": "#506784",
            "linecolor": "#506784",
            "showbackground": true,
            "ticks": "",
            "zerolinecolor": "#C8D4E3",
            "gridwidth": 2
           },
           "yaxis": {
            "backgroundcolor": "rgb(17,17,17)",
            "gridcolor": "#506784",
            "linecolor": "#506784",
            "showbackground": true,
            "ticks": "",
            "zerolinecolor": "#C8D4E3",
            "gridwidth": 2
           },
           "zaxis": {
            "backgroundcolor": "rgb(17,17,17)",
            "gridcolor": "#506784",
            "linecolor": "#506784",
            "showbackground": true,
            "ticks": "",
            "zerolinecolor": "#C8D4E3",
            "gridwidth": 2
           }
          },
          "shapedefaults": {
           "line": {
            "color": "#f2f5fa"
           }
          },
          "annotationdefaults": {
           "arrowcolor": "#f2f5fa",
           "arrowhead": 0,
           "arrowwidth": 1
          },
          "geo": {
           "bgcolor": "rgb(17,17,17)",
           "landcolor": "rgb(17,17,17)",
           "subunitcolor": "#506784",
           "showland": true,
           "showlakes": true,
           "lakecolor": "rgb(17,17,17)"
          },
          "title": {
           "x": 0.05
          },
          "updatemenudefaults": {
           "bgcolor": "#506784",
           "borderwidth": 0
          },
          "sliderdefaults": {
           "bgcolor": "#C8D4E3",
           "borderwidth": 1,
           "bordercolor": "rgb(17,17,17)",
           "tickwidth": 0
          },
          "mapbox": {
           "style": "dark"
          }
         }
        },
        "xaxis": {
         "anchor": "y",
         "domain": [
          0.0,
          1.0
         ],
         "title": {
          "text": "transaction_date"
         }
        },
        "yaxis": {
         "anchor": "x",
         "domain": [
          0.0,
          1.0
         ],
         "title": {
          "text": "value"
         }
        },
        "legend": {
         "title": {
          "text": "variable"
         },
         "tracegroupgap": 0
        },
        "margin": {
         "t": 60
        }
       },
       "config": {
        "plotlyServerURL": "https://plot.ly"
       }
      },
      "text/html": "<div>                            <div id=\"1f4a6368-96b6-4dd0-ae3b-8066edf9b56b\" class=\"plotly-graph-div\" style=\"height:525px; width:100%;\"></div>            <script type=\"text/javascript\">                require([\"plotly\"], function(Plotly) {                    window.PLOTLYENV=window.PLOTLYENV || {};                                    if (document.getElementById(\"1f4a6368-96b6-4dd0-ae3b-8066edf9b56b\")) {                    Plotly.newPlot(                        \"1f4a6368-96b6-4dd0-ae3b-8066edf9b56b\",                        [{\"hovertemplate\":\"variable=purchase_lb<br>transaction_date=%{x}<br>value=%{y}<extra></extra>\",\"legendgroup\":\"purchase_lb\",\"line\":{\"color\":\"#636efa\",\"dash\":\"solid\"},\"marker\":{\"symbol\":\"circle\"},\"mode\":\"markers+lines\",\"name\":\"purchase_lb\",\"orientation\":\"v\",\"showlegend\":true,\"x\":[\"2013-12-26T00:00:00\",\"2014-01-16T00:00:00\",\"2014-02-06T00:00:00\",\"2014-03-10T00:00:00\",\"2014-05-05T00:00:00\",\"2014-05-22T00:00:00\",\"2014-09-11T00:00:00\",\"2014-12-11T00:00:00\",\"2014-12-16T00:00:00\",\"2014-12-17T00:00:00\",\"2014-12-18T00:00:00\",\"2014-12-24T00:00:00\",\"2015-02-25T00:00:00\",\"2015-03-25T00:00:00\",\"2015-05-26T00:00:00\",\"2015-06-19T00:00:00\",\"2015-08-20T00:00:00\",\"2015-08-24T00:00:00\",\"2015-12-04T00:00:00\",\"2015-12-17T00:00:00\",\"2015-12-29T00:00:00\",\"2015-12-30T00:00:00\",\"2016-01-25T00:00:00\",\"2016-01-27T00:00:00\",\"2016-02-02T00:00:00\",\"2016-09-07T00:00:00\",\"2017-03-17T00:00:00\",\"2017-08-29T00:00:00\",\"2018-11-28T00:00:00\"],\"xaxis\":\"x\",\"y\":[0,15001,0,0,0,0,0,1001,15001,0,1001,1001,15001,1001,2002,0,0,1001,0,1001,1001,0,1001,1001,1001,0,0,250001,0],\"yaxis\":\"y\",\"type\":\"scatter\"},{\"hovertemplate\":\"variable=purchase_ub<br>transaction_date=%{x}<br>value=%{y}<extra></extra>\",\"legendgroup\":\"purchase_ub\",\"line\":{\"color\":\"#EF553B\",\"dash\":\"solid\"},\"marker\":{\"symbol\":\"circle\"},\"mode\":\"markers+lines\",\"name\":\"purchase_ub\",\"orientation\":\"v\",\"showlegend\":true,\"x\":[\"2013-12-26T00:00:00\",\"2014-01-16T00:00:00\",\"2014-02-06T00:00:00\",\"2014-03-10T00:00:00\",\"2014-05-05T00:00:00\",\"2014-05-22T00:00:00\",\"2014-09-11T00:00:00\",\"2014-12-11T00:00:00\",\"2014-12-16T00:00:00\",\"2014-12-17T00:00:00\",\"2014-12-18T00:00:00\",\"2014-12-24T00:00:00\",\"2015-02-25T00:00:00\",\"2015-03-25T00:00:00\",\"2015-05-26T00:00:00\",\"2015-06-19T00:00:00\",\"2015-08-20T00:00:00\",\"2015-08-24T00:00:00\",\"2015-12-04T00:00:00\",\"2015-12-17T00:00:00\",\"2015-12-29T00:00:00\",\"2015-12-30T00:00:00\",\"2016-01-25T00:00:00\",\"2016-01-27T00:00:00\",\"2016-02-02T00:00:00\",\"2016-09-07T00:00:00\",\"2017-03-17T00:00:00\",\"2017-08-29T00:00:00\",\"2018-11-28T00:00:00\"],\"xaxis\":\"x\",\"y\":[0,50000,0,0,0,0,0,15000,50000,0,15000,15000,50000,15000,30000,0,0,15000,0,15000,15000,0,15000,15000,15000,0,0,500000,0],\"yaxis\":\"y\",\"type\":\"scatter\"},{\"hovertemplate\":\"variable=sale_lb<br>transaction_date=%{x}<br>value=%{y}<extra></extra>\",\"legendgroup\":\"sale_lb\",\"line\":{\"color\":\"#00cc96\",\"dash\":\"solid\"},\"marker\":{\"symbol\":\"circle\"},\"mode\":\"markers+lines\",\"name\":\"sale_lb\",\"orientation\":\"v\",\"showlegend\":true,\"x\":[\"2013-12-26T00:00:00\",\"2014-01-16T00:00:00\",\"2014-02-06T00:00:00\",\"2014-03-10T00:00:00\",\"2014-05-05T00:00:00\",\"2014-05-22T00:00:00\",\"2014-09-11T00:00:00\",\"2014-12-11T00:00:00\",\"2014-12-16T00:00:00\",\"2014-12-17T00:00:00\",\"2014-12-18T00:00:00\",\"2014-12-24T00:00:00\",\"2015-02-25T00:00:00\",\"2015-03-25T00:00:00\",\"2015-05-26T00:00:00\",\"2015-06-19T00:00:00\",\"2015-08-20T00:00:00\",\"2015-08-24T00:00:00\",\"2015-12-04T00:00:00\",\"2015-12-17T00:00:00\",\"2015-12-29T00:00:00\",\"2015-12-30T00:00:00\",\"2016-01-25T00:00:00\",\"2016-01-27T00:00:00\",\"2016-02-02T00:00:00\",\"2016-09-07T00:00:00\",\"2017-03-17T00:00:00\",\"2017-08-29T00:00:00\",\"2018-11-28T00:00:00\"],\"xaxis\":\"x\",\"y\":[-15001,0,-1001,-1001,-1001,-1001,-2002,0,0,-1001,0,0,0,0,0,-1001,-15001,0,0,0,0,-1001,0,0,0,-1001,-1001,0,-1001],\"yaxis\":\"y\",\"type\":\"scatter\"},{\"hovertemplate\":\"variable=sale_ub<br>transaction_date=%{x}<br>value=%{y}<extra></extra>\",\"legendgroup\":\"sale_ub\",\"line\":{\"color\":\"#ab63fa\",\"dash\":\"solid\"},\"marker\":{\"symbol\":\"circle\"},\"mode\":\"markers+lines\",\"name\":\"sale_ub\",\"orientation\":\"v\",\"showlegend\":true,\"x\":[\"2013-12-26T00:00:00\",\"2014-01-16T00:00:00\",\"2014-02-06T00:00:00\",\"2014-03-10T00:00:00\",\"2014-05-05T00:00:00\",\"2014-05-22T00:00:00\",\"2014-09-11T00:00:00\",\"2014-12-11T00:00:00\",\"2014-12-16T00:00:00\",\"2014-12-17T00:00:00\",\"2014-12-18T00:00:00\",\"2014-12-24T00:00:00\",\"2015-02-25T00:00:00\",\"2015-03-25T00:00:00\",\"2015-05-26T00:00:00\",\"2015-06-19T00:00:00\",\"2015-08-20T00:00:00\",\"2015-08-24T00:00:00\",\"2015-12-04T00:00:00\",\"2015-12-17T00:00:00\",\"2015-12-29T00:00:00\",\"2015-12-30T00:00:00\",\"2016-01-25T00:00:00\",\"2016-01-27T00:00:00\",\"2016-02-02T00:00:00\",\"2016-09-07T00:00:00\",\"2017-03-17T00:00:00\",\"2017-08-29T00:00:00\",\"2018-11-28T00:00:00\"],\"xaxis\":\"x\",\"y\":[-50000,0,-15000,-15000,-15000,-15000,-30000,0,0,-15000,0,0,0,0,0,-15000,-50000,0,0,0,0,-15000,0,0,0,-15000,-15000,0,-15000],\"yaxis\":\"y\",\"type\":\"scatter\"}],                        {\"template\":{\"data\":{\"histogram2dcontour\":[{\"type\":\"histogram2dcontour\",\"colorbar\":{\"outlinewidth\":0,\"ticks\":\"\"},\"colorscale\":[[0.0,\"#0d0887\"],[0.1111111111111111,\"#46039f\"],[0.2222222222222222,\"#7201a8\"],[0.3333333333333333,\"#9c179e\"],[0.4444444444444444,\"#bd3786\"],[0.5555555555555556,\"#d8576b\"],[0.6666666666666666,\"#ed7953\"],[0.7777777777777778,\"#fb9f3a\"],[0.8888888888888888,\"#fdca26\"],[1.0,\"#f0f921\"]]}],\"choropleth\":[{\"type\":\"choropleth\",\"colorbar\":{\"outlinewidth\":0,\"ticks\":\"\"}}],\"histogram2d\":[{\"type\":\"histogram2d\",\"colorbar\":{\"outlinewidth\":0,\"ticks\":\"\"},\"colorscale\":[[0.0,\"#0d0887\"],[0.1111111111111111,\"#46039f\"],[0.2222222222222222,\"#7201a8\"],[0.3333333333333333,\"#9c179e\"],[0.4444444444444444,\"#bd3786\"],[0.5555555555555556,\"#d8576b\"],[0.6666666666666666,\"#ed7953\"],[0.7777777777777778,\"#fb9f3a\"],[0.8888888888888888,\"#fdca26\"],[1.0,\"#f0f921\"]]}],\"heatmap\":[{\"type\":\"heatmap\",\"colorbar\":{\"outlinewidth\":0,\"ticks\":\"\"},\"colorscale\":[[0.0,\"#0d0887\"],[0.1111111111111111,\"#46039f\"],[0.2222222222222222,\"#7201a8\"],[0.3333333333333333,\"#9c179e\"],[0.4444444444444444,\"#bd3786\"],[0.5555555555555556,\"#d8576b\"],[0.6666666666666666,\"#ed7953\"],[0.7777777777777778,\"#fb9f3a\"],[0.8888888888888888,\"#fdca26\"],[1.0,\"#f0f921\"]]}],\"heatmapgl\":[{\"type\":\"heatmapgl\",\"colorbar\":{\"outlinewidth\":0,\"ticks\":\"\"},\"colorscale\":[[0.0,\"#0d0887\"],[0.1111111111111111,\"#46039f\"],[0.2222222222222222,\"#7201a8\"],[0.3333333333333333,\"#9c179e\"],[0.4444444444444444,\"#bd3786\"],[0.5555555555555556,\"#d8576b\"],[0.6666666666666666,\"#ed7953\"],[0.7777777777777778,\"#fb9f3a\"],[0.8888888888888888,\"#fdca26\"],[1.0,\"#f0f921\"]]}],\"contourcarpet\":[{\"type\":\"contourcarpet\",\"colorbar\":{\"outlinewidth\":0,\"ticks\":\"\"}}],\"contour\":[{\"type\":\"contour\",\"colorbar\":{\"outlinewidth\":0,\"ticks\":\"\"},\"colorscale\":[[0.0,\"#0d0887\"],[0.1111111111111111,\"#46039f\"],[0.2222222222222222,\"#7201a8\"],[0.3333333333333333,\"#9c179e\"],[0.4444444444444444,\"#bd3786\"],[0.5555555555555556,\"#d8576b\"],[0.6666666666666666,\"#ed7953\"],[0.7777777777777778,\"#fb9f3a\"],[0.8888888888888888,\"#fdca26\"],[1.0,\"#f0f921\"]]}],\"surface\":[{\"type\":\"surface\",\"colorbar\":{\"outlinewidth\":0,\"ticks\":\"\"},\"colorscale\":[[0.0,\"#0d0887\"],[0.1111111111111111,\"#46039f\"],[0.2222222222222222,\"#7201a8\"],[0.3333333333333333,\"#9c179e\"],[0.4444444444444444,\"#bd3786\"],[0.5555555555555556,\"#d8576b\"],[0.6666666666666666,\"#ed7953\"],[0.7777777777777778,\"#fb9f3a\"],[0.8888888888888888,\"#fdca26\"],[1.0,\"#f0f921\"]]}],\"mesh3d\":[{\"type\":\"mesh3d\",\"colorbar\":{\"outlinewidth\":0,\"ticks\":\"\"}}],\"scatter\":[{\"marker\":{\"line\":{\"color\":\"#283442\"}},\"type\":\"scatter\"}],\"parcoords\":[{\"type\":\"parcoords\",\"line\":{\"colorbar\":{\"outlinewidth\":0,\"ticks\":\"\"}}}],\"scatterpolargl\":[{\"type\":\"scatterpolargl\",\"marker\":{\"colorbar\":{\"outlinewidth\":0,\"ticks\":\"\"}}}],\"bar\":[{\"error_x\":{\"color\":\"#f2f5fa\"},\"error_y\":{\"color\":\"#f2f5fa\"},\"marker\":{\"line\":{\"color\":\"rgb(17,17,17)\",\"width\":0.5},\"pattern\":{\"fillmode\":\"overlay\",\"size\":10,\"solidity\":0.2}},\"type\":\"bar\"}],\"scattergeo\":[{\"type\":\"scattergeo\",\"marker\":{\"colorbar\":{\"outlinewidth\":0,\"ticks\":\"\"}}}],\"scatterpolar\":[{\"type\":\"scatterpolar\",\"marker\":{\"colorbar\":{\"outlinewidth\":0,\"ticks\":\"\"}}}],\"histogram\":[{\"marker\":{\"pattern\":{\"fillmode\":\"overlay\",\"size\":10,\"solidity\":0.2}},\"type\":\"histogram\"}],\"scattergl\":[{\"marker\":{\"line\":{\"color\":\"#283442\"}},\"type\":\"scattergl\"}],\"scatter3d\":[{\"type\":\"scatter3d\",\"line\":{\"colorbar\":{\"outlinewidth\":0,\"ticks\":\"\"}},\"marker\":{\"colorbar\":{\"outlinewidth\":0,\"ticks\":\"\"}}}],\"scattermapbox\":[{\"type\":\"scattermapbox\",\"marker\":{\"colorbar\":{\"outlinewidth\":0,\"ticks\":\"\"}}}],\"scatterternary\":[{\"type\":\"scatterternary\",\"marker\":{\"colorbar\":{\"outlinewidth\":0,\"ticks\":\"\"}}}],\"scattercarpet\":[{\"type\":\"scattercarpet\",\"marker\":{\"colorbar\":{\"outlinewidth\":0,\"ticks\":\"\"}}}],\"carpet\":[{\"aaxis\":{\"endlinecolor\":\"#A2B1C6\",\"gridcolor\":\"#506784\",\"linecolor\":\"#506784\",\"minorgridcolor\":\"#506784\",\"startlinecolor\":\"#A2B1C6\"},\"baxis\":{\"endlinecolor\":\"#A2B1C6\",\"gridcolor\":\"#506784\",\"linecolor\":\"#506784\",\"minorgridcolor\":\"#506784\",\"startlinecolor\":\"#A2B1C6\"},\"type\":\"carpet\"}],\"table\":[{\"cells\":{\"fill\":{\"color\":\"#506784\"},\"line\":{\"color\":\"rgb(17,17,17)\"}},\"header\":{\"fill\":{\"color\":\"#2a3f5f\"},\"line\":{\"color\":\"rgb(17,17,17)\"}},\"type\":\"table\"}],\"barpolar\":[{\"marker\":{\"line\":{\"color\":\"rgb(17,17,17)\",\"width\":0.5},\"pattern\":{\"fillmode\":\"overlay\",\"size\":10,\"solidity\":0.2}},\"type\":\"barpolar\"}],\"pie\":[{\"automargin\":true,\"type\":\"pie\"}]},\"layout\":{\"autotypenumbers\":\"strict\",\"colorway\":[\"#636efa\",\"#EF553B\",\"#00cc96\",\"#ab63fa\",\"#FFA15A\",\"#19d3f3\",\"#FF6692\",\"#B6E880\",\"#FF97FF\",\"#FECB52\"],\"font\":{\"color\":\"#f2f5fa\"},\"hovermode\":\"closest\",\"hoverlabel\":{\"align\":\"left\"},\"paper_bgcolor\":\"rgb(17,17,17)\",\"plot_bgcolor\":\"rgb(17,17,17)\",\"polar\":{\"bgcolor\":\"rgb(17,17,17)\",\"angularaxis\":{\"gridcolor\":\"#506784\",\"linecolor\":\"#506784\",\"ticks\":\"\"},\"radialaxis\":{\"gridcolor\":\"#506784\",\"linecolor\":\"#506784\",\"ticks\":\"\"}},\"ternary\":{\"bgcolor\":\"rgb(17,17,17)\",\"aaxis\":{\"gridcolor\":\"#506784\",\"linecolor\":\"#506784\",\"ticks\":\"\"},\"baxis\":{\"gridcolor\":\"#506784\",\"linecolor\":\"#506784\",\"ticks\":\"\"},\"caxis\":{\"gridcolor\":\"#506784\",\"linecolor\":\"#506784\",\"ticks\":\"\"}},\"coloraxis\":{\"colorbar\":{\"outlinewidth\":0,\"ticks\":\"\"}},\"colorscale\":{\"sequential\":[[0.0,\"#0d0887\"],[0.1111111111111111,\"#46039f\"],[0.2222222222222222,\"#7201a8\"],[0.3333333333333333,\"#9c179e\"],[0.4444444444444444,\"#bd3786\"],[0.5555555555555556,\"#d8576b\"],[0.6666666666666666,\"#ed7953\"],[0.7777777777777778,\"#fb9f3a\"],[0.8888888888888888,\"#fdca26\"],[1.0,\"#f0f921\"]],\"sequentialminus\":[[0.0,\"#0d0887\"],[0.1111111111111111,\"#46039f\"],[0.2222222222222222,\"#7201a8\"],[0.3333333333333333,\"#9c179e\"],[0.4444444444444444,\"#bd3786\"],[0.5555555555555556,\"#d8576b\"],[0.6666666666666666,\"#ed7953\"],[0.7777777777777778,\"#fb9f3a\"],[0.8888888888888888,\"#fdca26\"],[1.0,\"#f0f921\"]],\"diverging\":[[0,\"#8e0152\"],[0.1,\"#c51b7d\"],[0.2,\"#de77ae\"],[0.3,\"#f1b6da\"],[0.4,\"#fde0ef\"],[0.5,\"#f7f7f7\"],[0.6,\"#e6f5d0\"],[0.7,\"#b8e186\"],[0.8,\"#7fbc41\"],[0.9,\"#4d9221\"],[1,\"#276419\"]]},\"xaxis\":{\"gridcolor\":\"#283442\",\"linecolor\":\"#506784\",\"ticks\":\"\",\"title\":{\"standoff\":15},\"zerolinecolor\":\"#283442\",\"automargin\":true,\"zerolinewidth\":2},\"yaxis\":{\"gridcolor\":\"#283442\",\"linecolor\":\"#506784\",\"ticks\":\"\",\"title\":{\"standoff\":15},\"zerolinecolor\":\"#283442\",\"automargin\":true,\"zerolinewidth\":2},\"scene\":{\"xaxis\":{\"backgroundcolor\":\"rgb(17,17,17)\",\"gridcolor\":\"#506784\",\"linecolor\":\"#506784\",\"showbackground\":true,\"ticks\":\"\",\"zerolinecolor\":\"#C8D4E3\",\"gridwidth\":2},\"yaxis\":{\"backgroundcolor\":\"rgb(17,17,17)\",\"gridcolor\":\"#506784\",\"linecolor\":\"#506784\",\"showbackground\":true,\"ticks\":\"\",\"zerolinecolor\":\"#C8D4E3\",\"gridwidth\":2},\"zaxis\":{\"backgroundcolor\":\"rgb(17,17,17)\",\"gridcolor\":\"#506784\",\"linecolor\":\"#506784\",\"showbackground\":true,\"ticks\":\"\",\"zerolinecolor\":\"#C8D4E3\",\"gridwidth\":2}},\"shapedefaults\":{\"line\":{\"color\":\"#f2f5fa\"}},\"annotationdefaults\":{\"arrowcolor\":\"#f2f5fa\",\"arrowhead\":0,\"arrowwidth\":1},\"geo\":{\"bgcolor\":\"rgb(17,17,17)\",\"landcolor\":\"rgb(17,17,17)\",\"subunitcolor\":\"#506784\",\"showland\":true,\"showlakes\":true,\"lakecolor\":\"rgb(17,17,17)\"},\"title\":{\"x\":0.05},\"updatemenudefaults\":{\"bgcolor\":\"#506784\",\"borderwidth\":0},\"sliderdefaults\":{\"bgcolor\":\"#C8D4E3\",\"borderwidth\":1,\"bordercolor\":\"rgb(17,17,17)\",\"tickwidth\":0},\"mapbox\":{\"style\":\"dark\"}}},\"xaxis\":{\"anchor\":\"y\",\"domain\":[0.0,1.0],\"title\":{\"text\":\"transaction_date\"}},\"yaxis\":{\"anchor\":\"x\",\"domain\":[0.0,1.0],\"title\":{\"text\":\"value\"}},\"legend\":{\"title\":{\"text\":\"variable\"},\"tracegroupgap\":0},\"margin\":{\"t\":60}},                        {\"responsive\": true}                    ).then(function(){\n                            \nvar gd = document.getElementById('1f4a6368-96b6-4dd0-ae3b-8066edf9b56b');\nvar x = new MutationObserver(function (mutations, observer) {{\n        var display = window.getComputedStyle(gd).display;\n        if (!display || display === 'none') {{\n            console.log([gd, 'removed!']);\n            Plotly.purge(gd);\n            observer.disconnect();\n        }}\n}});\n\n// Listen for the removal of the full notebook cells\nvar notebookContainer = gd.closest('#notebook-container');\nif (notebookContainer) {{\n    x.observe(notebookContainer, {childList: true});\n}}\n\n// Listen for the clearing of the current output cell\nvar outputEl = gd.closest('.output');\nif (outputEl) {{\n    x.observe(outputEl, {childList: true});\n}}\n\n                        })                };                });            </script>        </div>"
     },
     "metadata": {},
     "output_type": "display_data"
    }
   ],
   "source": [
    "fig_alt = px.line(purchase_sales_lb_ub_df, x = 'transaction_date', y = ['purchase_lb', 'purchase_ub', 'sale_lb', 'sale_ub'])\n",
    "fig_alt.update_traces(mode='markers+lines')\n",
    "fig_alt.show()\n"
   ],
   "metadata": {
    "collapsed": false,
    "pycharm": {
     "name": "#%%\n"
    },
    "trusted": false
   }
  },
  {
   "cell_type": "code",
   "execution_count": 68,
   "outputs": [
    {
     "data": {
      "application/vnd.plotly.v1+json": {
       "data": [
        {
         "alignmentgroup": "True",
         "bingroup": "x",
         "histfunc": "sum",
         "hovertemplate": "variable=purchase_lb<br>transaction_date=%{x}<br>sum of value=%{y}<extra></extra>",
         "legendgroup": "purchase_lb",
         "marker": {
          "color": "#636efa",
          "opacity": 0.5,
          "pattern": {
           "shape": ""
          }
         },
         "name": "purchase_lb",
         "offsetgroup": "purchase_lb",
         "orientation": "v",
         "showlegend": true,
         "x": [
          "2013-12-26T00:00:00",
          "2014-01-16T00:00:00",
          "2014-02-06T00:00:00",
          "2014-03-10T00:00:00",
          "2014-05-05T00:00:00",
          "2014-05-22T00:00:00",
          "2014-09-11T00:00:00",
          "2014-12-11T00:00:00",
          "2014-12-16T00:00:00",
          "2014-12-17T00:00:00",
          "2014-12-18T00:00:00",
          "2014-12-24T00:00:00",
          "2015-02-25T00:00:00",
          "2015-03-25T00:00:00",
          "2015-05-26T00:00:00",
          "2015-06-19T00:00:00",
          "2015-08-20T00:00:00",
          "2015-08-24T00:00:00",
          "2015-12-04T00:00:00",
          "2015-12-17T00:00:00",
          "2015-12-29T00:00:00",
          "2015-12-30T00:00:00",
          "2016-01-25T00:00:00",
          "2016-01-27T00:00:00",
          "2016-02-02T00:00:00",
          "2016-09-07T00:00:00",
          "2017-03-17T00:00:00",
          "2017-08-29T00:00:00",
          "2018-11-28T00:00:00"
         ],
         "xaxis": "x",
         "y": [
          0,
          15001,
          0,
          0,
          0,
          0,
          0,
          1001,
          15001,
          0,
          1001,
          1001,
          15001,
          1001,
          2002,
          0,
          0,
          1001,
          0,
          1001,
          1001,
          0,
          1001,
          1001,
          1001,
          0,
          0,
          250001,
          0
         ],
         "yaxis": "y",
         "type": "histogram"
        },
        {
         "alignmentgroup": "True",
         "bingroup": "x",
         "histfunc": "sum",
         "hovertemplate": "variable=purchase_ub<br>transaction_date=%{x}<br>sum of value=%{y}<extra></extra>",
         "legendgroup": "purchase_ub",
         "marker": {
          "color": "#EF553B",
          "opacity": 0.5,
          "pattern": {
           "shape": ""
          }
         },
         "name": "purchase_ub",
         "offsetgroup": "purchase_ub",
         "orientation": "v",
         "showlegend": true,
         "x": [
          "2013-12-26T00:00:00",
          "2014-01-16T00:00:00",
          "2014-02-06T00:00:00",
          "2014-03-10T00:00:00",
          "2014-05-05T00:00:00",
          "2014-05-22T00:00:00",
          "2014-09-11T00:00:00",
          "2014-12-11T00:00:00",
          "2014-12-16T00:00:00",
          "2014-12-17T00:00:00",
          "2014-12-18T00:00:00",
          "2014-12-24T00:00:00",
          "2015-02-25T00:00:00",
          "2015-03-25T00:00:00",
          "2015-05-26T00:00:00",
          "2015-06-19T00:00:00",
          "2015-08-20T00:00:00",
          "2015-08-24T00:00:00",
          "2015-12-04T00:00:00",
          "2015-12-17T00:00:00",
          "2015-12-29T00:00:00",
          "2015-12-30T00:00:00",
          "2016-01-25T00:00:00",
          "2016-01-27T00:00:00",
          "2016-02-02T00:00:00",
          "2016-09-07T00:00:00",
          "2017-03-17T00:00:00",
          "2017-08-29T00:00:00",
          "2018-11-28T00:00:00"
         ],
         "xaxis": "x",
         "y": [
          0,
          50000,
          0,
          0,
          0,
          0,
          0,
          15000,
          50000,
          0,
          15000,
          15000,
          50000,
          15000,
          30000,
          0,
          0,
          15000,
          0,
          15000,
          15000,
          0,
          15000,
          15000,
          15000,
          0,
          0,
          500000,
          0
         ],
         "yaxis": "y",
         "type": "histogram"
        },
        {
         "alignmentgroup": "True",
         "bingroup": "x",
         "histfunc": "sum",
         "hovertemplate": "variable=sale_lb<br>transaction_date=%{x}<br>sum of value=%{y}<extra></extra>",
         "legendgroup": "sale_lb",
         "marker": {
          "color": "#00cc96",
          "opacity": 0.5,
          "pattern": {
           "shape": ""
          }
         },
         "name": "sale_lb",
         "offsetgroup": "sale_lb",
         "orientation": "v",
         "showlegend": true,
         "x": [
          "2013-12-26T00:00:00",
          "2014-01-16T00:00:00",
          "2014-02-06T00:00:00",
          "2014-03-10T00:00:00",
          "2014-05-05T00:00:00",
          "2014-05-22T00:00:00",
          "2014-09-11T00:00:00",
          "2014-12-11T00:00:00",
          "2014-12-16T00:00:00",
          "2014-12-17T00:00:00",
          "2014-12-18T00:00:00",
          "2014-12-24T00:00:00",
          "2015-02-25T00:00:00",
          "2015-03-25T00:00:00",
          "2015-05-26T00:00:00",
          "2015-06-19T00:00:00",
          "2015-08-20T00:00:00",
          "2015-08-24T00:00:00",
          "2015-12-04T00:00:00",
          "2015-12-17T00:00:00",
          "2015-12-29T00:00:00",
          "2015-12-30T00:00:00",
          "2016-01-25T00:00:00",
          "2016-01-27T00:00:00",
          "2016-02-02T00:00:00",
          "2016-09-07T00:00:00",
          "2017-03-17T00:00:00",
          "2017-08-29T00:00:00",
          "2018-11-28T00:00:00"
         ],
         "xaxis": "x",
         "y": [
          -15001,
          0,
          -1001,
          -1001,
          -1001,
          -1001,
          -2002,
          0,
          0,
          -1001,
          0,
          0,
          0,
          0,
          0,
          -1001,
          -15001,
          0,
          0,
          0,
          0,
          -1001,
          0,
          0,
          0,
          -1001,
          -1001,
          0,
          -1001
         ],
         "yaxis": "y",
         "type": "histogram"
        },
        {
         "alignmentgroup": "True",
         "bingroup": "x",
         "histfunc": "sum",
         "hovertemplate": "variable=sale_ub<br>transaction_date=%{x}<br>sum of value=%{y}<extra></extra>",
         "legendgroup": "sale_ub",
         "marker": {
          "color": "#ab63fa",
          "opacity": 0.5,
          "pattern": {
           "shape": ""
          }
         },
         "name": "sale_ub",
         "offsetgroup": "sale_ub",
         "orientation": "v",
         "showlegend": true,
         "x": [
          "2013-12-26T00:00:00",
          "2014-01-16T00:00:00",
          "2014-02-06T00:00:00",
          "2014-03-10T00:00:00",
          "2014-05-05T00:00:00",
          "2014-05-22T00:00:00",
          "2014-09-11T00:00:00",
          "2014-12-11T00:00:00",
          "2014-12-16T00:00:00",
          "2014-12-17T00:00:00",
          "2014-12-18T00:00:00",
          "2014-12-24T00:00:00",
          "2015-02-25T00:00:00",
          "2015-03-25T00:00:00",
          "2015-05-26T00:00:00",
          "2015-06-19T00:00:00",
          "2015-08-20T00:00:00",
          "2015-08-24T00:00:00",
          "2015-12-04T00:00:00",
          "2015-12-17T00:00:00",
          "2015-12-29T00:00:00",
          "2015-12-30T00:00:00",
          "2016-01-25T00:00:00",
          "2016-01-27T00:00:00",
          "2016-02-02T00:00:00",
          "2016-09-07T00:00:00",
          "2017-03-17T00:00:00",
          "2017-08-29T00:00:00",
          "2018-11-28T00:00:00"
         ],
         "xaxis": "x",
         "y": [
          -50000,
          0,
          -15000,
          -15000,
          -15000,
          -15000,
          -30000,
          0,
          0,
          -15000,
          0,
          0,
          0,
          0,
          0,
          -15000,
          -50000,
          0,
          0,
          0,
          0,
          -15000,
          0,
          0,
          0,
          -15000,
          -15000,
          0,
          -15000
         ],
         "yaxis": "y",
         "type": "histogram"
        }
       ],
       "layout": {
        "template": {
         "data": {
          "histogram2dcontour": [
           {
            "type": "histogram2dcontour",
            "colorbar": {
             "outlinewidth": 0,
             "ticks": ""
            },
            "colorscale": [
             [
              0.0,
              "#0d0887"
             ],
             [
              0.1111111111111111,
              "#46039f"
             ],
             [
              0.2222222222222222,
              "#7201a8"
             ],
             [
              0.3333333333333333,
              "#9c179e"
             ],
             [
              0.4444444444444444,
              "#bd3786"
             ],
             [
              0.5555555555555556,
              "#d8576b"
             ],
             [
              0.6666666666666666,
              "#ed7953"
             ],
             [
              0.7777777777777778,
              "#fb9f3a"
             ],
             [
              0.8888888888888888,
              "#fdca26"
             ],
             [
              1.0,
              "#f0f921"
             ]
            ]
           }
          ],
          "choropleth": [
           {
            "type": "choropleth",
            "colorbar": {
             "outlinewidth": 0,
             "ticks": ""
            }
           }
          ],
          "histogram2d": [
           {
            "type": "histogram2d",
            "colorbar": {
             "outlinewidth": 0,
             "ticks": ""
            },
            "colorscale": [
             [
              0.0,
              "#0d0887"
             ],
             [
              0.1111111111111111,
              "#46039f"
             ],
             [
              0.2222222222222222,
              "#7201a8"
             ],
             [
              0.3333333333333333,
              "#9c179e"
             ],
             [
              0.4444444444444444,
              "#bd3786"
             ],
             [
              0.5555555555555556,
              "#d8576b"
             ],
             [
              0.6666666666666666,
              "#ed7953"
             ],
             [
              0.7777777777777778,
              "#fb9f3a"
             ],
             [
              0.8888888888888888,
              "#fdca26"
             ],
             [
              1.0,
              "#f0f921"
             ]
            ]
           }
          ],
          "heatmap": [
           {
            "type": "heatmap",
            "colorbar": {
             "outlinewidth": 0,
             "ticks": ""
            },
            "colorscale": [
             [
              0.0,
              "#0d0887"
             ],
             [
              0.1111111111111111,
              "#46039f"
             ],
             [
              0.2222222222222222,
              "#7201a8"
             ],
             [
              0.3333333333333333,
              "#9c179e"
             ],
             [
              0.4444444444444444,
              "#bd3786"
             ],
             [
              0.5555555555555556,
              "#d8576b"
             ],
             [
              0.6666666666666666,
              "#ed7953"
             ],
             [
              0.7777777777777778,
              "#fb9f3a"
             ],
             [
              0.8888888888888888,
              "#fdca26"
             ],
             [
              1.0,
              "#f0f921"
             ]
            ]
           }
          ],
          "heatmapgl": [
           {
            "type": "heatmapgl",
            "colorbar": {
             "outlinewidth": 0,
             "ticks": ""
            },
            "colorscale": [
             [
              0.0,
              "#0d0887"
             ],
             [
              0.1111111111111111,
              "#46039f"
             ],
             [
              0.2222222222222222,
              "#7201a8"
             ],
             [
              0.3333333333333333,
              "#9c179e"
             ],
             [
              0.4444444444444444,
              "#bd3786"
             ],
             [
              0.5555555555555556,
              "#d8576b"
             ],
             [
              0.6666666666666666,
              "#ed7953"
             ],
             [
              0.7777777777777778,
              "#fb9f3a"
             ],
             [
              0.8888888888888888,
              "#fdca26"
             ],
             [
              1.0,
              "#f0f921"
             ]
            ]
           }
          ],
          "contourcarpet": [
           {
            "type": "contourcarpet",
            "colorbar": {
             "outlinewidth": 0,
             "ticks": ""
            }
           }
          ],
          "contour": [
           {
            "type": "contour",
            "colorbar": {
             "outlinewidth": 0,
             "ticks": ""
            },
            "colorscale": [
             [
              0.0,
              "#0d0887"
             ],
             [
              0.1111111111111111,
              "#46039f"
             ],
             [
              0.2222222222222222,
              "#7201a8"
             ],
             [
              0.3333333333333333,
              "#9c179e"
             ],
             [
              0.4444444444444444,
              "#bd3786"
             ],
             [
              0.5555555555555556,
              "#d8576b"
             ],
             [
              0.6666666666666666,
              "#ed7953"
             ],
             [
              0.7777777777777778,
              "#fb9f3a"
             ],
             [
              0.8888888888888888,
              "#fdca26"
             ],
             [
              1.0,
              "#f0f921"
             ]
            ]
           }
          ],
          "surface": [
           {
            "type": "surface",
            "colorbar": {
             "outlinewidth": 0,
             "ticks": ""
            },
            "colorscale": [
             [
              0.0,
              "#0d0887"
             ],
             [
              0.1111111111111111,
              "#46039f"
             ],
             [
              0.2222222222222222,
              "#7201a8"
             ],
             [
              0.3333333333333333,
              "#9c179e"
             ],
             [
              0.4444444444444444,
              "#bd3786"
             ],
             [
              0.5555555555555556,
              "#d8576b"
             ],
             [
              0.6666666666666666,
              "#ed7953"
             ],
             [
              0.7777777777777778,
              "#fb9f3a"
             ],
             [
              0.8888888888888888,
              "#fdca26"
             ],
             [
              1.0,
              "#f0f921"
             ]
            ]
           }
          ],
          "mesh3d": [
           {
            "type": "mesh3d",
            "colorbar": {
             "outlinewidth": 0,
             "ticks": ""
            }
           }
          ],
          "scatter": [
           {
            "marker": {
             "line": {
              "color": "#283442"
             }
            },
            "type": "scatter"
           }
          ],
          "parcoords": [
           {
            "type": "parcoords",
            "line": {
             "colorbar": {
              "outlinewidth": 0,
              "ticks": ""
             }
            }
           }
          ],
          "scatterpolargl": [
           {
            "type": "scatterpolargl",
            "marker": {
             "colorbar": {
              "outlinewidth": 0,
              "ticks": ""
             }
            }
           }
          ],
          "bar": [
           {
            "error_x": {
             "color": "#f2f5fa"
            },
            "error_y": {
             "color": "#f2f5fa"
            },
            "marker": {
             "line": {
              "color": "rgb(17,17,17)",
              "width": 0.5
             },
             "pattern": {
              "fillmode": "overlay",
              "size": 10,
              "solidity": 0.2
             }
            },
            "type": "bar"
           }
          ],
          "scattergeo": [
           {
            "type": "scattergeo",
            "marker": {
             "colorbar": {
              "outlinewidth": 0,
              "ticks": ""
             }
            }
           }
          ],
          "scatterpolar": [
           {
            "type": "scatterpolar",
            "marker": {
             "colorbar": {
              "outlinewidth": 0,
              "ticks": ""
             }
            }
           }
          ],
          "histogram": [
           {
            "marker": {
             "pattern": {
              "fillmode": "overlay",
              "size": 10,
              "solidity": 0.2
             }
            },
            "type": "histogram"
           }
          ],
          "scattergl": [
           {
            "marker": {
             "line": {
              "color": "#283442"
             }
            },
            "type": "scattergl"
           }
          ],
          "scatter3d": [
           {
            "type": "scatter3d",
            "line": {
             "colorbar": {
              "outlinewidth": 0,
              "ticks": ""
             }
            },
            "marker": {
             "colorbar": {
              "outlinewidth": 0,
              "ticks": ""
             }
            }
           }
          ],
          "scattermapbox": [
           {
            "type": "scattermapbox",
            "marker": {
             "colorbar": {
              "outlinewidth": 0,
              "ticks": ""
             }
            }
           }
          ],
          "scatterternary": [
           {
            "type": "scatterternary",
            "marker": {
             "colorbar": {
              "outlinewidth": 0,
              "ticks": ""
             }
            }
           }
          ],
          "scattercarpet": [
           {
            "type": "scattercarpet",
            "marker": {
             "colorbar": {
              "outlinewidth": 0,
              "ticks": ""
             }
            }
           }
          ],
          "carpet": [
           {
            "aaxis": {
             "endlinecolor": "#A2B1C6",
             "gridcolor": "#506784",
             "linecolor": "#506784",
             "minorgridcolor": "#506784",
             "startlinecolor": "#A2B1C6"
            },
            "baxis": {
             "endlinecolor": "#A2B1C6",
             "gridcolor": "#506784",
             "linecolor": "#506784",
             "minorgridcolor": "#506784",
             "startlinecolor": "#A2B1C6"
            },
            "type": "carpet"
           }
          ],
          "table": [
           {
            "cells": {
             "fill": {
              "color": "#506784"
             },
             "line": {
              "color": "rgb(17,17,17)"
             }
            },
            "header": {
             "fill": {
              "color": "#2a3f5f"
             },
             "line": {
              "color": "rgb(17,17,17)"
             }
            },
            "type": "table"
           }
          ],
          "barpolar": [
           {
            "marker": {
             "line": {
              "color": "rgb(17,17,17)",
              "width": 0.5
             },
             "pattern": {
              "fillmode": "overlay",
              "size": 10,
              "solidity": 0.2
             }
            },
            "type": "barpolar"
           }
          ],
          "pie": [
           {
            "automargin": true,
            "type": "pie"
           }
          ]
         },
         "layout": {
          "autotypenumbers": "strict",
          "colorway": [
           "#636efa",
           "#EF553B",
           "#00cc96",
           "#ab63fa",
           "#FFA15A",
           "#19d3f3",
           "#FF6692",
           "#B6E880",
           "#FF97FF",
           "#FECB52"
          ],
          "font": {
           "color": "#f2f5fa"
          },
          "hovermode": "closest",
          "hoverlabel": {
           "align": "left"
          },
          "paper_bgcolor": "rgb(17,17,17)",
          "plot_bgcolor": "rgb(17,17,17)",
          "polar": {
           "bgcolor": "rgb(17,17,17)",
           "angularaxis": {
            "gridcolor": "#506784",
            "linecolor": "#506784",
            "ticks": ""
           },
           "radialaxis": {
            "gridcolor": "#506784",
            "linecolor": "#506784",
            "ticks": ""
           }
          },
          "ternary": {
           "bgcolor": "rgb(17,17,17)",
           "aaxis": {
            "gridcolor": "#506784",
            "linecolor": "#506784",
            "ticks": ""
           },
           "baxis": {
            "gridcolor": "#506784",
            "linecolor": "#506784",
            "ticks": ""
           },
           "caxis": {
            "gridcolor": "#506784",
            "linecolor": "#506784",
            "ticks": ""
           }
          },
          "coloraxis": {
           "colorbar": {
            "outlinewidth": 0,
            "ticks": ""
           }
          },
          "colorscale": {
           "sequential": [
            [
             0.0,
             "#0d0887"
            ],
            [
             0.1111111111111111,
             "#46039f"
            ],
            [
             0.2222222222222222,
             "#7201a8"
            ],
            [
             0.3333333333333333,
             "#9c179e"
            ],
            [
             0.4444444444444444,
             "#bd3786"
            ],
            [
             0.5555555555555556,
             "#d8576b"
            ],
            [
             0.6666666666666666,
             "#ed7953"
            ],
            [
             0.7777777777777778,
             "#fb9f3a"
            ],
            [
             0.8888888888888888,
             "#fdca26"
            ],
            [
             1.0,
             "#f0f921"
            ]
           ],
           "sequentialminus": [
            [
             0.0,
             "#0d0887"
            ],
            [
             0.1111111111111111,
             "#46039f"
            ],
            [
             0.2222222222222222,
             "#7201a8"
            ],
            [
             0.3333333333333333,
             "#9c179e"
            ],
            [
             0.4444444444444444,
             "#bd3786"
            ],
            [
             0.5555555555555556,
             "#d8576b"
            ],
            [
             0.6666666666666666,
             "#ed7953"
            ],
            [
             0.7777777777777778,
             "#fb9f3a"
            ],
            [
             0.8888888888888888,
             "#fdca26"
            ],
            [
             1.0,
             "#f0f921"
            ]
           ],
           "diverging": [
            [
             0,
             "#8e0152"
            ],
            [
             0.1,
             "#c51b7d"
            ],
            [
             0.2,
             "#de77ae"
            ],
            [
             0.3,
             "#f1b6da"
            ],
            [
             0.4,
             "#fde0ef"
            ],
            [
             0.5,
             "#f7f7f7"
            ],
            [
             0.6,
             "#e6f5d0"
            ],
            [
             0.7,
             "#b8e186"
            ],
            [
             0.8,
             "#7fbc41"
            ],
            [
             0.9,
             "#4d9221"
            ],
            [
             1,
             "#276419"
            ]
           ]
          },
          "xaxis": {
           "gridcolor": "#283442",
           "linecolor": "#506784",
           "ticks": "",
           "title": {
            "standoff": 15
           },
           "zerolinecolor": "#283442",
           "automargin": true,
           "zerolinewidth": 2
          },
          "yaxis": {
           "gridcolor": "#283442",
           "linecolor": "#506784",
           "ticks": "",
           "title": {
            "standoff": 15
           },
           "zerolinecolor": "#283442",
           "automargin": true,
           "zerolinewidth": 2
          },
          "scene": {
           "xaxis": {
            "backgroundcolor": "rgb(17,17,17)",
            "gridcolor": "#506784",
            "linecolor": "#506784",
            "showbackground": true,
            "ticks": "",
            "zerolinecolor": "#C8D4E3",
            "gridwidth": 2
           },
           "yaxis": {
            "backgroundcolor": "rgb(17,17,17)",
            "gridcolor": "#506784",
            "linecolor": "#506784",
            "showbackground": true,
            "ticks": "",
            "zerolinecolor": "#C8D4E3",
            "gridwidth": 2
           },
           "zaxis": {
            "backgroundcolor": "rgb(17,17,17)",
            "gridcolor": "#506784",
            "linecolor": "#506784",
            "showbackground": true,
            "ticks": "",
            "zerolinecolor": "#C8D4E3",
            "gridwidth": 2
           }
          },
          "shapedefaults": {
           "line": {
            "color": "#f2f5fa"
           }
          },
          "annotationdefaults": {
           "arrowcolor": "#f2f5fa",
           "arrowhead": 0,
           "arrowwidth": 1
          },
          "geo": {
           "bgcolor": "rgb(17,17,17)",
           "landcolor": "rgb(17,17,17)",
           "subunitcolor": "#506784",
           "showland": true,
           "showlakes": true,
           "lakecolor": "rgb(17,17,17)"
          },
          "title": {
           "x": 0.05
          },
          "updatemenudefaults": {
           "bgcolor": "#506784",
           "borderwidth": 0
          },
          "sliderdefaults": {
           "bgcolor": "#C8D4E3",
           "borderwidth": 1,
           "bordercolor": "rgb(17,17,17)",
           "tickwidth": 0
          },
          "mapbox": {
           "style": "dark"
          }
         }
        },
        "xaxis": {
         "anchor": "y",
         "domain": [
          0.0,
          1.0
         ],
         "title": {
          "text": "transaction_date"
         }
        },
        "yaxis": {
         "anchor": "x",
         "domain": [
          0.0,
          1.0
         ],
         "title": {
          "text": "sum of value"
         }
        },
        "legend": {
         "title": {
          "text": "variable"
         },
         "tracegroupgap": 0
        },
        "margin": {
         "t": 60
        },
        "barmode": "overlay"
       },
       "config": {
        "plotlyServerURL": "https://plot.ly"
       }
      },
      "text/html": "<div>                            <div id=\"0aa9f7a5-9a13-43fa-883f-9db4be68cb6f\" class=\"plotly-graph-div\" style=\"height:525px; width:100%;\"></div>            <script type=\"text/javascript\">                require([\"plotly\"], function(Plotly) {                    window.PLOTLYENV=window.PLOTLYENV || {};                                    if (document.getElementById(\"0aa9f7a5-9a13-43fa-883f-9db4be68cb6f\")) {                    Plotly.newPlot(                        \"0aa9f7a5-9a13-43fa-883f-9db4be68cb6f\",                        [{\"alignmentgroup\":\"True\",\"bingroup\":\"x\",\"histfunc\":\"sum\",\"hovertemplate\":\"variable=purchase_lb<br>transaction_date=%{x}<br>sum of value=%{y}<extra></extra>\",\"legendgroup\":\"purchase_lb\",\"marker\":{\"color\":\"#636efa\",\"opacity\":0.5,\"pattern\":{\"shape\":\"\"}},\"name\":\"purchase_lb\",\"offsetgroup\":\"purchase_lb\",\"orientation\":\"v\",\"showlegend\":true,\"x\":[\"2013-12-26T00:00:00\",\"2014-01-16T00:00:00\",\"2014-02-06T00:00:00\",\"2014-03-10T00:00:00\",\"2014-05-05T00:00:00\",\"2014-05-22T00:00:00\",\"2014-09-11T00:00:00\",\"2014-12-11T00:00:00\",\"2014-12-16T00:00:00\",\"2014-12-17T00:00:00\",\"2014-12-18T00:00:00\",\"2014-12-24T00:00:00\",\"2015-02-25T00:00:00\",\"2015-03-25T00:00:00\",\"2015-05-26T00:00:00\",\"2015-06-19T00:00:00\",\"2015-08-20T00:00:00\",\"2015-08-24T00:00:00\",\"2015-12-04T00:00:00\",\"2015-12-17T00:00:00\",\"2015-12-29T00:00:00\",\"2015-12-30T00:00:00\",\"2016-01-25T00:00:00\",\"2016-01-27T00:00:00\",\"2016-02-02T00:00:00\",\"2016-09-07T00:00:00\",\"2017-03-17T00:00:00\",\"2017-08-29T00:00:00\",\"2018-11-28T00:00:00\"],\"xaxis\":\"x\",\"y\":[0,15001,0,0,0,0,0,1001,15001,0,1001,1001,15001,1001,2002,0,0,1001,0,1001,1001,0,1001,1001,1001,0,0,250001,0],\"yaxis\":\"y\",\"type\":\"histogram\"},{\"alignmentgroup\":\"True\",\"bingroup\":\"x\",\"histfunc\":\"sum\",\"hovertemplate\":\"variable=purchase_ub<br>transaction_date=%{x}<br>sum of value=%{y}<extra></extra>\",\"legendgroup\":\"purchase_ub\",\"marker\":{\"color\":\"#EF553B\",\"opacity\":0.5,\"pattern\":{\"shape\":\"\"}},\"name\":\"purchase_ub\",\"offsetgroup\":\"purchase_ub\",\"orientation\":\"v\",\"showlegend\":true,\"x\":[\"2013-12-26T00:00:00\",\"2014-01-16T00:00:00\",\"2014-02-06T00:00:00\",\"2014-03-10T00:00:00\",\"2014-05-05T00:00:00\",\"2014-05-22T00:00:00\",\"2014-09-11T00:00:00\",\"2014-12-11T00:00:00\",\"2014-12-16T00:00:00\",\"2014-12-17T00:00:00\",\"2014-12-18T00:00:00\",\"2014-12-24T00:00:00\",\"2015-02-25T00:00:00\",\"2015-03-25T00:00:00\",\"2015-05-26T00:00:00\",\"2015-06-19T00:00:00\",\"2015-08-20T00:00:00\",\"2015-08-24T00:00:00\",\"2015-12-04T00:00:00\",\"2015-12-17T00:00:00\",\"2015-12-29T00:00:00\",\"2015-12-30T00:00:00\",\"2016-01-25T00:00:00\",\"2016-01-27T00:00:00\",\"2016-02-02T00:00:00\",\"2016-09-07T00:00:00\",\"2017-03-17T00:00:00\",\"2017-08-29T00:00:00\",\"2018-11-28T00:00:00\"],\"xaxis\":\"x\",\"y\":[0,50000,0,0,0,0,0,15000,50000,0,15000,15000,50000,15000,30000,0,0,15000,0,15000,15000,0,15000,15000,15000,0,0,500000,0],\"yaxis\":\"y\",\"type\":\"histogram\"},{\"alignmentgroup\":\"True\",\"bingroup\":\"x\",\"histfunc\":\"sum\",\"hovertemplate\":\"variable=sale_lb<br>transaction_date=%{x}<br>sum of value=%{y}<extra></extra>\",\"legendgroup\":\"sale_lb\",\"marker\":{\"color\":\"#00cc96\",\"opacity\":0.5,\"pattern\":{\"shape\":\"\"}},\"name\":\"sale_lb\",\"offsetgroup\":\"sale_lb\",\"orientation\":\"v\",\"showlegend\":true,\"x\":[\"2013-12-26T00:00:00\",\"2014-01-16T00:00:00\",\"2014-02-06T00:00:00\",\"2014-03-10T00:00:00\",\"2014-05-05T00:00:00\",\"2014-05-22T00:00:00\",\"2014-09-11T00:00:00\",\"2014-12-11T00:00:00\",\"2014-12-16T00:00:00\",\"2014-12-17T00:00:00\",\"2014-12-18T00:00:00\",\"2014-12-24T00:00:00\",\"2015-02-25T00:00:00\",\"2015-03-25T00:00:00\",\"2015-05-26T00:00:00\",\"2015-06-19T00:00:00\",\"2015-08-20T00:00:00\",\"2015-08-24T00:00:00\",\"2015-12-04T00:00:00\",\"2015-12-17T00:00:00\",\"2015-12-29T00:00:00\",\"2015-12-30T00:00:00\",\"2016-01-25T00:00:00\",\"2016-01-27T00:00:00\",\"2016-02-02T00:00:00\",\"2016-09-07T00:00:00\",\"2017-03-17T00:00:00\",\"2017-08-29T00:00:00\",\"2018-11-28T00:00:00\"],\"xaxis\":\"x\",\"y\":[-15001,0,-1001,-1001,-1001,-1001,-2002,0,0,-1001,0,0,0,0,0,-1001,-15001,0,0,0,0,-1001,0,0,0,-1001,-1001,0,-1001],\"yaxis\":\"y\",\"type\":\"histogram\"},{\"alignmentgroup\":\"True\",\"bingroup\":\"x\",\"histfunc\":\"sum\",\"hovertemplate\":\"variable=sale_ub<br>transaction_date=%{x}<br>sum of value=%{y}<extra></extra>\",\"legendgroup\":\"sale_ub\",\"marker\":{\"color\":\"#ab63fa\",\"opacity\":0.5,\"pattern\":{\"shape\":\"\"}},\"name\":\"sale_ub\",\"offsetgroup\":\"sale_ub\",\"orientation\":\"v\",\"showlegend\":true,\"x\":[\"2013-12-26T00:00:00\",\"2014-01-16T00:00:00\",\"2014-02-06T00:00:00\",\"2014-03-10T00:00:00\",\"2014-05-05T00:00:00\",\"2014-05-22T00:00:00\",\"2014-09-11T00:00:00\",\"2014-12-11T00:00:00\",\"2014-12-16T00:00:00\",\"2014-12-17T00:00:00\",\"2014-12-18T00:00:00\",\"2014-12-24T00:00:00\",\"2015-02-25T00:00:00\",\"2015-03-25T00:00:00\",\"2015-05-26T00:00:00\",\"2015-06-19T00:00:00\",\"2015-08-20T00:00:00\",\"2015-08-24T00:00:00\",\"2015-12-04T00:00:00\",\"2015-12-17T00:00:00\",\"2015-12-29T00:00:00\",\"2015-12-30T00:00:00\",\"2016-01-25T00:00:00\",\"2016-01-27T00:00:00\",\"2016-02-02T00:00:00\",\"2016-09-07T00:00:00\",\"2017-03-17T00:00:00\",\"2017-08-29T00:00:00\",\"2018-11-28T00:00:00\"],\"xaxis\":\"x\",\"y\":[-50000,0,-15000,-15000,-15000,-15000,-30000,0,0,-15000,0,0,0,0,0,-15000,-50000,0,0,0,0,-15000,0,0,0,-15000,-15000,0,-15000],\"yaxis\":\"y\",\"type\":\"histogram\"}],                        {\"template\":{\"data\":{\"histogram2dcontour\":[{\"type\":\"histogram2dcontour\",\"colorbar\":{\"outlinewidth\":0,\"ticks\":\"\"},\"colorscale\":[[0.0,\"#0d0887\"],[0.1111111111111111,\"#46039f\"],[0.2222222222222222,\"#7201a8\"],[0.3333333333333333,\"#9c179e\"],[0.4444444444444444,\"#bd3786\"],[0.5555555555555556,\"#d8576b\"],[0.6666666666666666,\"#ed7953\"],[0.7777777777777778,\"#fb9f3a\"],[0.8888888888888888,\"#fdca26\"],[1.0,\"#f0f921\"]]}],\"choropleth\":[{\"type\":\"choropleth\",\"colorbar\":{\"outlinewidth\":0,\"ticks\":\"\"}}],\"histogram2d\":[{\"type\":\"histogram2d\",\"colorbar\":{\"outlinewidth\":0,\"ticks\":\"\"},\"colorscale\":[[0.0,\"#0d0887\"],[0.1111111111111111,\"#46039f\"],[0.2222222222222222,\"#7201a8\"],[0.3333333333333333,\"#9c179e\"],[0.4444444444444444,\"#bd3786\"],[0.5555555555555556,\"#d8576b\"],[0.6666666666666666,\"#ed7953\"],[0.7777777777777778,\"#fb9f3a\"],[0.8888888888888888,\"#fdca26\"],[1.0,\"#f0f921\"]]}],\"heatmap\":[{\"type\":\"heatmap\",\"colorbar\":{\"outlinewidth\":0,\"ticks\":\"\"},\"colorscale\":[[0.0,\"#0d0887\"],[0.1111111111111111,\"#46039f\"],[0.2222222222222222,\"#7201a8\"],[0.3333333333333333,\"#9c179e\"],[0.4444444444444444,\"#bd3786\"],[0.5555555555555556,\"#d8576b\"],[0.6666666666666666,\"#ed7953\"],[0.7777777777777778,\"#fb9f3a\"],[0.8888888888888888,\"#fdca26\"],[1.0,\"#f0f921\"]]}],\"heatmapgl\":[{\"type\":\"heatmapgl\",\"colorbar\":{\"outlinewidth\":0,\"ticks\":\"\"},\"colorscale\":[[0.0,\"#0d0887\"],[0.1111111111111111,\"#46039f\"],[0.2222222222222222,\"#7201a8\"],[0.3333333333333333,\"#9c179e\"],[0.4444444444444444,\"#bd3786\"],[0.5555555555555556,\"#d8576b\"],[0.6666666666666666,\"#ed7953\"],[0.7777777777777778,\"#fb9f3a\"],[0.8888888888888888,\"#fdca26\"],[1.0,\"#f0f921\"]]}],\"contourcarpet\":[{\"type\":\"contourcarpet\",\"colorbar\":{\"outlinewidth\":0,\"ticks\":\"\"}}],\"contour\":[{\"type\":\"contour\",\"colorbar\":{\"outlinewidth\":0,\"ticks\":\"\"},\"colorscale\":[[0.0,\"#0d0887\"],[0.1111111111111111,\"#46039f\"],[0.2222222222222222,\"#7201a8\"],[0.3333333333333333,\"#9c179e\"],[0.4444444444444444,\"#bd3786\"],[0.5555555555555556,\"#d8576b\"],[0.6666666666666666,\"#ed7953\"],[0.7777777777777778,\"#fb9f3a\"],[0.8888888888888888,\"#fdca26\"],[1.0,\"#f0f921\"]]}],\"surface\":[{\"type\":\"surface\",\"colorbar\":{\"outlinewidth\":0,\"ticks\":\"\"},\"colorscale\":[[0.0,\"#0d0887\"],[0.1111111111111111,\"#46039f\"],[0.2222222222222222,\"#7201a8\"],[0.3333333333333333,\"#9c179e\"],[0.4444444444444444,\"#bd3786\"],[0.5555555555555556,\"#d8576b\"],[0.6666666666666666,\"#ed7953\"],[0.7777777777777778,\"#fb9f3a\"],[0.8888888888888888,\"#fdca26\"],[1.0,\"#f0f921\"]]}],\"mesh3d\":[{\"type\":\"mesh3d\",\"colorbar\":{\"outlinewidth\":0,\"ticks\":\"\"}}],\"scatter\":[{\"marker\":{\"line\":{\"color\":\"#283442\"}},\"type\":\"scatter\"}],\"parcoords\":[{\"type\":\"parcoords\",\"line\":{\"colorbar\":{\"outlinewidth\":0,\"ticks\":\"\"}}}],\"scatterpolargl\":[{\"type\":\"scatterpolargl\",\"marker\":{\"colorbar\":{\"outlinewidth\":0,\"ticks\":\"\"}}}],\"bar\":[{\"error_x\":{\"color\":\"#f2f5fa\"},\"error_y\":{\"color\":\"#f2f5fa\"},\"marker\":{\"line\":{\"color\":\"rgb(17,17,17)\",\"width\":0.5},\"pattern\":{\"fillmode\":\"overlay\",\"size\":10,\"solidity\":0.2}},\"type\":\"bar\"}],\"scattergeo\":[{\"type\":\"scattergeo\",\"marker\":{\"colorbar\":{\"outlinewidth\":0,\"ticks\":\"\"}}}],\"scatterpolar\":[{\"type\":\"scatterpolar\",\"marker\":{\"colorbar\":{\"outlinewidth\":0,\"ticks\":\"\"}}}],\"histogram\":[{\"marker\":{\"pattern\":{\"fillmode\":\"overlay\",\"size\":10,\"solidity\":0.2}},\"type\":\"histogram\"}],\"scattergl\":[{\"marker\":{\"line\":{\"color\":\"#283442\"}},\"type\":\"scattergl\"}],\"scatter3d\":[{\"type\":\"scatter3d\",\"line\":{\"colorbar\":{\"outlinewidth\":0,\"ticks\":\"\"}},\"marker\":{\"colorbar\":{\"outlinewidth\":0,\"ticks\":\"\"}}}],\"scattermapbox\":[{\"type\":\"scattermapbox\",\"marker\":{\"colorbar\":{\"outlinewidth\":0,\"ticks\":\"\"}}}],\"scatterternary\":[{\"type\":\"scatterternary\",\"marker\":{\"colorbar\":{\"outlinewidth\":0,\"ticks\":\"\"}}}],\"scattercarpet\":[{\"type\":\"scattercarpet\",\"marker\":{\"colorbar\":{\"outlinewidth\":0,\"ticks\":\"\"}}}],\"carpet\":[{\"aaxis\":{\"endlinecolor\":\"#A2B1C6\",\"gridcolor\":\"#506784\",\"linecolor\":\"#506784\",\"minorgridcolor\":\"#506784\",\"startlinecolor\":\"#A2B1C6\"},\"baxis\":{\"endlinecolor\":\"#A2B1C6\",\"gridcolor\":\"#506784\",\"linecolor\":\"#506784\",\"minorgridcolor\":\"#506784\",\"startlinecolor\":\"#A2B1C6\"},\"type\":\"carpet\"}],\"table\":[{\"cells\":{\"fill\":{\"color\":\"#506784\"},\"line\":{\"color\":\"rgb(17,17,17)\"}},\"header\":{\"fill\":{\"color\":\"#2a3f5f\"},\"line\":{\"color\":\"rgb(17,17,17)\"}},\"type\":\"table\"}],\"barpolar\":[{\"marker\":{\"line\":{\"color\":\"rgb(17,17,17)\",\"width\":0.5},\"pattern\":{\"fillmode\":\"overlay\",\"size\":10,\"solidity\":0.2}},\"type\":\"barpolar\"}],\"pie\":[{\"automargin\":true,\"type\":\"pie\"}]},\"layout\":{\"autotypenumbers\":\"strict\",\"colorway\":[\"#636efa\",\"#EF553B\",\"#00cc96\",\"#ab63fa\",\"#FFA15A\",\"#19d3f3\",\"#FF6692\",\"#B6E880\",\"#FF97FF\",\"#FECB52\"],\"font\":{\"color\":\"#f2f5fa\"},\"hovermode\":\"closest\",\"hoverlabel\":{\"align\":\"left\"},\"paper_bgcolor\":\"rgb(17,17,17)\",\"plot_bgcolor\":\"rgb(17,17,17)\",\"polar\":{\"bgcolor\":\"rgb(17,17,17)\",\"angularaxis\":{\"gridcolor\":\"#506784\",\"linecolor\":\"#506784\",\"ticks\":\"\"},\"radialaxis\":{\"gridcolor\":\"#506784\",\"linecolor\":\"#506784\",\"ticks\":\"\"}},\"ternary\":{\"bgcolor\":\"rgb(17,17,17)\",\"aaxis\":{\"gridcolor\":\"#506784\",\"linecolor\":\"#506784\",\"ticks\":\"\"},\"baxis\":{\"gridcolor\":\"#506784\",\"linecolor\":\"#506784\",\"ticks\":\"\"},\"caxis\":{\"gridcolor\":\"#506784\",\"linecolor\":\"#506784\",\"ticks\":\"\"}},\"coloraxis\":{\"colorbar\":{\"outlinewidth\":0,\"ticks\":\"\"}},\"colorscale\":{\"sequential\":[[0.0,\"#0d0887\"],[0.1111111111111111,\"#46039f\"],[0.2222222222222222,\"#7201a8\"],[0.3333333333333333,\"#9c179e\"],[0.4444444444444444,\"#bd3786\"],[0.5555555555555556,\"#d8576b\"],[0.6666666666666666,\"#ed7953\"],[0.7777777777777778,\"#fb9f3a\"],[0.8888888888888888,\"#fdca26\"],[1.0,\"#f0f921\"]],\"sequentialminus\":[[0.0,\"#0d0887\"],[0.1111111111111111,\"#46039f\"],[0.2222222222222222,\"#7201a8\"],[0.3333333333333333,\"#9c179e\"],[0.4444444444444444,\"#bd3786\"],[0.5555555555555556,\"#d8576b\"],[0.6666666666666666,\"#ed7953\"],[0.7777777777777778,\"#fb9f3a\"],[0.8888888888888888,\"#fdca26\"],[1.0,\"#f0f921\"]],\"diverging\":[[0,\"#8e0152\"],[0.1,\"#c51b7d\"],[0.2,\"#de77ae\"],[0.3,\"#f1b6da\"],[0.4,\"#fde0ef\"],[0.5,\"#f7f7f7\"],[0.6,\"#e6f5d0\"],[0.7,\"#b8e186\"],[0.8,\"#7fbc41\"],[0.9,\"#4d9221\"],[1,\"#276419\"]]},\"xaxis\":{\"gridcolor\":\"#283442\",\"linecolor\":\"#506784\",\"ticks\":\"\",\"title\":{\"standoff\":15},\"zerolinecolor\":\"#283442\",\"automargin\":true,\"zerolinewidth\":2},\"yaxis\":{\"gridcolor\":\"#283442\",\"linecolor\":\"#506784\",\"ticks\":\"\",\"title\":{\"standoff\":15},\"zerolinecolor\":\"#283442\",\"automargin\":true,\"zerolinewidth\":2},\"scene\":{\"xaxis\":{\"backgroundcolor\":\"rgb(17,17,17)\",\"gridcolor\":\"#506784\",\"linecolor\":\"#506784\",\"showbackground\":true,\"ticks\":\"\",\"zerolinecolor\":\"#C8D4E3\",\"gridwidth\":2},\"yaxis\":{\"backgroundcolor\":\"rgb(17,17,17)\",\"gridcolor\":\"#506784\",\"linecolor\":\"#506784\",\"showbackground\":true,\"ticks\":\"\",\"zerolinecolor\":\"#C8D4E3\",\"gridwidth\":2},\"zaxis\":{\"backgroundcolor\":\"rgb(17,17,17)\",\"gridcolor\":\"#506784\",\"linecolor\":\"#506784\",\"showbackground\":true,\"ticks\":\"\",\"zerolinecolor\":\"#C8D4E3\",\"gridwidth\":2}},\"shapedefaults\":{\"line\":{\"color\":\"#f2f5fa\"}},\"annotationdefaults\":{\"arrowcolor\":\"#f2f5fa\",\"arrowhead\":0,\"arrowwidth\":1},\"geo\":{\"bgcolor\":\"rgb(17,17,17)\",\"landcolor\":\"rgb(17,17,17)\",\"subunitcolor\":\"#506784\",\"showland\":true,\"showlakes\":true,\"lakecolor\":\"rgb(17,17,17)\"},\"title\":{\"x\":0.05},\"updatemenudefaults\":{\"bgcolor\":\"#506784\",\"borderwidth\":0},\"sliderdefaults\":{\"bgcolor\":\"#C8D4E3\",\"borderwidth\":1,\"bordercolor\":\"rgb(17,17,17)\",\"tickwidth\":0},\"mapbox\":{\"style\":\"dark\"}}},\"xaxis\":{\"anchor\":\"y\",\"domain\":[0.0,1.0],\"title\":{\"text\":\"transaction_date\"}},\"yaxis\":{\"anchor\":\"x\",\"domain\":[0.0,1.0],\"title\":{\"text\":\"sum of value\"}},\"legend\":{\"title\":{\"text\":\"variable\"},\"tracegroupgap\":0},\"margin\":{\"t\":60},\"barmode\":\"overlay\"},                        {\"responsive\": true}                    ).then(function(){\n                            \nvar gd = document.getElementById('0aa9f7a5-9a13-43fa-883f-9db4be68cb6f');\nvar x = new MutationObserver(function (mutations, observer) {{\n        var display = window.getComputedStyle(gd).display;\n        if (!display || display === 'none') {{\n            console.log([gd, 'removed!']);\n            Plotly.purge(gd);\n            observer.disconnect();\n        }}\n}});\n\n// Listen for the removal of the full notebook cells\nvar notebookContainer = gd.closest('#notebook-container');\nif (notebookContainer) {{\n    x.observe(notebookContainer, {childList: true});\n}}\n\n// Listen for the clearing of the current output cell\nvar outputEl = gd.closest('.output');\nif (outputEl) {{\n    x.observe(outputEl, {childList: true});\n}}\n\n                        })                };                });            </script>        </div>"
     },
     "metadata": {},
     "output_type": "display_data"
    }
   ],
   "source": [
    "fig_third = px.histogram(purchase_sales_lb_ub_df, x = 'transaction_date', y=purchase_sales_lb_ub_df.columns, barmode='overlay')\n",
    "fig_third.show()"
   ],
   "metadata": {
    "collapsed": false,
    "pycharm": {
     "name": "#%%\n"
    },
    "trusted": false
   }
  }
 ],
 "metadata": {
  "kernelspec": {
   "display_name": "Python 3",
   "language": "python",
   "name": "python3"
  },
  "language_info": {
   "codemirror_mode": {
    "name": "ipython",
    "version": 2
   },
   "file_extension": ".py",
   "mimetype": "text/x-python",
   "name": "python",
   "nbconvert_exporter": "python",
   "pygments_lexer": "ipython2",
   "version": "2.7.6"
  }
 },
 "nbformat": 4,
 "nbformat_minor": 0
}