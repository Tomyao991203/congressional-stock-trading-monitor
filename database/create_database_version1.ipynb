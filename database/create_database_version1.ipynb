{
 "cells": [
  {
   "cell_type": "code",
   "execution_count": 20,
   "id": "5f7675c9-c0d3-4ffa-a5ba-6d96832f1fa5",
   "metadata": {},
   "outputs": [],
   "source": [
    "import sqlite3\n",
    "from sqlite3 import Error\n",
    "from typing import Tuple, List, Union\n",
    "import random\n",
    "from random import choice\n",
    "import csv"
   ]
  },
  {
   "cell_type": "code",
   "execution_count": 21,
   "id": "8d6836be-2a95-4ab0-a638-8c7312a92e0a",
   "metadata": {},
   "outputs": [],
   "source": [
    "def read_data_from_csv(csv_path:str)->Tuple:\n",
    "    \"\"\"\n",
    "    read data from a csv file (no input validataion)\n",
    "    @param csv_path: path to csv file\n",
    "    @return: header, and data in the form of list of tuple\n",
    "    \"\"\"\n",
    "    with open(csv_path) as file:\n",
    "        csvreader = csv.reader(file)\n",
    "        header = next(csvreader)\n",
    "        print(header)\n",
    "        rows = []\n",
    "        for row in csvreader:\n",
    "            rows.append(tuple(row))\n",
    "        return header, rows\n",
    "    \n",
    "    \n",
    "    "
   ]
  },
  {
   "cell_type": "code",
   "execution_count": 22,
   "id": "4b3ee9b3-bfd5-46e0-a1b2-077846200cc0",
   "metadata": {},
   "outputs": [],
   "source": [
    "def create_database(db_file:str, schema_file: str):\n",
    "    \"\"\" \n",
    "    create a database connection to a SQLite database and create tables based on schema file \n",
    "    @param db_file: path to db file\n",
    "    @param schema_file: path to schema file\n",
    "    \"\"\"\n",
    "    connection = None\n",
    "    try:\n",
    "        connection = sqlite3.connect(db_file)\n",
    "        with open(schema_file) as file:\n",
    "            connection.executescript(file.read())\n",
    "        print(sqlite3.version)\n",
    "    except Error as e:\n",
    "        print(e)\n",
    "    finally:\n",
    "        if connection:\n",
    "            connection.close()"
   ]
  },
  {
   "cell_type": "code",
   "execution_count": 23,
   "id": "9c9178de-09ba-4aa1-b875-cb3ef1fda7eb",
   "metadata": {},
   "outputs": [],
   "source": [
    "def insert_entry_to_table(db_file:str, entry_value: Tuple, table_name: str,key_name: Union[List[str],Tuple]):\n",
    "    \"\"\" \n",
    "    insert one entry to the demo table \n",
    "    @param db_file: path to db file\n",
    "    @param entry_value: value of entry to be inserted\n",
    "    @param key_name: name of each key in the database\n",
    "    @param table_name: name of table\n",
    "    \"\"\"\n",
    "    connection = None\n",
    "    try:\n",
    "        assert len(key_name) == len(entry_value)\n",
    "        connection = sqlite3.connect(db_file)\n",
    "        cur = connection.cursor()\n",
    "        key_name_str = str(tuple(key_name))\n",
    "        value_str = \"(\" + \" ?,\"*(len(key_name)-1) + \" ?)\"\n",
    "        query = f\"INSERT INTO {table_name} {key_name_str} VALUES {value_str}\"\n",
    "        cur.execute(query, entry_value)\n",
    "    except Error as e:\n",
    "        print(e)\n",
    "    finally:\n",
    "        if connection:\n",
    "            connection.commit()\n",
    "            connection.close()\n",
    "    "
   ]
  },
  {
   "cell_type": "code",
   "execution_count": 24,
   "id": "4d90f950-dfe0-4075-ac3d-1eff38ed8528",
   "metadata": {},
   "outputs": [],
   "source": [
    "# def insert_entry_demo_table_with_default_time(db_file:str, entry_value: Tuple):\n",
    "#     \"\"\" \n",
    "#     insert one entry to the demo table \n",
    "#     @param db_file: path to db file\n",
    "#     @param entry_value: value of entry to be inserted\n",
    "#     @param entry_name: name of each key in the database\n",
    "#     \"\"\"\n",
    "#     connection = None\n",
    "#     try:\n",
    "#         connection = sqlite3.connect(db_file)\n",
    "#         cur = connection.cursor()\n",
    "#         query = \"INSERT INTO demo_table (member_name, company, value) VALUES (?, ?, ?)\"\n",
    "#         cur.execute(query, entry_value)\n",
    "#     except Error as e:\n",
    "#         print(e)\n",
    "#     finally:\n",
    "#         if connection:\n",
    "#             connection.commit()\n",
    "#             connection.close()\n",
    "    "
   ]
  },
  {
   "cell_type": "code",
   "execution_count": 25,
   "id": "3adf22bf-b93b-46b7-8a84-ca716aa97e32",
   "metadata": {},
   "outputs": [],
   "source": [
    "        \n",
    "def insert_entries_to_table(db_file:str, entries: List, table_name:str, key_name: Union[List[str],Tuple[str]]):\n",
    "    \"\"\" \n",
    "    insert entries to the demo table \n",
    "    @param db_file: path to db file\n",
    "    @param entries: list of tuples of values of entries to be inserted\n",
    "    @param key_name: name of each key in the database\n",
    "    @param table_name: name of table\n",
    "    \"\"\"\n",
    "    connection = None\n",
    "    try:\n",
    "        connection = sqlite3.connect(db_file)\n",
    "        cur = connection.cursor()\n",
    "        key_name_str = str(tuple(key_name))\n",
    "        value_str = \"(\" + \" ?,\"*(len(key_name)-1) + \" ?)\"\n",
    "        query = f\"INSERT INTO {table_name} {key_name_str} VALUES {value_str}\"\n",
    "        cur.executemany(query, entries)\n",
    "    except Error as e:\n",
    "        print(e)\n",
    "    finally:\n",
    "        if connection:\n",
    "            connection.commit()\n",
    "            connection.close()\n",
    "    "
   ]
  },
  {
   "cell_type": "code",
   "execution_count": 26,
   "id": "0dabc45b-5eaf-4be5-b704-a7cc35f1c3db",
   "metadata": {},
   "outputs": [],
   "source": [
    "# def insert_entries_demo_table_with_default_time(db_file:str, entries: List):\n",
    "#     \"\"\" \n",
    "#     insert entries to the demo table \n",
    "#     @param db_file: path to db file\n",
    "#     @param entries: list of tuples of values of entries to be inserted\n",
    "#     \"\"\"\n",
    "#     connection = None\n",
    "#     try:\n",
    "#         connection = sqlite3.connect(db_file)\n",
    "#         cur = connection.cursor()\n",
    "#         query = \"INSERT INTO demo_table (member_name, company, value) VALUES (?, ?, ?)\"\n",
    "#         cur.executemany(query, entries)\n",
    "#     except Error as e:\n",
    "#         print(e)\n",
    "#     finally:\n",
    "#         if connection:\n",
    "#             connection.commit()\n",
    "#             connection.close()\n",
    "    "
   ]
  },
  {
   "cell_type": "code",
   "execution_count": 27,
   "id": "503d3f16-94aa-4b38-98fd-8efac780fb63",
   "metadata": {},
   "outputs": [],
   "source": [
    "def get_all_entries_from_db(db_file: str, table_name: str) -> List[str]:\n",
    "    \"\"\" \n",
    "    insert entries to the demo table \n",
    "    @param db_file: path to db file\n",
    "    @param table_name: name of the table that we are interested in\n",
    "    @return: a list of all entries\n",
    "    \"\"\"\n",
    "    connection = None\n",
    "    try:\n",
    "        connection = sqlite3.connect(db_file)\n",
    "        cur = connection.cursor()\n",
    "        query = f'SELECT * FROM {table_name} ORDER BY transaction_date'\n",
    "        entries = cur.execute(query)\n",
    "        for row in entries:\n",
    "            print(row)\n",
    "    except Error as e:\n",
    "        print(e)\n",
    "    finally:\n",
    "        if connection:\n",
    "            connection.close()\n",
    "            return entries\n",
    "    "
   ]
  },
  {
   "cell_type": "code",
   "execution_count": 28,
   "id": "94e150ce-7766-4be6-b66c-7d8d5231a80b",
   "metadata": {},
   "outputs": [],
   "source": [
    "#parameters we are going to use\n",
    "data_base_name = r\"v1.db\"\n",
    "sql_schema = r\"v1_schema.sql\"\n",
    "table_name = r\"all_transaction\"\n",
    "csv_path = r\"v1_data.csv\""
   ]
  },
  {
   "cell_type": "code",
   "execution_count": 29,
   "id": "13ae5c4c-827e-4d7e-a1c7-af32950e1bfc",
   "metadata": {},
   "outputs": [
    {
     "name": "stdout",
     "output_type": "stream",
     "text": [
      "['member_name', 'state_district_number', 'company', 'ticker', 'transaction_type', 'transaction_date', 'value_lb', 'value_ub', 'description', 'link']\n"
     ]
    }
   ],
   "source": [
    "# parse data\n",
    "header, data = read_data_from_csv(csv_path)"
   ]
  },
  {
   "cell_type": "code",
   "execution_count": 30,
   "id": "a5237e38-c05e-41ab-8281-d4b1e428c59b",
   "metadata": {
    "tags": []
   },
   "outputs": [
    {
     "name": "stdout",
     "output_type": "stream",
     "text": [
      "2.6.0\n"
     ]
    }
   ],
   "source": [
    "# create database\n",
    "create_database(data_base_name, schema_file=sql_schema)"
   ]
  },
  {
   "cell_type": "code",
   "execution_count": 31,
   "id": "c6c6b1a7-b2df-4519-b2d0-2fef228b9c61",
   "metadata": {},
   "outputs": [],
   "source": [
    "# test insert one entry\n",
    "insert_entry_to_table(db_file=data_base_name, entry_value=data[0],table_name=table_name, key_name=header)"
   ]
  },
  {
   "cell_type": "code",
   "execution_count": 32,
   "id": "f5919d84-57c7-49cc-8a29-2829c00d45b2",
   "metadata": {},
   "outputs": [
    {
     "name": "stdout",
     "output_type": "stream",
     "text": [
      "(1, 'Nancy Pelosi', 'CA12', 'Tesla, Inc', 'TSLA', 'P', '2022-03-17', 1000001, 5000000, 'Exercised 25 call options(2,500 shares) expiring 3/18/22 at a strike price of $500.', 'https://disclosures-clerk.house.gov/public_disc/ptr-pdfs/2022/20020662.pdf')\n"
     ]
    }
   ],
   "source": [
    "entries = get_all_entries_from_db(db_file=data_base_name, table_name=table_name)"
   ]
  },
  {
   "cell_type": "code",
   "execution_count": 33,
   "id": "f6e9e54a-fb0a-4706-bac9-97f78d0f2c98",
   "metadata": {},
   "outputs": [],
   "source": [
    "# test insert many\n",
    "insert_entries_to_table(db_file=data_base_name, entries=data[1:],table_name=table_name, key_name=header)"
   ]
  },
  {
   "cell_type": "code",
   "execution_count": 34,
   "id": "a30029ea-ee99-49e3-9976-cd00bd2edbc0",
   "metadata": {},
   "outputs": [
    {
     "name": "stdout",
     "output_type": "stream",
     "text": [
      "(2, 'Robert E. Andrews', 'NJ01', 'Hill International, Inc', 'HIL', 'S', '2013-12-26', 15001, 50000, 'None', 'https://disclosures-clerk.house.gov/public_disc/ptr-pdfs/2014/20000077.pdf')\n",
      "(7, 'Eric Cantor', 'VA07', 'Mesabi Trust', 'MSB', 'P', '2014-01-16', 15001, 50000, 'None', 'https://disclosures-clerk.house.gov/public_disc/ptr-pdfs/2014/20000165.pdf')\n",
      "(4, 'John A. Boehner', 'OH08', 'Diamond Offshore Drilling, Inc', 'DO', 'S', '2014-02-06', 1001, 15000, 'None', 'https://disclosures-clerk.house.gov/public_disc/ptr-pdfs/2014/20000284.pdf')\n",
      "(6, 'Michael C. Burgess', 'TX26', 'General Electric Company', 'GE', 'S', '2014-03-10', 1001, 15000, 'None', 'https://disclosures-clerk.house.gov/public_disc/ptr-pdfs/2014/20000708.pdf')\n",
      "(5, 'Mo Brooks', 'AL05', 'Morgan Stanley Cap Tr V Gtd Secs', 'MWO', 'S', '2014-05-05', 1001, 15000, 'None', 'https://disclosures-clerk.house.gov/public_disc/ptr-pdfs/2014/20000606.pdf')\n",
      "(3, 'Lou Barletta', 'PA11', 'Gigamon Inc', 'GIMO', 'S', '2014-05-22', 1001, 15000, 'None', 'https://disclosures-clerk.house.gov/public_disc/ptr-pdfs/2014/20000998.pdf')\n",
      "(11, 'William M. Cassidy', 'LA06', 'Ford Motor Company', 'F', 'S', '2014-09-11', 1001, 15000, 'None', 'https://disclosures-clerk.house.gov/public_disc/ptr-pdfs/2015/20003626.pdf')\n",
      "(12, 'William M. Cassidy', 'LA06', 'Intel Corporation', 'INTC', 'S', '2014-09-11', 1001, 15000, 'None', 'https://disclosures-clerk.house.gov/public_disc/ptr-pdfs/2015/20003626.pdf')\n",
      "(19, 'Michael Conaway', 'TX11', 'Actavis plc Ordinary Shares', 'ACT', 'P', '2014-12-11', 1001, 15000, 'None', 'https://disclosures-clerk.house.gov/public_disc/ptr-pdfs/2015/20002307.pdf')\n",
      "(10, 'William M. Cassidy', 'LA06', 'Chevron Corporation', 'CVX', 'P', '2014-12-16', 15001, 50000, 'None', 'https://disclosures-clerk.house.gov/public_disc/ptr-pdfs/2015/20003626.pdf')\n",
      "(17, 'Katherine M Clark', 'MA05', 'Spectra Energy Corp', 'SE', 'S', '2014-12-17', 1001, 15000, 'None', 'https://disclosures-clerk.house.gov/public_disc/ptr-pdfs/2015/20002346.pdf')\n",
      "(16, 'Katherine M Clark', 'MA05', 'Packaging Corporation of America', 'PKG', 'P', '2014-12-18', 1001, 15000, 'None', 'https://disclosures-clerk.house.gov/public_disc/ptr-pdfs/2015/20002346.pdf')\n",
      "(13, 'Kathy Castor', 'FL14', 'Caterpillar, Inc', 'CAT', 'P', '2014-12-24', 1001, 15000, 'None', 'https://disclosures-clerk.house.gov/public_disc/ptr-pdfs/2015/20002315.pdf')\n",
      "(8, 'Earl Blumenauer', 'OR03', 'Northwest Natural Gas Company', 'NWN', 'P', '2015-02-25', 15001, 50000, 'Part of compensation and long term incentive plan', 'https://disclosures-clerk.house.gov/public_disc/ptr-pdfs/2015/20002777.pdf')\n",
      "(20, 'Gerald E. Connolly', 'VA11', 'Dominion Resources, Inc', 'D', 'P', '2015-03-25', 1001, 15000, 'Divident Reinvestment', 'https://disclosures-clerk.house.gov/public_disc/ptr-pdfs/2015/20002942.pdf')\n",
      "(14, 'Steve Chabot', 'OH01', 'Actavis plc Ordinary Shares', 'ACT', 'P', '2015-05-26', 1001, 15000, 'None', 'https://disclosures-clerk.house.gov/public_disc/ptr-pdfs/2015/20003295.pdf')\n",
      "(15, 'Steve Chabot', 'OH01', 'Facebook, Inc. - Class A', 'FB', 'P', '2015-05-26', 1001, 15000, 'None', 'https://disclosures-clerk.house.gov/public_disc/ptr-pdfs/2015/20003295.pdf')\n",
      "(18, 'Barbara J. Comstock', 'VA10', 'Ambarella, Inc. - Ordinary Shares', 'AMBA', 'S', '2015-06-19', 1001, 15000, 'None', 'https://disclosures-clerk.house.gov/public_disc/ptr-pdfs/2015/20003280.pdf')\n",
      "(9, 'Cheri Bustos', 'IL17', 'Norfolk Southern Corporation', 'NSC', 'S', '2015-08-20', 15001, 50000, 'None', 'https://disclosures-clerk.house.gov/public_disc/ptr-pdfs/2015/20003873.pdf')\n",
      "(21, 'Carlos Curbelo', 'FL26', 'Cisco Systems, Inc', 'CSCO', 'P', '2015-08-24', 1001, 15000, 'None', 'https://disclosures-clerk.house.gov/public_disc/ptr-pdfs/2015/20003554.pdf')\n",
      "(23, 'Jim Costa', 'CA16', 'Heartland Financial USA, Inc', 'HTLF', 'E', '2015-12-04', 1001, 15000, 'Heartland Financial USA (HTLF) exchanged from Premier Valley Bank (PVLY)', 'https://disclosures-clerk.house.gov/public_disc/ptr-pdfs/2016/20005131.pdf')\n",
      "(26, 'Lloyd Doggett', 'TX35', 'Home Depot, Inc.', 'HD', 'P', '2015-12-17', 1001, 15000, 'None', 'https://disclosures-clerk.house.gov/public_disc/ptr-pdfs/2016/20004334.pdf')\n",
      "(29, 'Virginia Foxx', 'NC05', 'Schwab International Equity ETF', 'SCHF', 'P', '2015-12-29', 1001, 15000, 'None', 'https://disclosures-clerk.house.gov/public_disc/ptr-pdfs/2016/20004323.pdf')\n",
      "(28, 'Bill Flores', 'TX17', 'Apple Inc.', 'AAPL', 'S', '2015-12-30', 1001, 15000, 'None', 'https://disclosures-clerk.house.gov/public_disc/ptr-pdfs/2016/20004413.pdf')\n",
      "(24, 'Susan A. Davis', 'CA53', 'QUALCOMM Incorporated', 'QCOM', 'P', '2016-01-25', 1001, 15000, 'None', 'https://disclosures-clerk.house.gov/public_disc/ptr-pdfs/2016/20004603.pdf')\n",
      "(30, 'Bob Gibbs', 'OH07', 'Apple Inc.', 'AAPL', 'P', '2016-01-27', 1001, 15000, 'None', 'https://disclosures-clerk.house.gov/public_disc/ptr-pdfs/2016/20004472.pdf')\n",
      "(25, 'Debbie Dingell', 'MI12', 'International Paper Company', 'IP', 'P', '2016-02-02', 1001, 15000, 'None', 'https://disclosures-clerk.house.gov/public_disc/ptr-pdfs/2016/20004614.pdf')\n",
      "(27, 'Tammy Duckworth', 'IL08', 'EMC Corporation', 'EMC', 'S', '2016-09-07', 1001, 15000, 'None', 'https://disclosures-clerk.house.gov/public_disc/ptr-pdfs/2016/20006086.pdf')\n",
      "(32, 'Derek Kilmer', 'WA06', 'Microsoft Corporation', 'MSFT', 'S', '2017-03-17', 1001, 15000, 'None', 'https://disclosures-clerk.house.gov/public_disc/ptr-pdfs/2018/20009709.pdf')\n",
      "(22, 'Suzan K. DelBene', 'WA01', 'Microsoft Corporation', 'MSFT', 'P', '2017-08-29', 250001, 500000, 'None', 'https://disclosures-clerk.house.gov/public_disc/ptr-pdfs/2017/20007986.pdf')\n",
      "(31, 'Josh Gottheimer', 'NJ01', 'Microsoft Corporation', 'MSFT', 'S', '2018-11-28', 1001, 15000, 'Call option; Strike Price $117; Expires 12/14/2018', 'https://disclosures-clerk.house.gov/public_disc/ptr-pdfs/2018/20010807.pdf')\n",
      "(1, 'Nancy Pelosi', 'CA12', 'Tesla, Inc', 'TSLA', 'P', '2022-03-17', 1000001, 5000000, 'Exercised 25 call options(2,500 shares) expiring 3/18/22 at a strike price of $500.', 'https://disclosures-clerk.house.gov/public_disc/ptr-pdfs/2022/20020662.pdf')\n"
     ]
    }
   ],
   "source": [
    "entries = get_all_entries_from_db(db_file=data_base_name, table_name=table_name)"
   ]
  },
  {
   "cell_type": "code",
   "execution_count": 48,
   "id": "b56e20b4-e8b8-488a-aa61-bc30a0fc37f3",
   "metadata": {},
   "outputs": [
    {
     "name": "stdout",
     "output_type": "stream",
     "text": [
      "(3, 'Lou Barletta', 'PA11', 'Gigamon Inc', 'GIMO', 'S', '2014-05-22', 1001, 15000, 'None', 'https://disclosures-clerk.house.gov/public_disc/ptr-pdfs/2014/20000998.pdf')\n",
      "(4, 'John A. Boehner', 'OH08', 'Diamond Offshore Drilling, Inc', 'DO', 'S', '2014-02-06', 1001, 15000, 'None', 'https://disclosures-clerk.house.gov/public_disc/ptr-pdfs/2014/20000284.pdf')\n",
      "(5, 'Mo Brooks', 'AL05', 'Morgan Stanley Cap Tr V Gtd Secs', 'MWO', 'S', '2014-05-05', 1001, 15000, 'None', 'https://disclosures-clerk.house.gov/public_disc/ptr-pdfs/2014/20000606.pdf')\n",
      "(6, 'Michael C. Burgess', 'TX26', 'General Electric Company', 'GE', 'S', '2014-03-10', 1001, 15000, 'None', 'https://disclosures-clerk.house.gov/public_disc/ptr-pdfs/2014/20000708.pdf')\n",
      "(7, 'Eric Cantor', 'VA07', 'Mesabi Trust', 'MSB', 'P', '2014-01-16', 15001, 50000, 'None', 'https://disclosures-clerk.house.gov/public_disc/ptr-pdfs/2014/20000165.pdf')\n",
      "(10, 'William M. Cassidy', 'LA06', 'Chevron Corporation', 'CVX', 'P', '2014-12-16', 15001, 50000, 'None', 'https://disclosures-clerk.house.gov/public_disc/ptr-pdfs/2015/20003626.pdf')\n",
      "(11, 'William M. Cassidy', 'LA06', 'Ford Motor Company', 'F', 'S', '2014-09-11', 1001, 15000, 'None', 'https://disclosures-clerk.house.gov/public_disc/ptr-pdfs/2015/20003626.pdf')\n",
      "(12, 'William M. Cassidy', 'LA06', 'Intel Corporation', 'INTC', 'S', '2014-09-11', 1001, 15000, 'None', 'https://disclosures-clerk.house.gov/public_disc/ptr-pdfs/2015/20003626.pdf')\n",
      "(13, 'Kathy Castor', 'FL14', 'Caterpillar, Inc', 'CAT', 'P', '2014-12-24', 1001, 15000, 'None', 'https://disclosures-clerk.house.gov/public_disc/ptr-pdfs/2015/20002315.pdf')\n",
      "(16, 'Katherine M Clark', 'MA05', 'Packaging Corporation of America', 'PKG', 'P', '2014-12-18', 1001, 15000, 'None', 'https://disclosures-clerk.house.gov/public_disc/ptr-pdfs/2015/20002346.pdf')\n",
      "(17, 'Katherine M Clark', 'MA05', 'Spectra Energy Corp', 'SE', 'S', '2014-12-17', 1001, 15000, 'None', 'https://disclosures-clerk.house.gov/public_disc/ptr-pdfs/2015/20002346.pdf')\n",
      "(19, 'Michael Conaway', 'TX11', 'Actavis plc Ordinary Shares', 'ACT', 'P', '2014-12-11', 1001, 15000, 'None', 'https://disclosures-clerk.house.gov/public_disc/ptr-pdfs/2015/20002307.pdf')\n"
     ]
    }
   ],
   "source": [
    "connection = sqlite3.connect(data_base_name)\n",
    "cur = connection.cursor()\n",
    "query = f'SELECT * from {table_name} where strftime(\\'%Y\\',transaction_date) = \\'2014\\''\n",
    "q= r\"SELECT strftime('%Y','2022-04-10')\"\n",
    "entries = cur.execute(query)\n",
    "for row in entries:\n",
    "    print(row)"
   ]
  }
 ],
 "metadata": {
  "kernelspec": {
   "display_name": "Python 3 (ipykernel)",
   "language": "python",
   "name": "python3"
  },
  "language_info": {
   "codemirror_mode": {
    "name": "ipython",
    "version": 3
   },
   "file_extension": ".py",
   "mimetype": "text/x-python",
   "name": "python",
   "nbconvert_exporter": "python",
   "pygments_lexer": "ipython3",
   "version": "3.8.12"
  }
 },
 "nbformat": 4,
 "nbformat_minor": 5
}
