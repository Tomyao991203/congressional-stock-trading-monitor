{
 "cells": [
  {
   "cell_type": "code",
   "execution_count": 14,
   "id": "5f7675c9-c0d3-4ffa-a5ba-6d96832f1fa5",
   "metadata": {},
   "outputs": [],
   "source": [
    "import sqlite3\n",
    "from sqlite3 import Error\n",
    "from typing import Tuple, List\n",
    "import random\n",
    "from random import choice"
   ]
  },
  {
   "cell_type": "code",
   "execution_count": 7,
   "id": "4b3ee9b3-bfd5-46e0-a1b2-077846200cc0",
   "metadata": {},
   "outputs": [],
   "source": [
    "def create_table(db_file:str, schema_file: str):\n",
    "    \"\"\" \n",
    "    create a database connection to a SQLite database and create tables based on schema file \n",
    "    @param db_file: path to db file\n",
    "    @param schema_file: path to schema file\n",
    "    \"\"\"\n",
    "    connection = None\n",
    "    try:\n",
    "        connection = sqlite3.connect(db_file)\n",
    "        with open(schema_file) as file:\n",
    "            connection.executescript(file.read())\n",
    "        print(sqlite3.version)\n",
    "    except Error as e:\n",
    "        print(e)\n",
    "    finally:\n",
    "        if connection:\n",
    "            connection.close()"
   ]
  },
  {
   "cell_type": "code",
   "execution_count": 11,
   "id": "9c9178de-09ba-4aa1-b875-cb3ef1fda7eb",
   "metadata": {},
   "outputs": [],
   "source": [
    "def insert_entry_demo_table(db_file:str, entry_value: Tuple):\n",
    "    \"\"\" \n",
    "    insert one entry to the demo table \n",
    "    @param db_file: path to db file\n",
    "    @param entry_value: value of entry to be inserted\n",
    "    \"\"\"\n",
    "    connection = None\n",
    "    try:\n",
    "        connection = sqlite3.connect(db_file)\n",
    "        cur = connection.cursor()\n",
    "        query = \"INSERT INTO demo_table (member_name, transaction_date, company, value) VALUES (?, ?, ?, ?)\"\n",
    "        cur.execute(query, entry_value)\n",
    "    except Error as e:\n",
    "        print(e)\n",
    "    finally:\n",
    "        if connection:\n",
    "            connection.commit()\n",
    "            connection.close()\n",
    "    "
   ]
  },
  {
   "cell_type": "code",
   "execution_count": 15,
   "id": "4d90f950-dfe0-4075-ac3d-1eff38ed8528",
   "metadata": {},
   "outputs": [],
   "source": [
    "def insert_entry_demo_table_with_default_time(db_file:str, entry_value: Tuple):\n",
    "    \"\"\" \n",
    "    insert one entry to the demo table \n",
    "    @param db_file: path to db file\n",
    "    @param entry_value: value of entry to be inserted\n",
    "    \"\"\"\n",
    "    connection = None\n",
    "    try:\n",
    "        connection = sqlite3.connect(db_file)\n",
    "        cur = connection.cursor()\n",
    "        query = \"INSERT INTO demo_table (member_name, company, value) VALUES (?, ?, ?)\"\n",
    "        cur.execute(query, entry_value)\n",
    "    except Error as e:\n",
    "        print(e)\n",
    "    finally:\n",
    "        if connection:\n",
    "            connection.commit()\n",
    "            connection.close()\n",
    "    "
   ]
  },
  {
   "cell_type": "code",
   "execution_count": 9,
   "id": "3adf22bf-b93b-46b7-8a84-ca716aa97e32",
   "metadata": {},
   "outputs": [],
   "source": [
    "        \n",
    "def insert_entries_demo_table(db_file:str, entries: List):\n",
    "    \"\"\" \n",
    "    insert entries to the demo table \n",
    "    @param db_file: path to db file\n",
    "    @param entries: list of tuples of values of entries to be inserted\n",
    "    \"\"\"\n",
    "    connection = None\n",
    "    try:\n",
    "        connection = sqlite3.connect(db_file)\n",
    "        cur = connection.cursor()\n",
    "        query = \"INSERT INTO demo_table (member_name, transaction_date, company, value) VALUES (?, ?, ?, ?)\"\n",
    "        cur.executemany(query, entries)\n",
    "    except Error as e:\n",
    "        print(e)\n",
    "    finally:\n",
    "        if connection:\n",
    "            connection.commit()\n",
    "            connection.close()\n",
    "    "
   ]
  },
  {
   "cell_type": "code",
   "execution_count": 16,
   "id": "0dabc45b-5eaf-4be5-b704-a7cc35f1c3db",
   "metadata": {},
   "outputs": [],
   "source": [
    "def insert_entries_demo_table_with_default_time(db_file:str, entries: List):\n",
    "    \"\"\" \n",
    "    insert entries to the demo table \n",
    "    @param db_file: path to db file\n",
    "    @param entries: list of tuples of values of entries to be inserted\n",
    "    \"\"\"\n",
    "    connection = None\n",
    "    try:\n",
    "        connection = sqlite3.connect(db_file)\n",
    "        cur = connection.cursor()\n",
    "        query = \"INSERT INTO demo_table (member_name, company, value) VALUES (?, ?, ?)\"\n",
    "        cur.executemany(query, entries)\n",
    "    except Error as e:\n",
    "        print(e)\n",
    "    finally:\n",
    "        if connection:\n",
    "            connection.commit()\n",
    "            connection.close()\n",
    "    "
   ]
  },
  {
   "cell_type": "code",
   "execution_count": 19,
   "id": "503d3f16-94aa-4b38-98fd-8efac780fb63",
   "metadata": {},
   "outputs": [],
   "source": [
    "def get_all_entries_from_db(db_file: str, table_name: str) -> List[str]:\n",
    "    \"\"\" \n",
    "    insert entries to the demo table \n",
    "    @param db_file: path to db file\n",
    "    @param table_name: name of the table that we are interested in\n",
    "    @return: a list of all entries\n",
    "    \"\"\"\n",
    "    connection = None\n",
    "    try:\n",
    "        connection = sqlite3.connect(db_file)\n",
    "        cur = connection.cursor()\n",
    "        query = f'SELECT * FROM {table_name} ORDER BY transaction_date'\n",
    "        entries = cur.execute(query)\n",
    "        for row in entries:\n",
    "            print(row)\n",
    "    except Error as e:\n",
    "        print(e)\n",
    "    finally:\n",
    "        if connection:\n",
    "            connection.close()\n",
    "            return entries\n",
    "    "
   ]
  },
  {
   "cell_type": "code",
   "execution_count": 27,
   "id": "94e150ce-7766-4be6-b66c-7d8d5231a80b",
   "metadata": {},
   "outputs": [],
   "source": [
    "#parameters we are going to use\n",
    "demo_db = r\"demo.db\"\n",
    "sql_schema = r\"demo_schema.sql\"\n",
    "table_name = r\"demo_table\""
   ]
  },
  {
   "cell_type": "code",
   "execution_count": 37,
   "id": "a464a484-76d3-4b20-b01d-34a0ee99ef43",
   "metadata": {},
   "outputs": [
    {
     "name": "stdout",
     "output_type": "stream",
     "text": [
      "2.6.0\n",
      "('Newton', 'I LOVE DS', 9770.75546978201)\n"
     ]
    }
   ],
   "source": [
    "#test populate demo_db with one entry\n",
    "companies = [\"I LOVE CE\",\"I LOVE EE\",\"I LOVE CS\", \"I LOVE STAT\", \"I LOVE BADMINTON\", \"I LOVE ML\", \"I LOVE DS\"]\n",
    "member_names = [\"Newton\", \"Vogel\", \"Honeywell\", \"Ping\"]\n",
    "\n",
    "create_table(demo_db, sql_schema) #refresh/create database\n",
    "test_entry: Tuple = (choice(member_names),choice(companies), random.random()*10000)\n",
    "insert_entry_demo_table_with_default_time(db_file=demo_db, entry_value=test_entry)\n",
    "print(test_entry)"
   ]
  },
  {
   "cell_type": "code",
   "execution_count": 38,
   "id": "85ac5164-e239-4c35-8c99-d811d6c7a078",
   "metadata": {},
   "outputs": [
    {
     "name": "stdout",
     "output_type": "stream",
     "text": [
      "(1, 'Newton', '2022-04-07 19:58:39', 'I LOVE DS', 9770.75546978201)\n"
     ]
    }
   ],
   "source": [
    "#print the database\n",
    "\n",
    "entries = get_all_entries_from_db(db_file=demo_db, table_name=table_name)"
   ]
  },
  {
   "cell_type": "code",
   "execution_count": 39,
   "id": "cde4ea72-bf71-4f4a-abf8-8a5ee5f56139",
   "metadata": {},
   "outputs": [
    {
     "name": "stdout",
     "output_type": "stream",
     "text": [
      "[('Newton', 'I LOVE BADMINTON', 8438.517117741698), ('Honeywell', 'I LOVE BADMINTON', 7106.481856943286), ('Ping', 'I LOVE CE', 9426.309657111207), ('Honeywell', 'I LOVE CE', 7106.546506237015), ('Vogel', 'I LOVE EE', 5.6410465830269985), ('Vogel', 'I LOVE CS', 1103.2179572096024), ('Newton', 'I LOVE BADMINTON', 7091.398261280284), ('Vogel', 'I LOVE BADMINTON', 4461.6430769871995), ('Vogel', 'I LOVE BADMINTON', 8743.245346161902), ('Honeywell', 'I LOVE EE', 6057.725090453012), ('Newton', 'I LOVE ML', 9532.670743340186), ('Ping', 'I LOVE CS', 8596.617213694311), ('Newton', 'I LOVE ML', 2974.117533249807), ('Vogel', 'I LOVE CE', 4163.390176160961), ('Ping', 'I LOVE DS', 100.47368090972509), ('Newton', 'I LOVE CS', 1298.347021227797), ('Ping', 'I LOVE ML', 5525.863078424121), ('Honeywell', 'I LOVE CE', 3884.2673225782), ('Ping', 'I LOVE BADMINTON', 8028.568055139095), ('Newton', 'I LOVE STAT', 4667.81098364025), ('Honeywell', 'I LOVE EE', 2707.0447275650977), ('Vogel', 'I LOVE EE', 6661.008794252135), ('Honeywell', 'I LOVE DS', 7810.275018822973), ('Ping', 'I LOVE CE', 35.067307421357), ('Ping', 'I LOVE STAT', 2653.4981158566875), ('Vogel', 'I LOVE CS', 3978.1949786480263), ('Vogel', 'I LOVE DS', 8023.95753942228), ('Newton', 'I LOVE CS', 5552.011985976695), ('Vogel', 'I LOVE STAT', 581.5770914124118)]\n"
     ]
    }
   ],
   "source": [
    "#test populate demo_db with number of entries\n",
    "test_entries: List = [(choice(member_names),choice(companies), random.random()*10000) for _ in range(29)]\n",
    "insert_entries_demo_table_with_default_time(db_file=demo_db, entries=test_entries)\n",
    "print(test_entries)"
   ]
  },
  {
   "cell_type": "code",
   "execution_count": 40,
   "id": "f5919d84-57c7-49cc-8a29-2829c00d45b2",
   "metadata": {},
   "outputs": [
    {
     "name": "stdout",
     "output_type": "stream",
     "text": [
      "(1, 'Newton', '2022-04-07 19:58:39', 'I LOVE DS', 9770.75546978201)\n",
      "(2, 'Newton', '2022-04-07 19:58:44', 'I LOVE BADMINTON', 8438.517117741698)\n",
      "(3, 'Honeywell', '2022-04-07 19:58:44', 'I LOVE BADMINTON', 7106.481856943286)\n",
      "(4, 'Ping', '2022-04-07 19:58:44', 'I LOVE CE', 9426.309657111207)\n",
      "(5, 'Honeywell', '2022-04-07 19:58:44', 'I LOVE CE', 7106.546506237015)\n",
      "(6, 'Vogel', '2022-04-07 19:58:44', 'I LOVE EE', 5.6410465830269985)\n",
      "(7, 'Vogel', '2022-04-07 19:58:44', 'I LOVE CS', 1103.2179572096024)\n",
      "(8, 'Newton', '2022-04-07 19:58:44', 'I LOVE BADMINTON', 7091.398261280284)\n",
      "(9, 'Vogel', '2022-04-07 19:58:44', 'I LOVE BADMINTON', 4461.6430769871995)\n",
      "(10, 'Vogel', '2022-04-07 19:58:44', 'I LOVE BADMINTON', 8743.245346161902)\n",
      "(11, 'Honeywell', '2022-04-07 19:58:44', 'I LOVE EE', 6057.725090453012)\n",
      "(12, 'Newton', '2022-04-07 19:58:44', 'I LOVE ML', 9532.670743340186)\n",
      "(13, 'Ping', '2022-04-07 19:58:44', 'I LOVE CS', 8596.617213694311)\n",
      "(14, 'Newton', '2022-04-07 19:58:44', 'I LOVE ML', 2974.117533249807)\n",
      "(15, 'Vogel', '2022-04-07 19:58:44', 'I LOVE CE', 4163.390176160961)\n",
      "(16, 'Ping', '2022-04-07 19:58:44', 'I LOVE DS', 100.47368090972509)\n",
      "(17, 'Newton', '2022-04-07 19:58:44', 'I LOVE CS', 1298.347021227797)\n",
      "(18, 'Ping', '2022-04-07 19:58:44', 'I LOVE ML', 5525.863078424121)\n",
      "(19, 'Honeywell', '2022-04-07 19:58:44', 'I LOVE CE', 3884.2673225782)\n",
      "(20, 'Ping', '2022-04-07 19:58:44', 'I LOVE BADMINTON', 8028.568055139095)\n",
      "(21, 'Newton', '2022-04-07 19:58:44', 'I LOVE STAT', 4667.81098364025)\n",
      "(22, 'Honeywell', '2022-04-07 19:58:44', 'I LOVE EE', 2707.0447275650977)\n",
      "(23, 'Vogel', '2022-04-07 19:58:44', 'I LOVE EE', 6661.008794252135)\n",
      "(24, 'Honeywell', '2022-04-07 19:58:44', 'I LOVE DS', 7810.275018822973)\n",
      "(25, 'Ping', '2022-04-07 19:58:44', 'I LOVE CE', 35.067307421357)\n",
      "(26, 'Ping', '2022-04-07 19:58:44', 'I LOVE STAT', 2653.4981158566875)\n",
      "(27, 'Vogel', '2022-04-07 19:58:44', 'I LOVE CS', 3978.1949786480263)\n",
      "(28, 'Vogel', '2022-04-07 19:58:44', 'I LOVE DS', 8023.95753942228)\n",
      "(29, 'Newton', '2022-04-07 19:58:44', 'I LOVE CS', 5552.011985976695)\n",
      "(30, 'Vogel', '2022-04-07 19:58:44', 'I LOVE STAT', 581.5770914124118)\n"
     ]
    }
   ],
   "source": [
    "entries = get_all_entries_from_db(db_file=demo_db, table_name=table_name)"
   ]
  }
 ],
 "metadata": {
  "kernelspec": {
   "display_name": "Python 3 (ipykernel)",
   "language": "python",
   "name": "python3"
  },
  "language_info": {
   "codemirror_mode": {
    "name": "ipython",
    "version": 3
   },
   "file_extension": ".py",
   "mimetype": "text/x-python",
   "name": "python",
   "nbconvert_exporter": "python",
   "pygments_lexer": "ipython3",
   "version": "3.8.12"
  }
 },
 "nbformat": 4,
 "nbformat_minor": 5
}
