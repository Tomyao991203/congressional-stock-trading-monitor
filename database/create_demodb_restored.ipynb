{
 "cells": [
  {
   "cell_type": "code",
   "execution_count": null,
   "id": "2eca0dbe-c603-45ce-a99e-12074b5ccaa2",
   "metadata": {},
   "outputs": [],
   "source": [
    "import sqlite3\n",
    "from sqlite3 import Error\n",
    "from typing import Tuple, List\n",
    "import random\n",
    "from random import choice"
   ]
  },
  {
   "cell_type": "code",
   "execution_count": null,
   "id": "eb133120-9761-445a-8b5a-66cffe7307c5",
   "metadata": {},
   "outputs": [],
   "source": [
    "def create_table(db_file:str, schema_file: str):\n",
    "    \"\"\" \n",
    "    create a database connection to a SQLite database and create tables based on schema file \n",
    "    @param db_file: path to db file\n",
    "    @param schema_file: path to schema file\n",
    "    \"\"\"\n",
    "    connection = None\n",
    "    try:\n",
    "        connection = sqlite3.connect(db_file)\n",
    "        with open(schema_file) as file:\n",
    "            connection.executescript(file.read())\n",
    "        print(sqlite3.version)\n",
    "    except Error as e:\n",
    "        print(e)\n",
    "    finally:\n",
    "        if connection:\n",
    "            connection.close()"
   ]
  },
  {
   "cell_type": "code",
   "execution_count": null,
   "id": "cc5141df-b117-4295-a80f-198e610821fe",
   "metadata": {
    "tags": []
   },
   "outputs": [],
   "source": [
    "def insert_entry_demo_table(db_file:str, entry_value: Tuple):\n",
    "    \"\"\" \n",
    "    insert one entry to the demo table \n",
    "    @param db_file: path to db file\n",
    "    @param entry_value: value of entry to be inserted\n",
    "    \"\"\"\n",
    "    connection = None\n",
    "    try:\n",
    "        connection = sqlite3.connect(db_file)\n",
    "        cur = connection.cursor()\n",
    "        query = \"INSERT INTO demo_table (member_name, transaction_date, company, value) VALUES (?, ?, ?, ?)\"\n",
    "        cur.execute(query, entry_value)\n",
    "    except Error as e:\n",
    "        print(e)\n",
    "    finally:\n",
    "        if connection:\n",
    "            connection.commit()\n",
    "            connection.close()\n",
    "    "
   ]
  },
  {
   "cell_type": "code",
   "execution_count": null,
   "id": "4fa881b4-5f8b-4baf-ab09-46714bd8dee6",
   "metadata": {},
   "outputs": [],
   "source": [
    "def insert_entry_demo_table_with_default_time(db_file:str, entry_value: Tuple):\n",
    "    \"\"\" \n",
    "    insert one entry to the demo table \n",
    "    @param db_file: path to db file\n",
    "    @param entry_value: value of entry to be inserted\n",
    "    \"\"\"\n",
    "    connection = None\n",
    "    try:\n",
    "        connection = sqlite3.connect(db_file)\n",
    "        cur = connection.cursor()\n",
    "        query = \"INSERT INTO demo_table (member_name, company, value) VALUES (?, ?, ?)\"\n",
    "        cur.execute(query, entry_value)\n",
    "    except Error as e:\n",
    "        print(e)\n",
    "    finally:\n",
    "        if connection:\n",
    "            connection.commit()\n",
    "            connection.close()\n",
    "    "
   ]
  },
  {
   "cell_type": "code",
   "execution_count": null,
   "id": "e37b6756-2843-4906-a597-a825514ebc28",
   "metadata": {},
   "outputs": [],
   "source": [
    "        \n",
    "def insert_entries_demo_table(db_file:str, entries: List):\n",
    "    \"\"\" \n",
    "    insert entries to the demo table \n",
    "    @param db_file: path to db file\n",
    "    @param entries: list of tuples of values of entries to be inserted\n",
    "    \"\"\"\n",
    "    connection = None\n",
    "    try:\n",
    "        connection = sqlite3.connect(db_file)\n",
    "        cur = connection.cursor()\n",
    "        query = \"INSERT INTO demo_table (member_name, transaction_date, company, value) VALUES (?, ?, ?, ?)\"\n",
    "        cur.executemany(query, entries)\n",
    "    except Error as e:\n",
    "        print(e)\n",
    "    finally:\n",
    "        if connection:\n",
    "            connection.commit()\n",
    "            connection.close()\n",
    "    "
   ]
  },
  {
   "cell_type": "code",
   "execution_count": null,
   "id": "44c0b542-d96a-40f1-ae3b-62efe59f1bad",
   "metadata": {},
   "outputs": [],
   "source": [
    "def insert_entries_demo_table_with_default_time(db_file:str, entries: List):\n",
    "    \"\"\" \n",
    "    insert entries to the demo table \n",
    "    @param db_file: path to db file\n",
    "    @param entries: list of tuples of values of entries to be inserted\n",
    "    \"\"\"\n",
    "    connection = None\n",
    "    try:\n",
    "        connection = sqlite3.connect(db_file)\n",
    "        cur = connection.cursor()\n",
    "        query = \"INSERT INTO demo_table (member_name, company, value) VALUES (?, ?, ?)\"\n",
    "        cur.executemany(query, entries)\n",
    "    except Error as e:\n",
    "        print(e)\n",
    "    finally:\n",
    "        if connection:\n",
    "            connection.commit()\n",
    "            connection.close()\n",
    "    "
   ]
  },
  {
   "cell_type": "code",
   "execution_count": null,
   "id": "4608d7e1-aebb-4efe-9913-7c450150e47e",
   "metadata": {},
   "outputs": [],
   "source": [
    "def get_all_entries_from_db(db_file: str, table_name: str) -> List[str]:\n",
    "    \"\"\" \n",
    "    insert entries to the demo table \n",
    "    @param db_file: path to db file\n",
    "    @param table_name: name of the table that we are interested in\n",
    "    @return: a list of all entries\n",
    "    \"\"\"\n",
    "    connection = None\n",
    "    try:\n",
    "        connection = sqlite3.connect(db_file)\n",
    "        cur = connection.cursor()\n",
    "        query = f'SELECT * FROM {table_name} ORDER BY transaction_date'\n",
    "        entries = cur.execute(query)\n",
    "        for row in entries:\n",
    "            print(row)\n",
    "    except Error as e:\n",
    "        print(e)\n",
    "    finally:\n",
    "        if connection:\n",
    "            connection.close()\n",
    "            return entries\n",
    "    "
   ]
  },
  {
   "cell_type": "code",
   "execution_count": null,
   "id": "46e93dbd-ea44-49c5-a7d7-045ce7cb233b",
   "metadata": {},
   "outputs": [],
   "source": [
    "#parameters we are going to use\n",
    "demo_db = r\"demo.db\"\n",
    "sql_schema = r\"demo_schema.sql\"\n",
    "table_name = r\"demo_table\""
   ]
  },
  {
   "cell_type": "code",
   "execution_count": null,
   "id": "86613dd5-e7bb-49f5-bc0e-416d4e791a8b",
   "metadata": {},
   "outputs": [],
   "source": [
    "#test populate demo_db with one entry\n",
    "companies = [\"I LOVE CE\",\"I LOVE EE\",\"I LOVE CS\", \"I LOVE STAT\", \"I LOVE BADMINTON\", \"I LOVE ML\", \"I LOVE DS\"]\n",
    "member_names = [\"Newton\", \"Vogel\", \"Honeywell\", \"Ping\"]\n",
    "\n",
    "create_table(demo_db, sql_schema) #refresh/create database\n",
    "test_entry: Tuple = (choice(member_names),choice(companies), random.random()*10000)\n",
    "insert_entry_demo_table_with_default_time(db_file=demo_db, entry_value=test_entry)\n",
    "print(test_entry)"
   ]
  },
  {
   "cell_type": "code",
   "execution_count": null,
   "id": "a06c3dc4-db9e-4ba2-b885-efd6cb797451",
   "metadata": {},
   "outputs": [],
   "source": [
    "#print the database\n",
    "\n",
    "entries = get_all_entries_from_db(db_file=demo_db, table_name=table_name)"
   ]
  },
  {
   "cell_type": "code",
   "execution_count": null,
   "id": "d7873540-f105-4934-b01d-ba24b91becbf",
   "metadata": {},
   "outputs": [],
   "source": [
    "#test populate demo_db with number of entries\n",
    "test_entries: List = [(choice(member_names),choice(companies), random.random()*10000) for _ in range(29)]\n",
    "insert_entries_demo_table_with_default_time(db_file=demo_db, entries=test_entries)\n",
    "print(test_entries)"
   ]
  },
  {
   "cell_type": "code",
   "execution_count": null,
   "id": "733719a5-b2ad-4b0b-abce-9bc7cbfa814a",
   "metadata": {},
   "outputs": [],
   "source": [
    "entries = get_all_entries_from_db(db_file=demo_db, table_name=table_name)"
   ]
  }
 ],
 "metadata": {
  "kernelspec": {
   "display_name": "Python 3 (ipykernel)",
   "language": "python",
   "name": "python3"
  },
  "language_info": {
   "codemirror_mode": {
    "name": "ipython",
    "version": 3
   },
   "file_extension": ".py",
   "mimetype": "text/x-python",
   "name": "python",
   "nbconvert_exporter": "python",
   "pygments_lexer": "ipython3",
   "version": "3.8.12"
  }
 },
 "nbformat": 4,
 "nbformat_minor": 5
}
