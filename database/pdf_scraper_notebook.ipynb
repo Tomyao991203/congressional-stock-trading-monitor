{
 "cells": [
  {
   "cell_type": "code",
   "execution_count": 13,
   "id": "66f9e1eb",
   "metadata": {},
   "outputs": [],
   "source": [
    "import pandas as pd\n",
    "import re\n",
    "import PyPDF2\n",
    "import os\n",
    "import json\n",
    "import copy\n",
    "\n",
    "import tabula as tb"
   ]
  },
  {
   "cell_type": "code",
   "execution_count": 2,
   "id": "5cffdd41",
   "metadata": {},
   "outputs": [],
   "source": [
    "\n",
    "    "
   ]
  },
  {
   "cell_type": "code",
   "execution_count": 3,
   "id": "c1ab3d5d",
   "metadata": {},
   "outputs": [],
   "source": [
    "pdf_path = \"2015_house_pdfs/Pelosi_Nancy_10010857.pdf\"\n",
    "db = scrape_pdf(pdf_path)"
   ]
  },
  {
   "cell_type": "code",
   "execution_count": 4,
   "id": "d130a4f3",
   "metadata": {
    "collapsed": true
   },
   "outputs": [
    {
     "name": "stderr",
     "output_type": "stream",
     "text": [
      "Error from tabula-java:\n",
      "Exception in thread \"main\" java.lang.IndexOutOfBoundsException: Page number does not exist.\n",
      "\tat technology.tabula.ObjectExtractor.extractPage(ObjectExtractor.java:19)\n",
      "\tat technology.tabula.PageIterator.next(PageIterator.java:30)\n",
      "\tat technology.tabula.CommandLineApp.extractFile(CommandLineApp.java:161)\n",
      "\tat technology.tabula.CommandLineApp.extractFileTables(CommandLineApp.java:124)\n",
      "\tat technology.tabula.CommandLineApp.extractTables(CommandLineApp.java:106)\n",
      "\tat technology.tabula.CommandLineApp.main(CommandLineApp.java:76)\n",
      "\n",
      "\n"
     ]
    },
    {
     "ename": "CalledProcessError",
     "evalue": "Command '['java', '-Dfile.encoding=UTF8', '-jar', '/home/kira/.local/lib/python3.10/site-packages/tabula/tabula-1.0.5-jar-with-dependencies.jar', '--pages', '5', '--area', '66.172,17.212,737.842,561.893', '--stream', '--format', 'JSON', '2015_house_pdfs/Wilson_Joe_10012512.pdf']' returned non-zero exit status 1.",
     "output_type": "error",
     "traceback": [
      "\u001b[0;31m---------------------------------------------------------------------------\u001b[0m",
      "\u001b[0;31mCalledProcessError\u001b[0m                        Traceback (most recent call last)",
      "Input \u001b[0;32mIn [4]\u001b[0m, in \u001b[0;36m<cell line: 3>\u001b[0;34m()\u001b[0m\n\u001b[1;32m      1\u001b[0m pdf_path_joe \u001b[38;5;241m=\u001b[39m \u001b[38;5;124m\"\u001b[39m\u001b[38;5;124m2015_house_pdfs/Wilson_Joe_10012512.pdf\u001b[39m\u001b[38;5;124m\"\u001b[39m\n\u001b[0;32m----> 3\u001b[0m wrong_pdf_format_db \u001b[38;5;241m=\u001b[39m \u001b[43mscrape_pdf\u001b[49m\u001b[43m(\u001b[49m\u001b[43mpdf_path_joe\u001b[49m\u001b[43m)\u001b[49m\n",
      "Input \u001b[0;32mIn [2]\u001b[0m, in \u001b[0;36mscrape_pdf\u001b[0;34m(file)\u001b[0m\n\u001b[1;32m      1\u001b[0m \u001b[38;5;28;01mdef\u001b[39;00m \u001b[38;5;21mscrape_pdf\u001b[39m(file):\n\u001b[1;32m      2\u001b[0m     template_path \u001b[38;5;241m=\u001b[39m \u001b[38;5;124m'\u001b[39m\u001b[38;5;124mpdf_template.tabula-template.json\u001b[39m\u001b[38;5;124m'\u001b[39m\n\u001b[0;32m----> 3\u001b[0m     \u001b[38;5;28;01mreturn\u001b[39;00m \u001b[43mtb\u001b[49m\u001b[38;5;241;43m.\u001b[39;49m\u001b[43mread_pdf_with_template\u001b[49m\u001b[43m(\u001b[49m\u001b[43mfile\u001b[49m\u001b[43m,\u001b[49m\u001b[43m \u001b[49m\u001b[43mtemplate_path\u001b[49m\u001b[43m,\u001b[49m\u001b[43m \u001b[49m\u001b[43mstream\u001b[49m\u001b[38;5;241;43m=\u001b[39;49m\u001b[38;5;28;43;01mTrue\u001b[39;49;00m\u001b[43m)\u001b[49m\n",
      "File \u001b[0;32m~/.local/lib/python3.10/site-packages/tabula/io.py:487\u001b[0m, in \u001b[0;36mread_pdf_with_template\u001b[0;34m(input_path, template_path, pandas_options, encoding, java_options, user_agent, **kwargs)\u001b[0m\n\u001b[1;32m    485\u001b[0m \u001b[38;5;28;01mtry\u001b[39;00m:\n\u001b[1;32m    486\u001b[0m     \u001b[38;5;28;01mfor\u001b[39;00m option \u001b[38;5;129;01min\u001b[39;00m options:\n\u001b[0;32m--> 487\u001b[0m         _df \u001b[38;5;241m=\u001b[39m \u001b[43mread_pdf\u001b[49m\u001b[43m(\u001b[49m\n\u001b[1;32m    488\u001b[0m \u001b[43m            \u001b[49m\u001b[43minput_path\u001b[49m\u001b[43m,\u001b[49m\n\u001b[1;32m    489\u001b[0m \u001b[43m            \u001b[49m\u001b[43mpandas_options\u001b[49m\u001b[38;5;241;43m=\u001b[39;49m\u001b[43mpandas_options\u001b[49m\u001b[43m,\u001b[49m\n\u001b[1;32m    490\u001b[0m \u001b[43m            \u001b[49m\u001b[43mencoding\u001b[49m\u001b[38;5;241;43m=\u001b[39;49m\u001b[43mencoding\u001b[49m\u001b[43m,\u001b[49m\n\u001b[1;32m    491\u001b[0m \u001b[43m            \u001b[49m\u001b[43mjava_options\u001b[49m\u001b[38;5;241;43m=\u001b[39;49m\u001b[43mjava_options\u001b[49m\u001b[43m,\u001b[49m\n\u001b[1;32m    492\u001b[0m \u001b[43m            \u001b[49m\u001b[38;5;241;43m*\u001b[39;49m\u001b[38;5;241;43m*\u001b[39;49m\u001b[38;5;28;43mdict\u001b[39;49m\u001b[43m(\u001b[49m\u001b[43mkwargs\u001b[49m\u001b[43m,\u001b[49m\u001b[43m \u001b[49m\u001b[38;5;241;43m*\u001b[39;49m\u001b[38;5;241;43m*\u001b[39;49m\u001b[43moption\u001b[49m\u001b[43m)\u001b[49m\n\u001b[1;32m    493\u001b[0m \u001b[43m        \u001b[49m\u001b[43m)\u001b[49m\n\u001b[1;32m    495\u001b[0m         \u001b[38;5;28;01mif\u001b[39;00m \u001b[38;5;28misinstance\u001b[39m(_df, \u001b[38;5;28mlist\u001b[39m):\n\u001b[1;32m    496\u001b[0m             dataframes\u001b[38;5;241m.\u001b[39mextend(_df)\n",
      "File \u001b[0;32m~/.local/lib/python3.10/site-packages/tabula/io.py:322\u001b[0m, in \u001b[0;36mread_pdf\u001b[0;34m(input_path, output_format, encoding, java_options, pandas_options, multiple_tables, user_agent, **kwargs)\u001b[0m\n\u001b[1;32m    317\u001b[0m     \u001b[38;5;28;01mraise\u001b[39;00m \u001b[38;5;167;01mValueError\u001b[39;00m(\n\u001b[1;32m    318\u001b[0m         \u001b[38;5;124m\"\u001b[39m\u001b[38;5;132;01m{}\u001b[39;00m\u001b[38;5;124m is empty. Check the file, or download it manually.\u001b[39m\u001b[38;5;124m\"\u001b[39m\u001b[38;5;241m.\u001b[39mformat(path)\n\u001b[1;32m    319\u001b[0m     )\n\u001b[1;32m    321\u001b[0m \u001b[38;5;28;01mtry\u001b[39;00m:\n\u001b[0;32m--> 322\u001b[0m     output \u001b[38;5;241m=\u001b[39m \u001b[43m_run\u001b[49m\u001b[43m(\u001b[49m\u001b[43mjava_options\u001b[49m\u001b[43m,\u001b[49m\u001b[43m \u001b[49m\u001b[43mkwargs\u001b[49m\u001b[43m,\u001b[49m\u001b[43m \u001b[49m\u001b[43mpath\u001b[49m\u001b[43m,\u001b[49m\u001b[43m \u001b[49m\u001b[43mencoding\u001b[49m\u001b[43m)\u001b[49m\n\u001b[1;32m    323\u001b[0m \u001b[38;5;28;01mfinally\u001b[39;00m:\n\u001b[1;32m    324\u001b[0m     \u001b[38;5;28;01mif\u001b[39;00m temporary:\n",
      "File \u001b[0;32m~/.local/lib/python3.10/site-packages/tabula/io.py:80\u001b[0m, in \u001b[0;36m_run\u001b[0;34m(java_options, options, path, encoding)\u001b[0m\n\u001b[1;32m     77\u001b[0m     args\u001b[38;5;241m.\u001b[39mappend(path)\n\u001b[1;32m     79\u001b[0m \u001b[38;5;28;01mtry\u001b[39;00m:\n\u001b[0;32m---> 80\u001b[0m     result \u001b[38;5;241m=\u001b[39m \u001b[43msubprocess\u001b[49m\u001b[38;5;241;43m.\u001b[39;49m\u001b[43mrun\u001b[49m\u001b[43m(\u001b[49m\n\u001b[1;32m     81\u001b[0m \u001b[43m        \u001b[49m\u001b[43margs\u001b[49m\u001b[43m,\u001b[49m\n\u001b[1;32m     82\u001b[0m \u001b[43m        \u001b[49m\u001b[43mstdout\u001b[49m\u001b[38;5;241;43m=\u001b[39;49m\u001b[43msubprocess\u001b[49m\u001b[38;5;241;43m.\u001b[39;49m\u001b[43mPIPE\u001b[49m\u001b[43m,\u001b[49m\n\u001b[1;32m     83\u001b[0m \u001b[43m        \u001b[49m\u001b[43mstderr\u001b[49m\u001b[38;5;241;43m=\u001b[39;49m\u001b[43msubprocess\u001b[49m\u001b[38;5;241;43m.\u001b[39;49m\u001b[43mPIPE\u001b[49m\u001b[43m,\u001b[49m\n\u001b[1;32m     84\u001b[0m \u001b[43m        \u001b[49m\u001b[43mstdin\u001b[49m\u001b[38;5;241;43m=\u001b[39;49m\u001b[43msubprocess\u001b[49m\u001b[38;5;241;43m.\u001b[39;49m\u001b[43mDEVNULL\u001b[49m\u001b[43m,\u001b[49m\n\u001b[1;32m     85\u001b[0m \u001b[43m        \u001b[49m\u001b[43mcheck\u001b[49m\u001b[38;5;241;43m=\u001b[39;49m\u001b[38;5;28;43;01mTrue\u001b[39;49;00m\u001b[43m,\u001b[49m\n\u001b[1;32m     86\u001b[0m \u001b[43m    \u001b[49m\u001b[43m)\u001b[49m\n\u001b[1;32m     87\u001b[0m     \u001b[38;5;28;01mif\u001b[39;00m result\u001b[38;5;241m.\u001b[39mstderr:\n\u001b[1;32m     88\u001b[0m         logger\u001b[38;5;241m.\u001b[39mwarning(\u001b[38;5;124m\"\u001b[39m\u001b[38;5;124mGot stderr: \u001b[39m\u001b[38;5;132;01m{}\u001b[39;00m\u001b[38;5;124m\"\u001b[39m\u001b[38;5;241m.\u001b[39mformat(result\u001b[38;5;241m.\u001b[39mstderr\u001b[38;5;241m.\u001b[39mdecode(encoding)))\n",
      "File \u001b[0;32m/usr/lib/python3.10/subprocess.py:524\u001b[0m, in \u001b[0;36mrun\u001b[0;34m(input, capture_output, timeout, check, *popenargs, **kwargs)\u001b[0m\n\u001b[1;32m    522\u001b[0m     retcode \u001b[38;5;241m=\u001b[39m process\u001b[38;5;241m.\u001b[39mpoll()\n\u001b[1;32m    523\u001b[0m     \u001b[38;5;28;01mif\u001b[39;00m check \u001b[38;5;129;01mand\u001b[39;00m retcode:\n\u001b[0;32m--> 524\u001b[0m         \u001b[38;5;28;01mraise\u001b[39;00m CalledProcessError(retcode, process\u001b[38;5;241m.\u001b[39margs,\n\u001b[1;32m    525\u001b[0m                                  output\u001b[38;5;241m=\u001b[39mstdout, stderr\u001b[38;5;241m=\u001b[39mstderr)\n\u001b[1;32m    526\u001b[0m \u001b[38;5;28;01mreturn\u001b[39;00m CompletedProcess(process\u001b[38;5;241m.\u001b[39margs, retcode, stdout, stderr)\n",
      "\u001b[0;31mCalledProcessError\u001b[0m: Command '['java', '-Dfile.encoding=UTF8', '-jar', '/home/kira/.local/lib/python3.10/site-packages/tabula/tabula-1.0.5-jar-with-dependencies.jar', '--pages', '5', '--area', '66.172,17.212,737.842,561.893', '--stream', '--format', 'JSON', '2015_house_pdfs/Wilson_Joe_10012512.pdf']' returned non-zero exit status 1."
     ]
    }
   ],
   "source": [
    "pdf_path_joe = \"2015_house_pdfs/Wilson_Joe_10012512.pdf\"\n",
    "\n",
    "wrong_pdf_format_db = scrape_pdf(pdf_path_joe)"
   ]
  },
  {
   "cell_type": "code",
   "execution_count": null,
   "id": "186c2b0a",
   "metadata": {
    "scrolled": true
   },
   "outputs": [],
   "source": []
  },
  {
   "cell_type": "code",
   "execution_count": 6,
   "id": "c69b7243",
   "metadata": {},
   "outputs": [
    {
     "name": "stdout",
     "output_type": "stream",
     "text": [
      "smaller\n"
     ]
    }
   ],
   "source": [
    "pdf_to_empty = \"2015_house_pdfs/Pelosi_Nancy_20002351.pdf\"\n",
    "if os.stat(pdf_to_empty).st_size < 2000:\n",
    "    print(\"smaller\")\n",
    "else:\n",
    "    print(\"larger\")"
   ]
  },
  {
   "cell_type": "code",
   "execution_count": 31,
   "id": "c13e74b1",
   "metadata": {},
   "outputs": [],
   "source": [
    "\"\"\"\n",
    "with open(\"pdf_template.tabula-template.json\", \"r+\") as jsonTemplate:\n",
    "    data=json.load(jsonTemplate)\n",
    "    reduced_data = data[:4]\n",
    "    with open(\"pdf_reduced_template.tabula-template.json\", 'w') as outfile:\n",
    "        json.dump(reduced_data, outfile)\n",
    "\"\"\""
   ]
  },
  {
   "cell_type": "code",
   "execution_count": 39,
   "id": "d6fbbbf9",
   "metadata": {},
   "outputs": [
    {
     "name": "stdout",
     "output_type": "stream",
     "text": [
      "2\n"
     ]
    }
   ],
   "source": [
    " with open(\"pdf_reduced_template.tabula-template.json\", \"r\") as jsonTemplate:\n",
    "        data = json.load(jsonTemplate)\n",
    "        page_template = data[3]\n",
    "        print(page_template['page'])"
   ]
  },
  {
   "cell_type": "code",
   "execution_count": 14,
   "id": "fe9af7a1",
   "metadata": {},
   "outputs": [],
   "source": [
    "def create_template(file_path):\n",
    "    file = open(file_path, 'rb')\n",
    "    readpdf = PyPDF2.PdfFileReader(file)\n",
    "    total_pages = readpdf.numPages\n",
    "    with open(\"pdf_reduced_template.tabula-template.json\", \"r\") as jsonTemplate:\n",
    "        data = json.load(jsonTemplate)\n",
    "        page_template = data[3]\n",
    "        # print(page_template)\n",
    "        if total_pages == 1:\n",
    "            data = data[:-1]\n",
    "        else:\n",
    "            for page_num in range(2, total_pages):\n",
    "                tmp_page_template = copy.copy(page_template)\n",
    "                tmp_page_template['page'] = page_num + 1\n",
    "                print(tmp_page_template)\n",
    "                data.append(tmp_page_template)\n",
    "            \n",
    "        with open(\"pdf_tmp_template.tabula-template.json\", 'w') as outfile:\n",
    "            json.dump(data, outfile)\n",
    "                \n",
    "            \n",
    "            "
   ]
  },
  {
   "cell_type": "code",
   "execution_count": 15,
   "id": "98606111",
   "metadata": {
    "scrolled": true
   },
   "outputs": [
    {
     "name": "stdout",
     "output_type": "stream",
     "text": [
      "{'page': 3, 'extraction_method': 'guess', 'x1': 17.2125, 'x2': 561.8925, 'y1': 66.1725, 'y2': 737.8425, 'width': 544.6800000000001, 'height': 671.67}\n",
      "{'page': 4, 'extraction_method': 'guess', 'x1': 17.2125, 'x2': 561.8925, 'y1': 66.1725, 'y2': 737.8425, 'width': 544.6800000000001, 'height': 671.67}\n",
      "{'page': 5, 'extraction_method': 'guess', 'x1': 17.2125, 'x2': 561.8925, 'y1': 66.1725, 'y2': 737.8425, 'width': 544.6800000000001, 'height': 671.67}\n",
      "{'page': 6, 'extraction_method': 'guess', 'x1': 17.2125, 'x2': 561.8925, 'y1': 66.1725, 'y2': 737.8425, 'width': 544.6800000000001, 'height': 671.67}\n",
      "{'page': 7, 'extraction_method': 'guess', 'x1': 17.2125, 'x2': 561.8925, 'y1': 66.1725, 'y2': 737.8425, 'width': 544.6800000000001, 'height': 671.67}\n",
      "{'page': 8, 'extraction_method': 'guess', 'x1': 17.2125, 'x2': 561.8925, 'y1': 66.1725, 'y2': 737.8425, 'width': 544.6800000000001, 'height': 671.67}\n",
      "{'page': 9, 'extraction_method': 'guess', 'x1': 17.2125, 'x2': 561.8925, 'y1': 66.1725, 'y2': 737.8425, 'width': 544.6800000000001, 'height': 671.67}\n"
     ]
    }
   ],
   "source": [
    "create_template(pdf_path)"
   ]
  },
  {
   "cell_type": "code",
   "execution_count": 16,
   "id": "cb5c8a6c",
   "metadata": {},
   "outputs": [],
   "source": [
    "def scrape_pdf(file):\n",
    "    create_template(file)\n",
    "    template_path = 'pdf_tmp_template.tabula-template.json'\n",
    "    return tb.read_pdf_with_template(file, template_path, stream=True)"
   ]
  },
  {
   "cell_type": "code",
   "execution_count": 39,
   "id": "8138e16d",
   "metadata": {},
   "outputs": [
    {
     "name": "stdout",
     "output_type": "stream",
     "text": [
      "{'page': 3, 'extraction_method': 'guess', 'x1': 17.2125, 'x2': 561.8925, 'y1': 66.1725, 'y2': 737.8425, 'width': 544.6800000000001, 'height': 671.67}\n",
      "{'page': 4, 'extraction_method': 'guess', 'x1': 17.2125, 'x2': 561.8925, 'y1': 66.1725, 'y2': 737.8425, 'width': 544.6800000000001, 'height': 671.67}\n"
     ]
    }
   ],
   "source": [
    "pdf_path_joe = \"2015_house_pdfs/Wilson_Joe_10012512.pdf\"\n",
    "\n",
    "wrong_pdf_format_db = scrape_pdf(pdf_path_joe)"
   ]
  },
  {
   "cell_type": "code",
   "execution_count": 23,
   "id": "e417454b",
   "metadata": {
    "scrolled": true
   },
   "outputs": [
    {
     "data": {
      "text/plain": [
       "'filer information'"
      ]
     },
     "execution_count": 23,
     "metadata": {},
     "output_type": "execute_result"
    }
   ],
   "source": [
    "wrong_pdf_format_db[0].columns[0].lower()"
   ]
  },
  {
   "cell_type": "code",
   "execution_count": 36,
   "id": "9c56dcec",
   "metadata": {},
   "outputs": [
    {
     "name": "stderr",
     "output_type": "stream",
     "text": [
      "PdfReadWarning: Xref table not zero-indexed. ID numbers for objects will be corrected. [pdf.py:1867]\n"
     ]
    },
    {
     "name": "stdout",
     "output_type": "stream",
     "text": [
      "{'page': 3, 'extraction_method': 'guess', 'x1': 17.2125, 'x2': 561.8925, 'y1': 66.1725, 'y2': 737.8425, 'width': 544.6800000000001, 'height': 671.67}\n",
      "{'page': 4, 'extraction_method': 'guess', 'x1': 17.2125, 'x2': 561.8925, 'y1': 66.1725, 'y2': 737.8425, 'width': 544.6800000000001, 'height': 671.67}\n",
      "{'page': 5, 'extraction_method': 'guess', 'x1': 17.2125, 'x2': 561.8925, 'y1': 66.1725, 'y2': 737.8425, 'width': 544.6800000000001, 'height': 671.67}\n",
      "{'page': 6, 'extraction_method': 'guess', 'x1': 17.2125, 'x2': 561.8925, 'y1': 66.1725, 'y2': 737.8425, 'width': 544.6800000000001, 'height': 671.67}\n"
     ]
    }
   ],
   "source": [
    "pdf_path_adams = \"2015_house_pdfs/Adams_Boyce_9106272.pdf\"\n",
    "wrong_DC_form_db = scrape_pdf(pdf_path_adams)"
   ]
  },
  {
   "cell_type": "code",
   "execution_count": 41,
   "id": "1c82acb0",
   "metadata": {},
   "outputs": [
    {
     "data": {
      "text/plain": [
       "True"
      ]
     },
     "execution_count": 41,
     "metadata": {},
     "output_type": "execute_result"
    }
   ],
   "source": [
    "wrong_pdf_format_db[0].columns[0].lower() == 'filer information'"
   ]
  }
 ],
 "metadata": {
  "kernelspec": {
   "display_name": "Python 3 (ipykernel)",
   "language": "python",
   "name": "python3"
  },
  "language_info": {
   "codemirror_mode": {
    "name": "ipython",
    "version": 3
   },
   "file_extension": ".py",
   "mimetype": "text/x-python",
   "name": "python",
   "nbconvert_exporter": "python",
   "pygments_lexer": "ipython3",
   "version": "3.10.4"
  }
 },
 "nbformat": 4,
 "nbformat_minor": 5
}
