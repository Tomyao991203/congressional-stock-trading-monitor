{
 "cells": [
  {
   "cell_type": "code",
   "execution_count": 2,
   "id": "66f9e1eb",
   "metadata": {},
   "outputs": [],
   "source": [
    "import pandas as pd\n",
    "import re\n",
    "import PyPDF2\n",
    "import os\n",
    "import json\n",
    "import copy\n",
    "\n",
    "import tabula as tb"
   ]
  },
  {
   "cell_type": "code",
   "execution_count": 3,
   "id": "c1ab3d5d",
   "metadata": {},
   "outputs": [],
   "source": [
    "pdf_path = \"2015_house_pdfs/Pelosi_Nancy_10010857.pdf\"\n",
    "pdf_path_joe = \"2015_house_pdfs/Wilson_Joe_10012512.pdf\""
   ]
  },
  {
   "cell_type": "code",
   "execution_count": 4,
   "id": "c69b7243",
   "metadata": {},
   "outputs": [
    {
     "name": "stdout",
     "output_type": "stream",
     "text": [
      "smaller\n"
     ]
    }
   ],
   "source": [
    "pdf_to_empty = \"2015_house_pdfs/Pelosi_Nancy_20002351.pdf\"\n",
    "if os.stat(pdf_to_empty).st_size < 2000:\n",
    "    print(\"smaller\")\n",
    "else:\n",
    "    print(\"larger\")"
   ]
  },
  {
   "cell_type": "code",
   "execution_count": 5,
   "id": "c13e74b1",
   "metadata": {},
   "outputs": [
    {
     "data": {
      "text/plain": [
       "'\\nwith open(\"pdf_template.tabula-template.json\", \"r+\") as jsonTemplate:\\n    data=json.load(jsonTemplate)\\n    reduced_data = data[:4]\\n    with open(\"pdf_reduced_template.tabula-template.json\", \\'w\\') as outfile:\\n        json.dump(reduced_data, outfile)\\n'"
      ]
     },
     "execution_count": 5,
     "metadata": {},
     "output_type": "execute_result"
    }
   ],
   "source": [
    "\"\"\"\n",
    "with open(\"pdf_template.tabula-template.json\", \"r+\") as jsonTemplate:\n",
    "    data=json.load(jsonTemplate)\n",
    "    reduced_data = data[:4]\n",
    "    with open(\"pdf_reduced_template.tabula-template.json\", 'w') as outfile:\n",
    "        json.dump(reduced_data, outfile)\n",
    "\"\"\""
   ]
  },
  {
   "cell_type": "code",
   "execution_count": 6,
   "id": "fe9af7a1",
   "metadata": {},
   "outputs": [],
   "source": [
    "def create_template(file_path):\n",
    "    file = open(file_path, 'rb')\n",
    "    readpdf = PyPDF2.PdfFileReader(file)\n",
    "    total_pages = readpdf.numPages\n",
    "    with open(\"pdf_reduced_template.tabula-template.json\", \"r\") as jsonTemplate:\n",
    "        data = json.load(jsonTemplate)\n",
    "        page_template = data[3]\n",
    "        # print(page_template)\n",
    "        if total_pages == 1:\n",
    "            data = data[:-1]\n",
    "        else:\n",
    "            for page_num in range(2, total_pages):\n",
    "                tmp_page_template = copy.copy(page_template)\n",
    "                tmp_page_template['page'] = page_num + 1\n",
    "                # print(tmp_page_template)\n",
    "                data.append(tmp_page_template)\n",
    "            \n",
    "        with open(\"pdf_tmp_template.tabula-template.json\", 'w') as outfile:\n",
    "            json.dump(data, outfile)\n",
    "                \n",
    "            \n",
    "            "
   ]
  },
  {
   "cell_type": "code",
   "execution_count": 7,
   "id": "98606111",
   "metadata": {
    "scrolled": true
   },
   "outputs": [],
   "source": [
    "create_template(pdf_path)"
   ]
  },
  {
   "cell_type": "code",
   "execution_count": 8,
   "id": "cb5c8a6c",
   "metadata": {},
   "outputs": [],
   "source": [
    "def scrape_pdf(file):\n",
    "    create_template(file)\n",
    "    template_path = 'pdf_tmp_template.tabula-template.json'\n",
    "    return tb.read_pdf_with_template(file, template_path, stream=True)"
   ]
  },
  {
   "cell_type": "code",
   "execution_count": 9,
   "id": "8138e16d",
   "metadata": {},
   "outputs": [],
   "source": [
    "pdf_path_joe = \"2015_house_pdfs/Wilson_Joe_10012512.pdf\"\n",
    "\n",
    "wrong_pdf_format_db = scrape_pdf(pdf_path_joe)"
   ]
  },
  {
   "cell_type": "code",
   "execution_count": 10,
   "id": "e417454b",
   "metadata": {
    "scrolled": true
   },
   "outputs": [
    {
     "data": {
      "text/plain": [
       "'filer information'"
      ]
     },
     "execution_count": 10,
     "metadata": {},
     "output_type": "execute_result"
    }
   ],
   "source": [
    "wrong_pdf_format_db[0].columns[0].lower()"
   ]
  },
  {
   "cell_type": "code",
   "execution_count": 14,
   "id": "9c56dcec",
   "metadata": {},
   "outputs": [
    {
     "ename": "FileNotFoundError",
     "evalue": "[Errno 2] No such file or directory: '======='",
     "output_type": "error",
     "traceback": [
      "\u001b[0;31m---------------------------------------------------------------------------\u001b[0m",
      "\u001b[0;31mFileNotFoundError\u001b[0m                         Traceback (most recent call last)",
      "Input \u001b[0;32mIn [14]\u001b[0m, in \u001b[0;36m<cell line: 2>\u001b[0;34m()\u001b[0m\n\u001b[1;32m      1\u001b[0m pdf_path_adams \u001b[38;5;241m=\u001b[39m \u001b[38;5;124m\"\u001b[39m\u001b[38;5;124m=======\u001b[39m\u001b[38;5;124m\"\u001b[39m\n\u001b[0;32m----> 2\u001b[0m wrong_DC_form_db \u001b[38;5;241m=\u001b[39m \u001b[43mscrape_pdf\u001b[49m\u001b[43m(\u001b[49m\u001b[43mpdf_path_adams\u001b[49m\u001b[43m)\u001b[49m\n",
      "Input \u001b[0;32mIn [8]\u001b[0m, in \u001b[0;36mscrape_pdf\u001b[0;34m(file)\u001b[0m\n\u001b[1;32m      1\u001b[0m \u001b[38;5;28;01mdef\u001b[39;00m \u001b[38;5;21mscrape_pdf\u001b[39m(file):\n\u001b[0;32m----> 2\u001b[0m     \u001b[43mcreate_template\u001b[49m\u001b[43m(\u001b[49m\u001b[43mfile\u001b[49m\u001b[43m)\u001b[49m\n\u001b[1;32m      3\u001b[0m     template_path \u001b[38;5;241m=\u001b[39m \u001b[38;5;124m'\u001b[39m\u001b[38;5;124mpdf_tmp_template.tabula-template.json\u001b[39m\u001b[38;5;124m'\u001b[39m\n\u001b[1;32m      4\u001b[0m     \u001b[38;5;28;01mreturn\u001b[39;00m tb\u001b[38;5;241m.\u001b[39mread_pdf_with_template(file, template_path, stream\u001b[38;5;241m=\u001b[39m\u001b[38;5;28;01mTrue\u001b[39;00m)\n",
      "Input \u001b[0;32mIn [6]\u001b[0m, in \u001b[0;36mcreate_template\u001b[0;34m(file_path)\u001b[0m\n\u001b[1;32m      1\u001b[0m \u001b[38;5;28;01mdef\u001b[39;00m \u001b[38;5;21mcreate_template\u001b[39m(file_path):\n\u001b[0;32m----> 2\u001b[0m     file \u001b[38;5;241m=\u001b[39m \u001b[38;5;28;43mopen\u001b[39;49m\u001b[43m(\u001b[49m\u001b[43mfile_path\u001b[49m\u001b[43m,\u001b[49m\u001b[43m \u001b[49m\u001b[38;5;124;43m'\u001b[39;49m\u001b[38;5;124;43mrb\u001b[39;49m\u001b[38;5;124;43m'\u001b[39;49m\u001b[43m)\u001b[49m\n\u001b[1;32m      3\u001b[0m     readpdf \u001b[38;5;241m=\u001b[39m PyPDF2\u001b[38;5;241m.\u001b[39mPdfFileReader(file)\n\u001b[1;32m      4\u001b[0m     total_pages \u001b[38;5;241m=\u001b[39m readpdf\u001b[38;5;241m.\u001b[39mnumPages\n",
      "\u001b[0;31mFileNotFoundError\u001b[0m: [Errno 2] No such file or directory: '======='"
     ]
    }
   ],
   "source": [
    "pdf_path_adams = \"=======\"\n",
    "wrong_DC_form_db = scrape_pdf(pdf_path_adams)"
   ]
  },
  {
   "cell_type": "code",
   "execution_count": 12,
   "id": "1c82acb0",
   "metadata": {},
   "outputs": [
    {
     "data": {
      "text/plain": [
       "True"
      ]
     },
     "execution_count": 12,
     "metadata": {},
     "output_type": "execute_result"
    }
   ],
   "source": [
    "wrong_pdf_format_db[0].columns[0].lower() == 'filer information'"
   ]
  },
  {
   "cell_type": "code",
   "execution_count": 13,
   "id": "2ae520dd",
   "metadata": {},
   "outputs": [
    {
     "ename": "PdfReadError",
     "evalue": "Could not read malformed PDF file",
     "output_type": "error",
     "traceback": [
      "\u001b[0;31m---------------------------------------------------------------------------\u001b[0m",
      "\u001b[0;31mPdfReadError\u001b[0m                              Traceback (most recent call last)",
      "Input \u001b[0;32mIn [13]\u001b[0m, in \u001b[0;36m<cell line: 2>\u001b[0;34m()\u001b[0m\n\u001b[1;32m      1\u001b[0m pdf_path_to_malformed \u001b[38;5;241m=\u001b[39m \u001b[38;5;124m\"\u001b[39m\u001b[38;5;124m2015_house_pdfs/Pelosi_Nancy_20002351.pdf\u001b[39m\u001b[38;5;124m\"\u001b[39m\n\u001b[0;32m----> 2\u001b[0m df_malformed \u001b[38;5;241m=\u001b[39m \u001b[43mscrape_pdf\u001b[49m\u001b[43m(\u001b[49m\u001b[43mpdf_path_to_malformed\u001b[49m\u001b[43m)\u001b[49m\n",
      "Input \u001b[0;32mIn [8]\u001b[0m, in \u001b[0;36mscrape_pdf\u001b[0;34m(file)\u001b[0m\n\u001b[1;32m      1\u001b[0m \u001b[38;5;28;01mdef\u001b[39;00m \u001b[38;5;21mscrape_pdf\u001b[39m(file):\n\u001b[0;32m----> 2\u001b[0m     \u001b[43mcreate_template\u001b[49m\u001b[43m(\u001b[49m\u001b[43mfile\u001b[49m\u001b[43m)\u001b[49m\n\u001b[1;32m      3\u001b[0m     template_path \u001b[38;5;241m=\u001b[39m \u001b[38;5;124m'\u001b[39m\u001b[38;5;124mpdf_tmp_template.tabula-template.json\u001b[39m\u001b[38;5;124m'\u001b[39m\n\u001b[1;32m      4\u001b[0m     \u001b[38;5;28;01mreturn\u001b[39;00m tb\u001b[38;5;241m.\u001b[39mread_pdf_with_template(file, template_path, stream\u001b[38;5;241m=\u001b[39m\u001b[38;5;28;01mTrue\u001b[39;00m)\n",
      "Input \u001b[0;32mIn [6]\u001b[0m, in \u001b[0;36mcreate_template\u001b[0;34m(file_path)\u001b[0m\n\u001b[1;32m      1\u001b[0m \u001b[38;5;28;01mdef\u001b[39;00m \u001b[38;5;21mcreate_template\u001b[39m(file_path):\n\u001b[1;32m      2\u001b[0m     file \u001b[38;5;241m=\u001b[39m \u001b[38;5;28mopen\u001b[39m(file_path, \u001b[38;5;124m'\u001b[39m\u001b[38;5;124mrb\u001b[39m\u001b[38;5;124m'\u001b[39m)\n\u001b[0;32m----> 3\u001b[0m     readpdf \u001b[38;5;241m=\u001b[39m \u001b[43mPyPDF2\u001b[49m\u001b[38;5;241;43m.\u001b[39;49m\u001b[43mPdfFileReader\u001b[49m\u001b[43m(\u001b[49m\u001b[43mfile\u001b[49m\u001b[43m)\u001b[49m\n\u001b[1;32m      4\u001b[0m     total_pages \u001b[38;5;241m=\u001b[39m readpdf\u001b[38;5;241m.\u001b[39mnumPages\n\u001b[1;32m      5\u001b[0m     \u001b[38;5;28;01mwith\u001b[39;00m \u001b[38;5;28mopen\u001b[39m(\u001b[38;5;124m\"\u001b[39m\u001b[38;5;124mpdf_reduced_template.tabula-template.json\u001b[39m\u001b[38;5;124m\"\u001b[39m, \u001b[38;5;124m\"\u001b[39m\u001b[38;5;124mr\u001b[39m\u001b[38;5;124m\"\u001b[39m) \u001b[38;5;28;01mas\u001b[39;00m jsonTemplate:\n",
      "File \u001b[0;32m~/.local/lib/python3.10/site-packages/PyPDF2/pdf.py:1208\u001b[0m, in \u001b[0;36mPdfFileReader.__init__\u001b[0;34m(self, stream, strict, warndest, overwriteWarnings)\u001b[0m\n\u001b[1;32m   1206\u001b[0m     \u001b[38;5;28;01mwith\u001b[39;00m \u001b[38;5;28mopen\u001b[39m(stream, \u001b[38;5;124m'\u001b[39m\u001b[38;5;124mrb\u001b[39m\u001b[38;5;124m'\u001b[39m) \u001b[38;5;28;01mas\u001b[39;00m fileobj:\n\u001b[1;32m   1207\u001b[0m         stream \u001b[38;5;241m=\u001b[39m BytesIO(b_(fileobj\u001b[38;5;241m.\u001b[39mread()))\n\u001b[0;32m-> 1208\u001b[0m \u001b[38;5;28;43mself\u001b[39;49m\u001b[38;5;241;43m.\u001b[39;49m\u001b[43mread\u001b[49m\u001b[43m(\u001b[49m\u001b[43mstream\u001b[49m\u001b[43m)\u001b[49m\n\u001b[1;32m   1209\u001b[0m \u001b[38;5;28mself\u001b[39m\u001b[38;5;241m.\u001b[39mstream \u001b[38;5;241m=\u001b[39m stream\n\u001b[1;32m   1211\u001b[0m \u001b[38;5;28mself\u001b[39m\u001b[38;5;241m.\u001b[39m_override_encryption \u001b[38;5;241m=\u001b[39m \u001b[38;5;28;01mFalse\u001b[39;00m\n",
      "File \u001b[0;32m~/.local/lib/python3.10/site-packages/PyPDF2/pdf.py:1828\u001b[0m, in \u001b[0;36mPdfFileReader.read\u001b[0;34m(self, stream)\u001b[0m\n\u001b[1;32m   1826\u001b[0m     \u001b[38;5;28;01mif\u001b[39;00m stream\u001b[38;5;241m.\u001b[39mtell() \u001b[38;5;241m<\u001b[39m last1K:\n\u001b[1;32m   1827\u001b[0m         \u001b[38;5;28;01mraise\u001b[39;00m PdfReadError(\u001b[38;5;124m\"\u001b[39m\u001b[38;5;124mEOF marker not found\u001b[39m\u001b[38;5;124m\"\u001b[39m)\n\u001b[0;32m-> 1828\u001b[0m     line \u001b[38;5;241m=\u001b[39m \u001b[38;5;28;43mself\u001b[39;49m\u001b[38;5;241;43m.\u001b[39;49m\u001b[43mreadNextEndLine\u001b[49m\u001b[43m(\u001b[49m\u001b[43mstream\u001b[49m\u001b[43m,\u001b[49m\u001b[43m \u001b[49m\u001b[43mlast1K\u001b[49m\u001b[43m)\u001b[49m\n\u001b[1;32m   1829\u001b[0m     \u001b[38;5;28;01mif\u001b[39;00m debug: \u001b[38;5;28mprint\u001b[39m(\u001b[38;5;124m\"\u001b[39m\u001b[38;5;124m  line:\u001b[39m\u001b[38;5;124m\"\u001b[39m,line)\n\u001b[1;32m   1831\u001b[0m \u001b[38;5;66;03m# find startxref entry - the location of the xref table\u001b[39;00m\n",
      "File \u001b[0;32m~/.local/lib/python3.10/site-packages/PyPDF2/pdf.py:2078\u001b[0m, in \u001b[0;36mPdfFileReader.readNextEndLine\u001b[0;34m(self, stream, limit_offset)\u001b[0m\n\u001b[1;32m   2075\u001b[0m \u001b[38;5;28;01mwhile\u001b[39;00m \u001b[38;5;28;01mTrue\u001b[39;00m:\n\u001b[1;32m   2076\u001b[0m     \u001b[38;5;66;03m# Prevent infinite loops in malformed PDFs\u001b[39;00m\n\u001b[1;32m   2077\u001b[0m     \u001b[38;5;28;01mif\u001b[39;00m stream\u001b[38;5;241m.\u001b[39mtell() \u001b[38;5;241m==\u001b[39m \u001b[38;5;241m0\u001b[39m \u001b[38;5;129;01mor\u001b[39;00m stream\u001b[38;5;241m.\u001b[39mtell() \u001b[38;5;241m==\u001b[39m limit_offset:\n\u001b[0;32m-> 2078\u001b[0m         \u001b[38;5;28;01mraise\u001b[39;00m PdfReadError(\u001b[38;5;124m\"\u001b[39m\u001b[38;5;124mCould not read malformed PDF file\u001b[39m\u001b[38;5;124m\"\u001b[39m)\n\u001b[1;32m   2079\u001b[0m     x \u001b[38;5;241m=\u001b[39m stream\u001b[38;5;241m.\u001b[39mread(\u001b[38;5;241m1\u001b[39m)\n\u001b[1;32m   2080\u001b[0m     \u001b[38;5;28;01mif\u001b[39;00m debug: \u001b[38;5;28mprint\u001b[39m((\u001b[38;5;124m\"\u001b[39m\u001b[38;5;124m  x:\u001b[39m\u001b[38;5;124m\"\u001b[39m, x, \u001b[38;5;124m\"\u001b[39m\u001b[38;5;132;01m%x\u001b[39;00m\u001b[38;5;124m\"\u001b[39m\u001b[38;5;241m%\u001b[39m\u001b[38;5;28mord\u001b[39m(x)))\n",
      "\u001b[0;31mPdfReadError\u001b[0m: Could not read malformed PDF file"
     ]
    }
   ],
   "source": [
    "pdf_path_to_malformed = \"2015_house_pdfs/Pelosi_Nancy_20002351.pdf\"\n",
    "df_malformed = scrape_pdf(pdf_path_to_malformed)"
   ]
  }
 ],
 "metadata": {
  "kernelspec": {
   "display_name": "Python 3 (ipykernel)",
   "language": "python",
   "name": "python3"
  },
  "language_info": {
   "codemirror_mode": {
    "name": "ipython",
    "version": 3
   },
   "file_extension": ".py",
   "mimetype": "text/x-python",
   "name": "python",
   "nbconvert_exporter": "python",
   "pygments_lexer": "ipython3",
   "version": "3.10.4"
  }
 },
 "nbformat": 4,
 "nbformat_minor": 5
}
